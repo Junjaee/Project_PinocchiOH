{
  "nbformat": 4,
  "nbformat_minor": 0,
  "metadata": {
    "colab": {
      "name": "finalProject_acorn",
      "provenance": [],
      "collapsed_sections": [],
      "authorship_tag": "ABX9TyM9b1BKqe0Ft2ky04comWAZ",
      "include_colab_link": true
    },
    "kernelspec": {
      "name": "python3",
      "display_name": "Python 3"
    },
    "language_info": {
      "name": "python"
    }
  },
  "cells": [
    {
      "cell_type": "markdown",
      "metadata": {
        "id": "view-in-github",
        "colab_type": "text"
      },
      "source": [
        "<a href=\"https://colab.research.google.com/github/Junjaee/Project_PinocchiOH/blob/main/finalProject_acorn.ipynb\" target=\"_parent\"><img src=\"https://colab.research.google.com/assets/colab-badge.svg\" alt=\"Open In Colab\"/></a>"
      ]
    },
    {
      "cell_type": "code",
      "metadata": {
        "id": "WOQe5A_SscpS"
      },
      "source": [
        "import pandas as pd\n",
        "import numpy as np\n",
        "from sklearn.metrics.pairwise import cosine_similarity\n",
        "from sklearn.feature_extraction.text import CountVectorizer\n"
      ],
      "execution_count": 431,
      "outputs": []
    },
    {
      "cell_type": "code",
      "metadata": {
        "colab": {
          "resources": {
            "http://localhost:8080/nbextensions/google.colab/files.js": {
              "data": "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",
              "ok": true,
              "headers": [
                [
                  "content-type",
                  "application/javascript"
                ]
              ],
              "status": 200,
              "status_text": ""
            }
          },
          "base_uri": "https://localhost:8080/",
          "height": 73
        },
        "id": "RghqdrGgtX_s",
        "outputId": "6bcc19c6-945b-43d5-ee17-617107f28d1d"
      },
      "source": [
        "#데이터 불러오기 \n",
        "\n",
        "from google.colab import files\n",
        "uploaded =files.upload()"
      ],
      "execution_count": 432,
      "outputs": [
        {
          "output_type": "display_data",
          "data": {
            "text/html": [
              "\n",
              "     <input type=\"file\" id=\"files-d7ff4aa6-7483-4305-b5b5-4360f3cca216\" name=\"files[]\" multiple disabled\n",
              "        style=\"border:none\" />\n",
              "     <output id=\"result-d7ff4aa6-7483-4305-b5b5-4360f3cca216\">\n",
              "      Upload widget is only available when the cell has been executed in the\n",
              "      current browser session. Please rerun this cell to enable.\n",
              "      </output>\n",
              "      <script src=\"/nbextensions/google.colab/files.js\"></script> "
            ],
            "text/plain": [
              "<IPython.core.display.HTML object>"
            ]
          },
          "metadata": {
            "tags": []
          }
        },
        {
          "output_type": "stream",
          "text": [
            "Saving navermovie_final.xlsx to navermovie_final (1).xlsx\n"
          ],
          "name": "stdout"
        }
      ]
    },
    {
      "cell_type": "code",
      "metadata": {
        "colab": {
          "base_uri": "https://localhost:8080/",
          "height": 264
        },
        "id": "1oT57AvCt50R",
        "outputId": "bf7d0c17-5ba8-42d2-e86c-467bdc2282f3"
      },
      "source": [
        "#데이터 저장\n",
        "df =pd.read_excel('navermovie_final.xlsx')\n",
        "df.head(3)"
      ],
      "execution_count": 458,
      "outputs": [
        {
          "output_type": "execute_result",
          "data": {
            "text/html": [
              "<div>\n",
              "<style scoped>\n",
              "    .dataframe tbody tr th:only-of-type {\n",
              "        vertical-align: middle;\n",
              "    }\n",
              "\n",
              "    .dataframe tbody tr th {\n",
              "        vertical-align: top;\n",
              "    }\n",
              "\n",
              "    .dataframe thead th {\n",
              "        text-align: right;\n",
              "    }\n",
              "</style>\n",
              "<table border=\"1\" class=\"dataframe\">\n",
              "  <thead>\n",
              "    <tr style=\"text-align: right;\">\n",
              "      <th></th>\n",
              "      <th>Unnamed: 0</th>\n",
              "      <th>MOVIE_CODE</th>\n",
              "      <th>MOVIE_TITLE</th>\n",
              "      <th>MOVIE_YEAR</th>\n",
              "      <th>MOVIE_RATING</th>\n",
              "      <th>MOVIE_GENRE</th>\n",
              "      <th>MOVIE_COUNTRY</th>\n",
              "      <th>MOVIE_RTIME</th>\n",
              "      <th>MOVIE_DIRECTOR</th>\n",
              "      <th>MOVIE_ACTOR</th>\n",
              "      <th>MOVIE_AGE10</th>\n",
              "      <th>MOVIE_AGE20</th>\n",
              "      <th>MOVIE_AGE30</th>\n",
              "      <th>MOVIE_AGE40</th>\n",
              "      <th>MOVIE_AGE50</th>\n",
              "    </tr>\n",
              "  </thead>\n",
              "  <tbody>\n",
              "    <tr>\n",
              "      <th>0</th>\n",
              "      <td>0</td>\n",
              "      <td>10001</td>\n",
              "      <td>시네마 천국</td>\n",
              "      <td>1988</td>\n",
              "      <td>9.33</td>\n",
              "      <td>드라마,멜로/로맨스</td>\n",
              "      <td>프랑스,이탈리아</td>\n",
              "      <td>124</td>\n",
              "      <td>쥬세페 토르나토레</td>\n",
              "      <td>마르코 레오나르디,필립 느와레,자끄 페렝</td>\n",
              "      <td>9</td>\n",
              "      <td>47</td>\n",
              "      <td>25</td>\n",
              "      <td>6</td>\n",
              "      <td>12</td>\n",
              "    </tr>\n",
              "    <tr>\n",
              "      <th>1</th>\n",
              "      <td>1</td>\n",
              "      <td>10002</td>\n",
              "      <td>빽 투 더 퓨쳐</td>\n",
              "      <td>1985</td>\n",
              "      <td>9.42</td>\n",
              "      <td>SF,코미디</td>\n",
              "      <td>미국</td>\n",
              "      <td>120</td>\n",
              "      <td>로버트 저메키스</td>\n",
              "      <td>마이클 J. 폭스,크리스토퍼 로이드,리 톰슨</td>\n",
              "      <td>2</td>\n",
              "      <td>61</td>\n",
              "      <td>18</td>\n",
              "      <td>16</td>\n",
              "      <td>2</td>\n",
              "    </tr>\n",
              "    <tr>\n",
              "      <th>2</th>\n",
              "      <td>2</td>\n",
              "      <td>10003</td>\n",
              "      <td>빽 투 더 퓨쳐 2</td>\n",
              "      <td>1989</td>\n",
              "      <td>9.24</td>\n",
              "      <td>SF,코미디</td>\n",
              "      <td>미국</td>\n",
              "      <td>107</td>\n",
              "      <td>로버트 저메키스</td>\n",
              "      <td>마이클 J. 폭스,크리스토퍼 로이드</td>\n",
              "      <td>0</td>\n",
              "      <td>45</td>\n",
              "      <td>52</td>\n",
              "      <td>3</td>\n",
              "      <td>0</td>\n",
              "    </tr>\n",
              "  </tbody>\n",
              "</table>\n",
              "</div>"
            ],
            "text/plain": [
              "   Unnamed: 0  MOVIE_CODE MOVIE_TITLE  ... MOVIE_AGE30  MOVIE_AGE40 MOVIE_AGE50\n",
              "0           0       10001      시네마 천국  ...          25            6          12\n",
              "1           1       10002    빽 투 더 퓨쳐  ...          18           16           2\n",
              "2           2       10003  빽 투 더 퓨쳐 2  ...          52            3           0\n",
              "\n",
              "[3 rows x 15 columns]"
            ]
          },
          "metadata": {
            "tags": []
          },
          "execution_count": 458
        }
      ]
    },
    {
      "cell_type": "code",
      "metadata": {
        "colab": {
          "base_uri": "https://localhost:8080/"
        },
        "id": "K9o3zXLjucIq",
        "outputId": "19f04614-58d4-4ecd-97dd-2e78232fcdf5"
      },
      "source": [
        "df.shape"
      ],
      "execution_count": 459,
      "outputs": [
        {
          "output_type": "execute_result",
          "data": {
            "text/plain": [
              "(4289, 15)"
            ]
          },
          "metadata": {
            "tags": []
          },
          "execution_count": 459
        }
      ]
    },
    {
      "cell_type": "code",
      "metadata": {
        "id": "znwgyVVXvDvB"
      },
      "source": [
        "# 칼럼중에서 추천알고리즘에 쓸꺼 고르기\n",
        "\n",
        "columns = ['MOVIE_TITLE', 'MOVIE_GENRE','MOVIE_DIRECTOR','MOVIE_ACTOR']"
      ],
      "execution_count": 460,
      "outputs": []
    },
    {
      "cell_type": "code",
      "metadata": {
        "colab": {
          "base_uri": "https://localhost:8080/",
          "height": 142
        },
        "id": "zkTCakuJvfCk",
        "outputId": "4c45a00d-45de-41bc-9656-44cbb70fbaca"
      },
      "source": [
        "df[columns].head(3)"
      ],
      "execution_count": 461,
      "outputs": [
        {
          "output_type": "execute_result",
          "data": {
            "text/html": [
              "<div>\n",
              "<style scoped>\n",
              "    .dataframe tbody tr th:only-of-type {\n",
              "        vertical-align: middle;\n",
              "    }\n",
              "\n",
              "    .dataframe tbody tr th {\n",
              "        vertical-align: top;\n",
              "    }\n",
              "\n",
              "    .dataframe thead th {\n",
              "        text-align: right;\n",
              "    }\n",
              "</style>\n",
              "<table border=\"1\" class=\"dataframe\">\n",
              "  <thead>\n",
              "    <tr style=\"text-align: right;\">\n",
              "      <th></th>\n",
              "      <th>MOVIE_TITLE</th>\n",
              "      <th>MOVIE_GENRE</th>\n",
              "      <th>MOVIE_DIRECTOR</th>\n",
              "      <th>MOVIE_ACTOR</th>\n",
              "    </tr>\n",
              "  </thead>\n",
              "  <tbody>\n",
              "    <tr>\n",
              "      <th>0</th>\n",
              "      <td>시네마 천국</td>\n",
              "      <td>드라마,멜로/로맨스</td>\n",
              "      <td>쥬세페 토르나토레</td>\n",
              "      <td>마르코 레오나르디,필립 느와레,자끄 페렝</td>\n",
              "    </tr>\n",
              "    <tr>\n",
              "      <th>1</th>\n",
              "      <td>빽 투 더 퓨쳐</td>\n",
              "      <td>SF,코미디</td>\n",
              "      <td>로버트 저메키스</td>\n",
              "      <td>마이클 J. 폭스,크리스토퍼 로이드,리 톰슨</td>\n",
              "    </tr>\n",
              "    <tr>\n",
              "      <th>2</th>\n",
              "      <td>빽 투 더 퓨쳐 2</td>\n",
              "      <td>SF,코미디</td>\n",
              "      <td>로버트 저메키스</td>\n",
              "      <td>마이클 J. 폭스,크리스토퍼 로이드</td>\n",
              "    </tr>\n",
              "  </tbody>\n",
              "</table>\n",
              "</div>"
            ],
            "text/plain": [
              "  MOVIE_TITLE MOVIE_GENRE MOVIE_DIRECTOR               MOVIE_ACTOR\n",
              "0      시네마 천국  드라마,멜로/로맨스      쥬세페 토르나토레    마르코 레오나르디,필립 느와레,자끄 페렝\n",
              "1    빽 투 더 퓨쳐      SF,코미디       로버트 저메키스  마이클 J. 폭스,크리스토퍼 로이드,리 톰슨\n",
              "2  빽 투 더 퓨쳐 2      SF,코미디       로버트 저메키스       마이클 J. 폭스,크리스토퍼 로이드"
            ]
          },
          "metadata": {
            "tags": []
          },
          "execution_count": 461
        }
      ]
    },
    {
      "cell_type": "code",
      "metadata": {
        "colab": {
          "base_uri": "https://localhost:8080/"
        },
        "id": "T_Ad9jcGviCl",
        "outputId": "fc8ead49-6ba2-465e-fba9-b2eb41673d49"
      },
      "source": [
        "#결측치 있는지 확인 \n",
        "\n",
        "df[columns].isnull().values.any()"
      ],
      "execution_count": 462,
      "outputs": [
        {
          "output_type": "execute_result",
          "data": {
            "text/plain": [
              "True"
            ]
          },
          "metadata": {
            "tags": []
          },
          "execution_count": 462
        }
      ]
    },
    {
      "cell_type": "code",
      "metadata": {
        "colab": {
          "base_uri": "https://localhost:8080/"
        },
        "id": "msRAoIiLwZm2",
        "outputId": "0fe4d6be-08da-4a66-d21a-aee9f4c3f574"
      },
      "source": [
        "df[columns].shape"
      ],
      "execution_count": 463,
      "outputs": [
        {
          "output_type": "execute_result",
          "data": {
            "text/plain": [
              "(4289, 4)"
            ]
          },
          "metadata": {
            "tags": []
          },
          "execution_count": 463
        }
      ]
    },
    {
      "cell_type": "code",
      "metadata": {
        "id": "HKrhZRVSvuEV"
      },
      "source": [
        "#결측치 있네..? 제거하기.. \n",
        "df1= df[columns].dropna()"
      ],
      "execution_count": 464,
      "outputs": []
    },
    {
      "cell_type": "code",
      "metadata": {
        "colab": {
          "base_uri": "https://localhost:8080/"
        },
        "id": "L21Rlt1ev0kR",
        "outputId": "48d711bb-7cd2-4018-e1fd-3945f1eade9d"
      },
      "source": [
        "#제거하니까 7개 없어짐 갠춘 ㅎㅎ\n",
        "df1.shape"
      ],
      "execution_count": 465,
      "outputs": [
        {
          "output_type": "execute_result",
          "data": {
            "text/plain": [
              "(4282, 4)"
            ]
          },
          "metadata": {
            "tags": []
          },
          "execution_count": 465
        }
      ]
    },
    {
      "cell_type": "code",
      "metadata": {
        "colab": {
          "base_uri": "https://localhost:8080/"
        },
        "id": "-gU3xAQcyJ0N",
        "outputId": "b6bbecb6-3410-4566-90d7-a884d23f2634"
      },
      "source": [
        "#df1 데이터 타입 보기 \n",
        "df1.dtypes"
      ],
      "execution_count": 467,
      "outputs": [
        {
          "output_type": "execute_result",
          "data": {
            "text/plain": [
              "MOVIE_TITLE       object\n",
              "MOVIE_GENRE       object\n",
              "MOVIE_DIRECTOR    object\n",
              "MOVIE_ACTOR       object\n",
              "dtype: object"
            ]
          },
          "metadata": {
            "tags": []
          },
          "execution_count": 467
        }
      ]
    },
    {
      "cell_type": "code",
      "metadata": {
        "id": "Zu8GFfNI10Gn"
      },
      "source": [
        "#'MOVIE_TITLE', 'MOVIE_GENRE','MOVIE_DIRECTOR','MOVIE_ACTOR'\n",
        "\n",
        "important_features = []\n",
        "important_features.append(df1['MOVIE_TITLE']+' '+df1['MOVIE_GENRE']+' '+df1['MOVIE_DIRECTOR']+' '+df1['MOVIE_ACTOR'])\n"
      ],
      "execution_count": 468,
      "outputs": []
    },
    {
      "cell_type": "code",
      "metadata": {
        "id": "XI5FNPMG2rLC"
      },
      "source": [
        "df_important = pd.DataFrame(important_features)\n"
      ],
      "execution_count": 469,
      "outputs": []
    },
    {
      "cell_type": "code",
      "metadata": {
        "id": "tfhiCauO38HS"
      },
      "source": [
        "df_important = df_important.T"
      ],
      "execution_count": 470,
      "outputs": []
    },
    {
      "cell_type": "code",
      "metadata": {
        "colab": {
          "base_uri": "https://localhost:8080/",
          "height": 419
        },
        "id": "yodJmL7Q4H24",
        "outputId": "f457ec44-0972-4654-aa36-c955c26cb7c7"
      },
      "source": [
        "df_important"
      ],
      "execution_count": 471,
      "outputs": [
        {
          "output_type": "execute_result",
          "data": {
            "text/html": [
              "<div>\n",
              "<style scoped>\n",
              "    .dataframe tbody tr th:only-of-type {\n",
              "        vertical-align: middle;\n",
              "    }\n",
              "\n",
              "    .dataframe tbody tr th {\n",
              "        vertical-align: top;\n",
              "    }\n",
              "\n",
              "    .dataframe thead th {\n",
              "        text-align: right;\n",
              "    }\n",
              "</style>\n",
              "<table border=\"1\" class=\"dataframe\">\n",
              "  <thead>\n",
              "    <tr style=\"text-align: right;\">\n",
              "      <th></th>\n",
              "      <th>0</th>\n",
              "    </tr>\n",
              "  </thead>\n",
              "  <tbody>\n",
              "    <tr>\n",
              "      <th>0</th>\n",
              "      <td>시네마 천국 드라마,멜로/로맨스 쥬세페 토르나토레 마르코 레오나르디,필립 느와레,자...</td>\n",
              "    </tr>\n",
              "    <tr>\n",
              "      <th>1</th>\n",
              "      <td>빽 투 더 퓨쳐 SF,코미디 로버트 저메키스 마이클 J. 폭스,크리스토퍼 로이드,리 톰슨</td>\n",
              "    </tr>\n",
              "    <tr>\n",
              "      <th>2</th>\n",
              "      <td>빽 투 더 퓨쳐 2 SF,코미디 로버트 저메키스 마이클 J. 폭스,크리스토퍼 로이드</td>\n",
              "    </tr>\n",
              "    <tr>\n",
              "      <th>3</th>\n",
              "      <td>금지된 장난 드라마,전쟁 르네 클레망 조르주 푸줄리,브리지트 포시</td>\n",
              "    </tr>\n",
              "    <tr>\n",
              "      <th>4</th>\n",
              "      <td>바람과 함께 사라지다 드라마,전쟁,멜로/로맨스 빅터 플레밍 클라크 게이블,비비안 리...</td>\n",
              "    </tr>\n",
              "    <tr>\n",
              "      <th>...</th>\n",
              "      <td>...</td>\n",
              "    </tr>\n",
              "    <tr>\n",
              "      <th>4284</th>\n",
              "      <td>썰 코미디,스릴러,미스터리,공포 황승재 김강현,찬희,김소라</td>\n",
              "    </tr>\n",
              "    <tr>\n",
              "      <th>4285</th>\n",
              "      <td>체르노빌 1986 액션,스릴러 다닐라 코즐로브스키 다닐라 코즐로브스키,오크사나 아킨...</td>\n",
              "    </tr>\n",
              "    <tr>\n",
              "      <th>4286</th>\n",
              "      <td>와인 패밀리 드라마,코미디,멜로/로맨스 숀 시스터나 조 판톨리아노,웬디 크로슨,폴라...</td>\n",
              "    </tr>\n",
              "    <tr>\n",
              "      <th>4287</th>\n",
              "      <td>괴기맨숀 공포 조바른 성준,김홍파,김보라</td>\n",
              "    </tr>\n",
              "    <tr>\n",
              "      <th>4288</th>\n",
              "      <td>아이스 로드 스릴러 조나단 헨슬레이 리암 니슨,로렌스 피시번</td>\n",
              "    </tr>\n",
              "  </tbody>\n",
              "</table>\n",
              "<p>4282 rows × 1 columns</p>\n",
              "</div>"
            ],
            "text/plain": [
              "                                                      0\n",
              "0     시네마 천국 드라마,멜로/로맨스 쥬세페 토르나토레 마르코 레오나르디,필립 느와레,자...\n",
              "1     빽 투 더 퓨쳐 SF,코미디 로버트 저메키스 마이클 J. 폭스,크리스토퍼 로이드,리 톰슨\n",
              "2        빽 투 더 퓨쳐 2 SF,코미디 로버트 저메키스 마이클 J. 폭스,크리스토퍼 로이드\n",
              "3                  금지된 장난 드라마,전쟁 르네 클레망 조르주 푸줄리,브리지트 포시\n",
              "4     바람과 함께 사라지다 드라마,전쟁,멜로/로맨스 빅터 플레밍 클라크 게이블,비비안 리...\n",
              "...                                                 ...\n",
              "4284                   썰 코미디,스릴러,미스터리,공포 황승재 김강현,찬희,김소라\n",
              "4285  체르노빌 1986 액션,스릴러 다닐라 코즐로브스키 다닐라 코즐로브스키,오크사나 아킨...\n",
              "4286  와인 패밀리 드라마,코미디,멜로/로맨스 숀 시스터나 조 판톨리아노,웬디 크로슨,폴라...\n",
              "4287                             괴기맨숀 공포 조바른 성준,김홍파,김보라\n",
              "4288                  아이스 로드 스릴러 조나단 헨슬레이 리암 니슨,로렌스 피시번\n",
              "\n",
              "[4282 rows x 1 columns]"
            ]
          },
          "metadata": {
            "tags": []
          },
          "execution_count": 471
        }
      ]
    },
    {
      "cell_type": "code",
      "metadata": {
        "id": "brsoa6c0xfvD"
      },
      "source": [
        "#위에서 만든 칼럼모은거 넣을 원래 데이터에 칼럼으로 추가\n",
        "#index 로 merge 하기\n",
        "\n",
        "df= pd.merge(df, df_important, how='right', left_index=True, right_index=True)"
      ],
      "execution_count": 472,
      "outputs": []
    },
    {
      "cell_type": "code",
      "metadata": {
        "colab": {
          "base_uri": "https://localhost:8080/",
          "height": 1000
        },
        "id": "PD6ZMObsAnih",
        "outputId": "19abb957-eeec-4285-84c4-696e816da807"
      },
      "source": [
        "df.head()"
      ],
      "execution_count": 475,
      "outputs": [
        {
          "output_type": "execute_result",
          "data": {
            "text/html": [
              "<div>\n",
              "<style scoped>\n",
              "    .dataframe tbody tr th:only-of-type {\n",
              "        vertical-align: middle;\n",
              "    }\n",
              "\n",
              "    .dataframe tbody tr th {\n",
              "        vertical-align: top;\n",
              "    }\n",
              "\n",
              "    .dataframe thead th {\n",
              "        text-align: right;\n",
              "    }\n",
              "</style>\n",
              "<table border=\"1\" class=\"dataframe\">\n",
              "  <thead>\n",
              "    <tr style=\"text-align: right;\">\n",
              "      <th></th>\n",
              "      <th>Unnamed: 0</th>\n",
              "      <th>MOVIE_CODE</th>\n",
              "      <th>MOVIE_TITLE</th>\n",
              "      <th>MOVIE_YEAR</th>\n",
              "      <th>MOVIE_RATING</th>\n",
              "      <th>MOVIE_GENRE</th>\n",
              "      <th>MOVIE_COUNTRY</th>\n",
              "      <th>MOVIE_RTIME</th>\n",
              "      <th>MOVIE_DIRECTOR</th>\n",
              "      <th>MOVIE_ACTOR</th>\n",
              "      <th>MOVIE_AGE10</th>\n",
              "      <th>MOVIE_AGE20</th>\n",
              "      <th>MOVIE_AGE30</th>\n",
              "      <th>MOVIE_AGE40</th>\n",
              "      <th>MOVIE_AGE50</th>\n",
              "      <th>0</th>\n",
              "    </tr>\n",
              "  </thead>\n",
              "  <tbody>\n",
              "    <tr>\n",
              "      <th>0</th>\n",
              "      <td>0</td>\n",
              "      <td>10001</td>\n",
              "      <td>시네마 천국</td>\n",
              "      <td>1988</td>\n",
              "      <td>9.33</td>\n",
              "      <td>드라마,멜로/로맨스</td>\n",
              "      <td>프랑스,이탈리아</td>\n",
              "      <td>124</td>\n",
              "      <td>쥬세페 토르나토레</td>\n",
              "      <td>마르코 레오나르디,필립 느와레,자끄 페렝</td>\n",
              "      <td>9</td>\n",
              "      <td>47</td>\n",
              "      <td>25</td>\n",
              "      <td>6</td>\n",
              "      <td>12</td>\n",
              "      <td>시네마 천국 드라마,멜로/로맨스 쥬세페 토르나토레 마르코 레오나르디,필립 느와레,자...</td>\n",
              "    </tr>\n",
              "    <tr>\n",
              "      <th>1</th>\n",
              "      <td>1</td>\n",
              "      <td>10002</td>\n",
              "      <td>빽 투 더 퓨쳐</td>\n",
              "      <td>1985</td>\n",
              "      <td>9.42</td>\n",
              "      <td>SF,코미디</td>\n",
              "      <td>미국</td>\n",
              "      <td>120</td>\n",
              "      <td>로버트 저메키스</td>\n",
              "      <td>마이클 J. 폭스,크리스토퍼 로이드,리 톰슨</td>\n",
              "      <td>2</td>\n",
              "      <td>61</td>\n",
              "      <td>18</td>\n",
              "      <td>16</td>\n",
              "      <td>2</td>\n",
              "      <td>빽 투 더 퓨쳐 SF,코미디 로버트 저메키스 마이클 J. 폭스,크리스토퍼 로이드,리 톰슨</td>\n",
              "    </tr>\n",
              "    <tr>\n",
              "      <th>2</th>\n",
              "      <td>2</td>\n",
              "      <td>10003</td>\n",
              "      <td>빽 투 더 퓨쳐 2</td>\n",
              "      <td>1989</td>\n",
              "      <td>9.24</td>\n",
              "      <td>SF,코미디</td>\n",
              "      <td>미국</td>\n",
              "      <td>107</td>\n",
              "      <td>로버트 저메키스</td>\n",
              "      <td>마이클 J. 폭스,크리스토퍼 로이드</td>\n",
              "      <td>0</td>\n",
              "      <td>45</td>\n",
              "      <td>52</td>\n",
              "      <td>3</td>\n",
              "      <td>0</td>\n",
              "      <td>빽 투 더 퓨쳐 2 SF,코미디 로버트 저메키스 마이클 J. 폭스,크리스토퍼 로이드</td>\n",
              "    </tr>\n",
              "    <tr>\n",
              "      <th>3</th>\n",
              "      <td>3</td>\n",
              "      <td>10014</td>\n",
              "      <td>금지된 장난</td>\n",
              "      <td>1952</td>\n",
              "      <td>8.86</td>\n",
              "      <td>드라마,전쟁</td>\n",
              "      <td>프랑스</td>\n",
              "      <td>102</td>\n",
              "      <td>르네 클레망</td>\n",
              "      <td>조르주 푸줄리,브리지트 포시</td>\n",
              "      <td>0</td>\n",
              "      <td>0</td>\n",
              "      <td>100</td>\n",
              "      <td>0</td>\n",
              "      <td>0</td>\n",
              "      <td>금지된 장난 드라마,전쟁 르네 클레망 조르주 푸줄리,브리지트 포시</td>\n",
              "    </tr>\n",
              "    <tr>\n",
              "      <th>4</th>\n",
              "      <td>4</td>\n",
              "      <td>10020</td>\n",
              "      <td>바람과 함께 사라지다</td>\n",
              "      <td>1939</td>\n",
              "      <td>9.23</td>\n",
              "      <td>드라마,전쟁,멜로/로맨스</td>\n",
              "      <td>미국</td>\n",
              "      <td>230</td>\n",
              "      <td>빅터 플레밍</td>\n",
              "      <td>클라크 게이블,비비안 리,레슬리 하워드</td>\n",
              "      <td>7</td>\n",
              "      <td>40</td>\n",
              "      <td>13</td>\n",
              "      <td>27</td>\n",
              "      <td>13</td>\n",
              "      <td>바람과 함께 사라지다 드라마,전쟁,멜로/로맨스 빅터 플레밍 클라크 게이블,비비안 리...</td>\n",
              "    </tr>\n",
              "  </tbody>\n",
              "</table>\n",
              "</div>"
            ],
            "text/plain": [
              "   Unnamed: 0  ...                                                  0\n",
              "0           0  ...  시네마 천국 드라마,멜로/로맨스 쥬세페 토르나토레 마르코 레오나르디,필립 느와레,자...\n",
              "1           1  ...  빽 투 더 퓨쳐 SF,코미디 로버트 저메키스 마이클 J. 폭스,크리스토퍼 로이드,리 톰슨\n",
              "2           2  ...     빽 투 더 퓨쳐 2 SF,코미디 로버트 저메키스 마이클 J. 폭스,크리스토퍼 로이드\n",
              "3           3  ...               금지된 장난 드라마,전쟁 르네 클레망 조르주 푸줄리,브리지트 포시\n",
              "4           4  ...  바람과 함께 사라지다 드라마,전쟁,멜로/로맨스 빅터 플레밍 클라크 게이블,비비안 리...\n",
              "\n",
              "[5 rows x 16 columns]"
            ]
          },
          "metadata": {
            "tags": []
          },
          "execution_count": 475
        }
      ]
    },
    {
      "cell_type": "code",
      "metadata": {
        "id": "wXxWT91Y2B3w"
      },
      "source": [
        "df = df.rename(columns={0:'important_features'})"
      ],
      "execution_count": 476,
      "outputs": []
    },
    {
      "cell_type": "code",
      "metadata": {
        "colab": {
          "base_uri": "https://localhost:8080/",
          "height": 864
        },
        "id": "qKdgWg3TZSMF",
        "outputId": "58af2c54-078d-4539-a81e-cd459c2249c0"
      },
      "source": [
        "df"
      ],
      "execution_count": 477,
      "outputs": [
        {
          "output_type": "execute_result",
          "data": {
            "text/html": [
              "<div>\n",
              "<style scoped>\n",
              "    .dataframe tbody tr th:only-of-type {\n",
              "        vertical-align: middle;\n",
              "    }\n",
              "\n",
              "    .dataframe tbody tr th {\n",
              "        vertical-align: top;\n",
              "    }\n",
              "\n",
              "    .dataframe thead th {\n",
              "        text-align: right;\n",
              "    }\n",
              "</style>\n",
              "<table border=\"1\" class=\"dataframe\">\n",
              "  <thead>\n",
              "    <tr style=\"text-align: right;\">\n",
              "      <th></th>\n",
              "      <th>Unnamed: 0</th>\n",
              "      <th>MOVIE_CODE</th>\n",
              "      <th>MOVIE_TITLE</th>\n",
              "      <th>MOVIE_YEAR</th>\n",
              "      <th>MOVIE_RATING</th>\n",
              "      <th>MOVIE_GENRE</th>\n",
              "      <th>MOVIE_COUNTRY</th>\n",
              "      <th>MOVIE_RTIME</th>\n",
              "      <th>MOVIE_DIRECTOR</th>\n",
              "      <th>MOVIE_ACTOR</th>\n",
              "      <th>MOVIE_AGE10</th>\n",
              "      <th>MOVIE_AGE20</th>\n",
              "      <th>MOVIE_AGE30</th>\n",
              "      <th>MOVIE_AGE40</th>\n",
              "      <th>MOVIE_AGE50</th>\n",
              "      <th>important_features</th>\n",
              "    </tr>\n",
              "  </thead>\n",
              "  <tbody>\n",
              "    <tr>\n",
              "      <th>0</th>\n",
              "      <td>0</td>\n",
              "      <td>10001</td>\n",
              "      <td>시네마 천국</td>\n",
              "      <td>1988</td>\n",
              "      <td>9.33</td>\n",
              "      <td>드라마,멜로/로맨스</td>\n",
              "      <td>프랑스,이탈리아</td>\n",
              "      <td>124</td>\n",
              "      <td>쥬세페 토르나토레</td>\n",
              "      <td>마르코 레오나르디,필립 느와레,자끄 페렝</td>\n",
              "      <td>9</td>\n",
              "      <td>47</td>\n",
              "      <td>25</td>\n",
              "      <td>6</td>\n",
              "      <td>12</td>\n",
              "      <td>시네마 천국 드라마,멜로/로맨스 쥬세페 토르나토레 마르코 레오나르디,필립 느와레,자...</td>\n",
              "    </tr>\n",
              "    <tr>\n",
              "      <th>1</th>\n",
              "      <td>1</td>\n",
              "      <td>10002</td>\n",
              "      <td>빽 투 더 퓨쳐</td>\n",
              "      <td>1985</td>\n",
              "      <td>9.42</td>\n",
              "      <td>SF,코미디</td>\n",
              "      <td>미국</td>\n",
              "      <td>120</td>\n",
              "      <td>로버트 저메키스</td>\n",
              "      <td>마이클 J. 폭스,크리스토퍼 로이드,리 톰슨</td>\n",
              "      <td>2</td>\n",
              "      <td>61</td>\n",
              "      <td>18</td>\n",
              "      <td>16</td>\n",
              "      <td>2</td>\n",
              "      <td>빽 투 더 퓨쳐 SF,코미디 로버트 저메키스 마이클 J. 폭스,크리스토퍼 로이드,리 톰슨</td>\n",
              "    </tr>\n",
              "    <tr>\n",
              "      <th>2</th>\n",
              "      <td>2</td>\n",
              "      <td>10003</td>\n",
              "      <td>빽 투 더 퓨쳐 2</td>\n",
              "      <td>1989</td>\n",
              "      <td>9.24</td>\n",
              "      <td>SF,코미디</td>\n",
              "      <td>미국</td>\n",
              "      <td>107</td>\n",
              "      <td>로버트 저메키스</td>\n",
              "      <td>마이클 J. 폭스,크리스토퍼 로이드</td>\n",
              "      <td>0</td>\n",
              "      <td>45</td>\n",
              "      <td>52</td>\n",
              "      <td>3</td>\n",
              "      <td>0</td>\n",
              "      <td>빽 투 더 퓨쳐 2 SF,코미디 로버트 저메키스 마이클 J. 폭스,크리스토퍼 로이드</td>\n",
              "    </tr>\n",
              "    <tr>\n",
              "      <th>3</th>\n",
              "      <td>3</td>\n",
              "      <td>10014</td>\n",
              "      <td>금지된 장난</td>\n",
              "      <td>1952</td>\n",
              "      <td>8.86</td>\n",
              "      <td>드라마,전쟁</td>\n",
              "      <td>프랑스</td>\n",
              "      <td>102</td>\n",
              "      <td>르네 클레망</td>\n",
              "      <td>조르주 푸줄리,브리지트 포시</td>\n",
              "      <td>0</td>\n",
              "      <td>0</td>\n",
              "      <td>100</td>\n",
              "      <td>0</td>\n",
              "      <td>0</td>\n",
              "      <td>금지된 장난 드라마,전쟁 르네 클레망 조르주 푸줄리,브리지트 포시</td>\n",
              "    </tr>\n",
              "    <tr>\n",
              "      <th>4</th>\n",
              "      <td>4</td>\n",
              "      <td>10020</td>\n",
              "      <td>바람과 함께 사라지다</td>\n",
              "      <td>1939</td>\n",
              "      <td>9.23</td>\n",
              "      <td>드라마,전쟁,멜로/로맨스</td>\n",
              "      <td>미국</td>\n",
              "      <td>230</td>\n",
              "      <td>빅터 플레밍</td>\n",
              "      <td>클라크 게이블,비비안 리,레슬리 하워드</td>\n",
              "      <td>7</td>\n",
              "      <td>40</td>\n",
              "      <td>13</td>\n",
              "      <td>27</td>\n",
              "      <td>13</td>\n",
              "      <td>바람과 함께 사라지다 드라마,전쟁,멜로/로맨스 빅터 플레밍 클라크 게이블,비비안 리...</td>\n",
              "    </tr>\n",
              "    <tr>\n",
              "      <th>...</th>\n",
              "      <td>...</td>\n",
              "      <td>...</td>\n",
              "      <td>...</td>\n",
              "      <td>...</td>\n",
              "      <td>...</td>\n",
              "      <td>...</td>\n",
              "      <td>...</td>\n",
              "      <td>...</td>\n",
              "      <td>...</td>\n",
              "      <td>...</td>\n",
              "      <td>...</td>\n",
              "      <td>...</td>\n",
              "      <td>...</td>\n",
              "      <td>...</td>\n",
              "      <td>...</td>\n",
              "      <td>...</td>\n",
              "    </tr>\n",
              "    <tr>\n",
              "      <th>4284</th>\n",
              "      <td>58</td>\n",
              "      <td>204781</td>\n",
              "      <td>썰</td>\n",
              "      <td>2021</td>\n",
              "      <td>6.33</td>\n",
              "      <td>코미디,스릴러,미스터리,공포</td>\n",
              "      <td>한국</td>\n",
              "      <td>84</td>\n",
              "      <td>황승재</td>\n",
              "      <td>김강현,찬희,김소라</td>\n",
              "      <td>0</td>\n",
              "      <td>100</td>\n",
              "      <td>0</td>\n",
              "      <td>0</td>\n",
              "      <td>0</td>\n",
              "      <td>썰 코미디,스릴러,미스터리,공포 황승재 김강현,찬희,김소라</td>\n",
              "    </tr>\n",
              "    <tr>\n",
              "      <th>4285</th>\n",
              "      <td>59</td>\n",
              "      <td>204782</td>\n",
              "      <td>체르노빌 1986</td>\n",
              "      <td>2021</td>\n",
              "      <td>7.96</td>\n",
              "      <td>액션,스릴러</td>\n",
              "      <td>러시아 연방</td>\n",
              "      <td>136</td>\n",
              "      <td>다닐라 코즐로브스키</td>\n",
              "      <td>다닐라 코즐로브스키,오크사나 아킨쉬나,필리프 아브데예프</td>\n",
              "      <td>9</td>\n",
              "      <td>43</td>\n",
              "      <td>22</td>\n",
              "      <td>22</td>\n",
              "      <td>4</td>\n",
              "      <td>체르노빌 1986 액션,스릴러 다닐라 코즐로브스키 다닐라 코즐로브스키,오크사나 아킨...</td>\n",
              "    </tr>\n",
              "    <tr>\n",
              "      <th>4286</th>\n",
              "      <td>60</td>\n",
              "      <td>205285</td>\n",
              "      <td>와인 패밀리</td>\n",
              "      <td>2019</td>\n",
              "      <td>8.68</td>\n",
              "      <td>드라마,코미디,멜로/로맨스</td>\n",
              "      <td>캐나다,이탈리아</td>\n",
              "      <td>94</td>\n",
              "      <td>숀 시스터나</td>\n",
              "      <td>조 판톨리아노,웬디 크로슨,폴라 브랜카티</td>\n",
              "      <td>0</td>\n",
              "      <td>67</td>\n",
              "      <td>33</td>\n",
              "      <td>0</td>\n",
              "      <td>0</td>\n",
              "      <td>와인 패밀리 드라마,코미디,멜로/로맨스 숀 시스터나 조 판톨리아노,웬디 크로슨,폴라...</td>\n",
              "    </tr>\n",
              "    <tr>\n",
              "      <th>4287</th>\n",
              "      <td>61</td>\n",
              "      <td>205629</td>\n",
              "      <td>괴기맨숀</td>\n",
              "      <td>2021</td>\n",
              "      <td>6.21</td>\n",
              "      <td>공포</td>\n",
              "      <td>한국</td>\n",
              "      <td>106</td>\n",
              "      <td>조바른</td>\n",
              "      <td>성준,김홍파,김보라</td>\n",
              "      <td>0</td>\n",
              "      <td>71</td>\n",
              "      <td>29</td>\n",
              "      <td>0</td>\n",
              "      <td>0</td>\n",
              "      <td>괴기맨숀 공포 조바른 성준,김홍파,김보라</td>\n",
              "    </tr>\n",
              "    <tr>\n",
              "      <th>4288</th>\n",
              "      <td>62</td>\n",
              "      <td>205966</td>\n",
              "      <td>아이스 로드</td>\n",
              "      <td>2021</td>\n",
              "      <td>7.86</td>\n",
              "      <td>스릴러</td>\n",
              "      <td>미국</td>\n",
              "      <td>110</td>\n",
              "      <td>조나단 헨슬레이</td>\n",
              "      <td>리암 니슨,로렌스 피시번</td>\n",
              "      <td>12</td>\n",
              "      <td>12</td>\n",
              "      <td>62</td>\n",
              "      <td>12</td>\n",
              "      <td>0</td>\n",
              "      <td>아이스 로드 스릴러 조나단 헨슬레이 리암 니슨,로렌스 피시번</td>\n",
              "    </tr>\n",
              "  </tbody>\n",
              "</table>\n",
              "<p>4282 rows × 16 columns</p>\n",
              "</div>"
            ],
            "text/plain": [
              "      Unnamed: 0  ...                                 important_features\n",
              "0              0  ...  시네마 천국 드라마,멜로/로맨스 쥬세페 토르나토레 마르코 레오나르디,필립 느와레,자...\n",
              "1              1  ...  빽 투 더 퓨쳐 SF,코미디 로버트 저메키스 마이클 J. 폭스,크리스토퍼 로이드,리 톰슨\n",
              "2              2  ...     빽 투 더 퓨쳐 2 SF,코미디 로버트 저메키스 마이클 J. 폭스,크리스토퍼 로이드\n",
              "3              3  ...               금지된 장난 드라마,전쟁 르네 클레망 조르주 푸줄리,브리지트 포시\n",
              "4              4  ...  바람과 함께 사라지다 드라마,전쟁,멜로/로맨스 빅터 플레밍 클라크 게이블,비비안 리...\n",
              "...          ...  ...                                                ...\n",
              "4284          58  ...                   썰 코미디,스릴러,미스터리,공포 황승재 김강현,찬희,김소라\n",
              "4285          59  ...  체르노빌 1986 액션,스릴러 다닐라 코즐로브스키 다닐라 코즐로브스키,오크사나 아킨...\n",
              "4286          60  ...  와인 패밀리 드라마,코미디,멜로/로맨스 숀 시스터나 조 판톨리아노,웬디 크로슨,폴라...\n",
              "4287          61  ...                             괴기맨숀 공포 조바른 성준,김홍파,김보라\n",
              "4288          62  ...                  아이스 로드 스릴러 조나단 헨슬레이 리암 니슨,로렌스 피시번\n",
              "\n",
              "[4282 rows x 16 columns]"
            ]
          },
          "metadata": {
            "tags": []
          },
          "execution_count": 477
        }
      ]
    },
    {
      "cell_type": "code",
      "metadata": {
        "id": "jsi3XKw1RiJ0"
      },
      "source": [
        "df.drop(['Unnamed: 0'], axis=1, inplace=True)"
      ],
      "execution_count": 478,
      "outputs": []
    },
    {
      "cell_type": "code",
      "metadata": {
        "id": "oNMvx2HgRvXi"
      },
      "source": [
        "# movie code 가 뭔가 숫자가 커서그런지.. 안되니까.. 따로 인덱스 따서 번호하나씩 정해쥼\n",
        "df1 = df.reset_index()\n",
        "df1\n",
        "df = df1.rename(columns={'index':'MOVIE_N'})\n"
      ],
      "execution_count": 479,
      "outputs": []
    },
    {
      "cell_type": "code",
      "metadata": {
        "colab": {
          "base_uri": "https://localhost:8080/",
          "height": 847
        },
        "id": "woz6Rab8BTtw",
        "outputId": "041868e0-9a11-476f-9918-01b43dd60038"
      },
      "source": [
        "df"
      ],
      "execution_count": 480,
      "outputs": [
        {
          "output_type": "execute_result",
          "data": {
            "text/html": [
              "<div>\n",
              "<style scoped>\n",
              "    .dataframe tbody tr th:only-of-type {\n",
              "        vertical-align: middle;\n",
              "    }\n",
              "\n",
              "    .dataframe tbody tr th {\n",
              "        vertical-align: top;\n",
              "    }\n",
              "\n",
              "    .dataframe thead th {\n",
              "        text-align: right;\n",
              "    }\n",
              "</style>\n",
              "<table border=\"1\" class=\"dataframe\">\n",
              "  <thead>\n",
              "    <tr style=\"text-align: right;\">\n",
              "      <th></th>\n",
              "      <th>MOVIE_N</th>\n",
              "      <th>MOVIE_CODE</th>\n",
              "      <th>MOVIE_TITLE</th>\n",
              "      <th>MOVIE_YEAR</th>\n",
              "      <th>MOVIE_RATING</th>\n",
              "      <th>MOVIE_GENRE</th>\n",
              "      <th>MOVIE_COUNTRY</th>\n",
              "      <th>MOVIE_RTIME</th>\n",
              "      <th>MOVIE_DIRECTOR</th>\n",
              "      <th>MOVIE_ACTOR</th>\n",
              "      <th>MOVIE_AGE10</th>\n",
              "      <th>MOVIE_AGE20</th>\n",
              "      <th>MOVIE_AGE30</th>\n",
              "      <th>MOVIE_AGE40</th>\n",
              "      <th>MOVIE_AGE50</th>\n",
              "      <th>important_features</th>\n",
              "    </tr>\n",
              "  </thead>\n",
              "  <tbody>\n",
              "    <tr>\n",
              "      <th>0</th>\n",
              "      <td>0</td>\n",
              "      <td>10001</td>\n",
              "      <td>시네마 천국</td>\n",
              "      <td>1988</td>\n",
              "      <td>9.33</td>\n",
              "      <td>드라마,멜로/로맨스</td>\n",
              "      <td>프랑스,이탈리아</td>\n",
              "      <td>124</td>\n",
              "      <td>쥬세페 토르나토레</td>\n",
              "      <td>마르코 레오나르디,필립 느와레,자끄 페렝</td>\n",
              "      <td>9</td>\n",
              "      <td>47</td>\n",
              "      <td>25</td>\n",
              "      <td>6</td>\n",
              "      <td>12</td>\n",
              "      <td>시네마 천국 드라마,멜로/로맨스 쥬세페 토르나토레 마르코 레오나르디,필립 느와레,자...</td>\n",
              "    </tr>\n",
              "    <tr>\n",
              "      <th>1</th>\n",
              "      <td>1</td>\n",
              "      <td>10002</td>\n",
              "      <td>빽 투 더 퓨쳐</td>\n",
              "      <td>1985</td>\n",
              "      <td>9.42</td>\n",
              "      <td>SF,코미디</td>\n",
              "      <td>미국</td>\n",
              "      <td>120</td>\n",
              "      <td>로버트 저메키스</td>\n",
              "      <td>마이클 J. 폭스,크리스토퍼 로이드,리 톰슨</td>\n",
              "      <td>2</td>\n",
              "      <td>61</td>\n",
              "      <td>18</td>\n",
              "      <td>16</td>\n",
              "      <td>2</td>\n",
              "      <td>빽 투 더 퓨쳐 SF,코미디 로버트 저메키스 마이클 J. 폭스,크리스토퍼 로이드,리 톰슨</td>\n",
              "    </tr>\n",
              "    <tr>\n",
              "      <th>2</th>\n",
              "      <td>2</td>\n",
              "      <td>10003</td>\n",
              "      <td>빽 투 더 퓨쳐 2</td>\n",
              "      <td>1989</td>\n",
              "      <td>9.24</td>\n",
              "      <td>SF,코미디</td>\n",
              "      <td>미국</td>\n",
              "      <td>107</td>\n",
              "      <td>로버트 저메키스</td>\n",
              "      <td>마이클 J. 폭스,크리스토퍼 로이드</td>\n",
              "      <td>0</td>\n",
              "      <td>45</td>\n",
              "      <td>52</td>\n",
              "      <td>3</td>\n",
              "      <td>0</td>\n",
              "      <td>빽 투 더 퓨쳐 2 SF,코미디 로버트 저메키스 마이클 J. 폭스,크리스토퍼 로이드</td>\n",
              "    </tr>\n",
              "    <tr>\n",
              "      <th>3</th>\n",
              "      <td>3</td>\n",
              "      <td>10014</td>\n",
              "      <td>금지된 장난</td>\n",
              "      <td>1952</td>\n",
              "      <td>8.86</td>\n",
              "      <td>드라마,전쟁</td>\n",
              "      <td>프랑스</td>\n",
              "      <td>102</td>\n",
              "      <td>르네 클레망</td>\n",
              "      <td>조르주 푸줄리,브리지트 포시</td>\n",
              "      <td>0</td>\n",
              "      <td>0</td>\n",
              "      <td>100</td>\n",
              "      <td>0</td>\n",
              "      <td>0</td>\n",
              "      <td>금지된 장난 드라마,전쟁 르네 클레망 조르주 푸줄리,브리지트 포시</td>\n",
              "    </tr>\n",
              "    <tr>\n",
              "      <th>4</th>\n",
              "      <td>4</td>\n",
              "      <td>10020</td>\n",
              "      <td>바람과 함께 사라지다</td>\n",
              "      <td>1939</td>\n",
              "      <td>9.23</td>\n",
              "      <td>드라마,전쟁,멜로/로맨스</td>\n",
              "      <td>미국</td>\n",
              "      <td>230</td>\n",
              "      <td>빅터 플레밍</td>\n",
              "      <td>클라크 게이블,비비안 리,레슬리 하워드</td>\n",
              "      <td>7</td>\n",
              "      <td>40</td>\n",
              "      <td>13</td>\n",
              "      <td>27</td>\n",
              "      <td>13</td>\n",
              "      <td>바람과 함께 사라지다 드라마,전쟁,멜로/로맨스 빅터 플레밍 클라크 게이블,비비안 리...</td>\n",
              "    </tr>\n",
              "    <tr>\n",
              "      <th>...</th>\n",
              "      <td>...</td>\n",
              "      <td>...</td>\n",
              "      <td>...</td>\n",
              "      <td>...</td>\n",
              "      <td>...</td>\n",
              "      <td>...</td>\n",
              "      <td>...</td>\n",
              "      <td>...</td>\n",
              "      <td>...</td>\n",
              "      <td>...</td>\n",
              "      <td>...</td>\n",
              "      <td>...</td>\n",
              "      <td>...</td>\n",
              "      <td>...</td>\n",
              "      <td>...</td>\n",
              "      <td>...</td>\n",
              "    </tr>\n",
              "    <tr>\n",
              "      <th>4277</th>\n",
              "      <td>4284</td>\n",
              "      <td>204781</td>\n",
              "      <td>썰</td>\n",
              "      <td>2021</td>\n",
              "      <td>6.33</td>\n",
              "      <td>코미디,스릴러,미스터리,공포</td>\n",
              "      <td>한국</td>\n",
              "      <td>84</td>\n",
              "      <td>황승재</td>\n",
              "      <td>김강현,찬희,김소라</td>\n",
              "      <td>0</td>\n",
              "      <td>100</td>\n",
              "      <td>0</td>\n",
              "      <td>0</td>\n",
              "      <td>0</td>\n",
              "      <td>썰 코미디,스릴러,미스터리,공포 황승재 김강현,찬희,김소라</td>\n",
              "    </tr>\n",
              "    <tr>\n",
              "      <th>4278</th>\n",
              "      <td>4285</td>\n",
              "      <td>204782</td>\n",
              "      <td>체르노빌 1986</td>\n",
              "      <td>2021</td>\n",
              "      <td>7.96</td>\n",
              "      <td>액션,스릴러</td>\n",
              "      <td>러시아 연방</td>\n",
              "      <td>136</td>\n",
              "      <td>다닐라 코즐로브스키</td>\n",
              "      <td>다닐라 코즐로브스키,오크사나 아킨쉬나,필리프 아브데예프</td>\n",
              "      <td>9</td>\n",
              "      <td>43</td>\n",
              "      <td>22</td>\n",
              "      <td>22</td>\n",
              "      <td>4</td>\n",
              "      <td>체르노빌 1986 액션,스릴러 다닐라 코즐로브스키 다닐라 코즐로브스키,오크사나 아킨...</td>\n",
              "    </tr>\n",
              "    <tr>\n",
              "      <th>4279</th>\n",
              "      <td>4286</td>\n",
              "      <td>205285</td>\n",
              "      <td>와인 패밀리</td>\n",
              "      <td>2019</td>\n",
              "      <td>8.68</td>\n",
              "      <td>드라마,코미디,멜로/로맨스</td>\n",
              "      <td>캐나다,이탈리아</td>\n",
              "      <td>94</td>\n",
              "      <td>숀 시스터나</td>\n",
              "      <td>조 판톨리아노,웬디 크로슨,폴라 브랜카티</td>\n",
              "      <td>0</td>\n",
              "      <td>67</td>\n",
              "      <td>33</td>\n",
              "      <td>0</td>\n",
              "      <td>0</td>\n",
              "      <td>와인 패밀리 드라마,코미디,멜로/로맨스 숀 시스터나 조 판톨리아노,웬디 크로슨,폴라...</td>\n",
              "    </tr>\n",
              "    <tr>\n",
              "      <th>4280</th>\n",
              "      <td>4287</td>\n",
              "      <td>205629</td>\n",
              "      <td>괴기맨숀</td>\n",
              "      <td>2021</td>\n",
              "      <td>6.21</td>\n",
              "      <td>공포</td>\n",
              "      <td>한국</td>\n",
              "      <td>106</td>\n",
              "      <td>조바른</td>\n",
              "      <td>성준,김홍파,김보라</td>\n",
              "      <td>0</td>\n",
              "      <td>71</td>\n",
              "      <td>29</td>\n",
              "      <td>0</td>\n",
              "      <td>0</td>\n",
              "      <td>괴기맨숀 공포 조바른 성준,김홍파,김보라</td>\n",
              "    </tr>\n",
              "    <tr>\n",
              "      <th>4281</th>\n",
              "      <td>4288</td>\n",
              "      <td>205966</td>\n",
              "      <td>아이스 로드</td>\n",
              "      <td>2021</td>\n",
              "      <td>7.86</td>\n",
              "      <td>스릴러</td>\n",
              "      <td>미국</td>\n",
              "      <td>110</td>\n",
              "      <td>조나단 헨슬레이</td>\n",
              "      <td>리암 니슨,로렌스 피시번</td>\n",
              "      <td>12</td>\n",
              "      <td>12</td>\n",
              "      <td>62</td>\n",
              "      <td>12</td>\n",
              "      <td>0</td>\n",
              "      <td>아이스 로드 스릴러 조나단 헨슬레이 리암 니슨,로렌스 피시번</td>\n",
              "    </tr>\n",
              "  </tbody>\n",
              "</table>\n",
              "<p>4282 rows × 16 columns</p>\n",
              "</div>"
            ],
            "text/plain": [
              "      MOVIE_N  ...                                 important_features\n",
              "0           0  ...  시네마 천국 드라마,멜로/로맨스 쥬세페 토르나토레 마르코 레오나르디,필립 느와레,자...\n",
              "1           1  ...  빽 투 더 퓨쳐 SF,코미디 로버트 저메키스 마이클 J. 폭스,크리스토퍼 로이드,리 톰슨\n",
              "2           2  ...     빽 투 더 퓨쳐 2 SF,코미디 로버트 저메키스 마이클 J. 폭스,크리스토퍼 로이드\n",
              "3           3  ...               금지된 장난 드라마,전쟁 르네 클레망 조르주 푸줄리,브리지트 포시\n",
              "4           4  ...  바람과 함께 사라지다 드라마,전쟁,멜로/로맨스 빅터 플레밍 클라크 게이블,비비안 리...\n",
              "...       ...  ...                                                ...\n",
              "4277     4284  ...                   썰 코미디,스릴러,미스터리,공포 황승재 김강현,찬희,김소라\n",
              "4278     4285  ...  체르노빌 1986 액션,스릴러 다닐라 코즐로브스키 다닐라 코즐로브스키,오크사나 아킨...\n",
              "4279     4286  ...  와인 패밀리 드라마,코미디,멜로/로맨스 숀 시스터나 조 판톨리아노,웬디 크로슨,폴라...\n",
              "4280     4287  ...                             괴기맨숀 공포 조바른 성준,김홍파,김보라\n",
              "4281     4288  ...                  아이스 로드 스릴러 조나단 헨슬레이 리암 니슨,로렌스 피시번\n",
              "\n",
              "[4282 rows x 16 columns]"
            ]
          },
          "metadata": {
            "tags": []
          },
          "execution_count": 480
        }
      ]
    },
    {
      "cell_type": "code",
      "metadata": {
        "id": "eFjIgz_i0r9w"
      },
      "source": [
        " # 문자 숫자로 바꾸기  (convert the text to a matrix of token counts - > sklearn)\n",
        "\n",
        " cm = CountVectorizer().fit_transform(df['important_features'])"
      ],
      "execution_count": 481,
      "outputs": []
    },
    {
      "cell_type": "code",
      "metadata": {
        "colab": {
          "base_uri": "https://localhost:8080/"
        },
        "id": "4cRIUJdu6Kwk",
        "outputId": "5683d233-6652-4c48-dc1e-04785c07c654"
      },
      "source": [
        "# cosine similarity matirix from the count matrix\n",
        "\n",
        "cs = cosine_similarity(cm)\n",
        "\n",
        "#print cosine similarity matrix\n",
        "\n",
        "print(cs)"
      ],
      "execution_count": 482,
      "outputs": [
        {
          "output_type": "stream",
          "text": [
            "[[1.         0.         0.         ... 0.24019223 0.         0.        ]\n",
            " [0.         1.         0.9486833  ... 0.09128709 0.         0.        ]\n",
            " [0.         0.9486833  1.         ... 0.09622504 0.         0.        ]\n",
            " ...\n",
            " [0.24019223 0.09128709 0.09622504 ... 1.         0.         0.        ]\n",
            " [0.         0.         0.         ... 0.         1.         0.        ]\n",
            " [0.         0.         0.         ... 0.         0.         1.        ]]\n"
          ],
          "name": "stdout"
        }
      ]
    },
    {
      "cell_type": "code",
      "metadata": {
        "colab": {
          "base_uri": "https://localhost:8080/"
        },
        "id": "QJD9uIB66TWW",
        "outputId": "233ce3de-7295-43d9-9266-b762baf866d3"
      },
      "source": [
        "#get the shape of the cosine similarity matrix\n",
        "\n",
        "cs.shape"
      ],
      "execution_count": 483,
      "outputs": [
        {
          "output_type": "execute_result",
          "data": {
            "text/plain": [
              "(4282, 4282)"
            ]
          },
          "metadata": {
            "tags": []
          },
          "execution_count": 483
        }
      ]
    },
    {
      "cell_type": "code",
      "metadata": {
        "id": "T9Q7bI5N6g-v"
      },
      "source": [
        "# 추천받기전 내가 조아하는 영화를 title로 \n",
        "title = \"피노키오의 모험\"\n",
        "\n",
        "#find the movie's id\n",
        "#피노키오 movie_n 칼럼에서 몇번쨰인지\n",
        "movie_num =df[df.MOVIE_TITLE == title]['MOVIE_N'].values[0]"
      ],
      "execution_count": 484,
      "outputs": []
    },
    {
      "cell_type": "code",
      "metadata": {
        "colab": {
          "base_uri": "https://localhost:8080/"
        },
        "id": "At4Y4Ebl8cBx",
        "outputId": "8044ae8a-d882-468c-b098-a7a4410f2605"
      },
      "source": [
        "movie_num"
      ],
      "execution_count": 486,
      "outputs": [
        {
          "output_type": "execute_result",
          "data": {
            "text/plain": [
              "1633"
            ]
          },
          "metadata": {
            "tags": []
          },
          "execution_count": 486
        }
      ]
    },
    {
      "cell_type": "code",
      "metadata": {
        "id": "npRHL_GV725M"
      },
      "source": [
        "#create a list of enumerations for the similarity score\n",
        "\n",
        "scores = list(enumerate(cs[movie_num]))"
      ],
      "execution_count": 487,
      "outputs": []
    },
    {
      "cell_type": "code",
      "metadata": {
        "id": "TQCNWUX78QF-"
      },
      "source": [
        "#sort the list \n",
        "# x[1] - > similarity score \n",
        "\n",
        "sorted_scores = sorted(scores, key = lambda x:x[1], reverse = True)\n",
        "sorted_scores = sorted_scores[1:] \n",
        "#자기자신 포함 안하려고 1은 제외하고 "
      ],
      "execution_count": 488,
      "outputs": []
    },
    {
      "cell_type": "code",
      "metadata": {
        "colab": {
          "base_uri": "https://localhost:8080/"
        },
        "id": "LAhD-Uk99pxU",
        "outputId": "869c8450-f162-47e9-dda2-16adc9ee5e70"
      },
      "source": [
        "#print sorted scores\n",
        "\n",
        "print(sorted_scores)\n",
        "\n",
        "#()"
      ],
      "execution_count": 489,
      "outputs": [
        {
          "output_type": "stream",
          "text": [
            "[(3477, 0.4), (419, 0.33541019662496846), (1352, 0.33541019662496846), (340, 0.31622776601683794), (3196, 0.31622776601683794), (3266, 0.31622776601683794), (332, 0.30000000000000004), (957, 0.30000000000000004), (1973, 0.30000000000000004), (3032, 0.2860387767736777), (3170, 0.2860387767736777), (3968, 0.2860387767736777), (1345, 0.27386127875258315), (1536, 0.27386127875258315), (3106, 0.27386127875258315), (750, 0.2631174057921088), (3021, 0.2631174057921088), (3067, 0.2631174057921088), (1448, 0.25819888974716115), (2224, 0.25819888974716115), (2280, 0.25819888974716115), (3123, 0.25819888974716115), (3339, 0.25819888974716115), (3400, 0.25819888974716115), (3901, 0.25819888974716115), (262, 0.253546276418555), (475, 0.253546276418555), (1667, 0.253546276418555), (1064, 0.2449489742783178), (1308, 0.2449489742783178), (1317, 0.2449489742783178), (1583, 0.2449489742783178), (3176, 0.2449489742783178), (685, 0.23904572186687872), (1207, 0.23904572186687872), (1399, 0.23904572186687872), (1437, 0.23904572186687872), (1503, 0.23904572186687872), (1524, 0.23904572186687872), (2135, 0.23904572186687872), (2491, 0.23904572186687872), (2561, 0.23904572186687872), (2599, 0.23904572186687872), (2773, 0.23904572186687872), (2780, 0.23904572186687872), (2951, 0.23904572186687872), (2983, 0.23904572186687872), (3038, 0.23904572186687872), (3657, 0.23904572186687872), (3693, 0.23904572186687872), (4048, 0.23904572186687872), (4109, 0.23904572186687872), (307, 0.23717082451262844), (392, 0.23008949665421113), (2658, 0.22360679774997902), (91, 0.22360679774997896), (166, 0.22360679774997896), (341, 0.22360679774997896), (375, 0.22360679774997896), (599, 0.22360679774997896), (673, 0.22360679774997896), (787, 0.22360679774997896), (1246, 0.22360679774997896), (1264, 0.22360679774997896), (1912, 0.22360679774997896), (2040, 0.22360679774997896), (2173, 0.22360679774997896), (2410, 0.22360679774997896), (2795, 0.22360679774997896), (2821, 0.22360679774997896), (3219, 0.22360679774997896), (3457, 0.22360679774997896), (3480, 0.22360679774997896), (3565, 0.22360679774997896), (3566, 0.22360679774997896), (3592, 0.22360679774997896), (3802, 0.22360679774997896), (3837, 0.22360679774997896), (3860, 0.22360679774997896), (23, 0.21081851067789195), (24, 0.21081851067789195), (25, 0.21081851067789195), (70, 0.21081851067789195), (108, 0.21081851067789195), (130, 0.21081851067789195), (223, 0.21081851067789195), (642, 0.21081851067789195), (945, 0.21081851067789195), (953, 0.21081851067789195), (988, 0.21081851067789195), (1041, 0.21081851067789195), (1090, 0.21081851067789195), (1122, 0.21081851067789195), (1419, 0.21081851067789195), (1513, 0.21081851067789195), (1781, 0.21081851067789195), (2072, 0.21081851067789195), (2327, 0.21081851067789195), (2555, 0.21081851067789195), (2663, 0.21081851067789195), (3652, 0.21081851067789195), (4003, 0.21081851067789195), (4008, 0.21081851067789195), (4077, 0.21081851067789195), (4101, 0.21081851067789195), (4146, 0.21081851067789195), (4240, 0.21081851067789195), (8, 0.2), (40, 0.2), (146, 0.2), (274, 0.2), (452, 0.2), (453, 0.2), (1237, 0.2), (1810, 0.2), (2194, 0.2), (2201, 0.2), (2263, 0.2), (2326, 0.2), (2588, 0.2), (2641, 0.2), (2667, 0.2), (2806, 0.2), (2957, 0.2), (2974, 0.2), (3692, 0.2), (3883, 0.2), (4071, 0.2), (100, 0.19069251784911848), (202, 0.19069251784911848), (302, 0.19069251784911848), (313, 0.19069251784911848), (412, 0.19069251784911848), (418, 0.19069251784911848), (464, 0.19069251784911848), (507, 0.19069251784911848), (546, 0.19069251784911848), (601, 0.19069251784911848), (824, 0.19069251784911848), (942, 0.19069251784911848), (1640, 0.19069251784911848), (1703, 0.19069251784911848), (1754, 0.19069251784911848), (1951, 0.19069251784911848), (2020, 0.19069251784911848), (2411, 0.19069251784911848), (2596, 0.19069251784911848), (2901, 0.19069251784911848), (3285, 0.19069251784911848), (3476, 0.19069251784911848), (4042, 0.19069251784911848), (4063, 0.19069251784911848), (4118, 0.19069251784911848), (4180, 0.19069251784911848), (241, 0.1825741858350554), (336, 0.1825741858350554), (352, 0.1825741858350554), (477, 0.1825741858350554), (531, 0.1825741858350554), (763, 0.1825741858350554), (807, 0.1825741858350554), (820, 0.1825741858350554), (838, 0.1825741858350554), (881, 0.1825741858350554), (900, 0.1825741858350554), (954, 0.1825741858350554), (1217, 0.1825741858350554), (1305, 0.1825741858350554), (1966, 0.1825741858350554), (2741, 0.1825741858350554), (2802, 0.1825741858350554), (3294, 0.1825741858350554), (66, 0.17541160386140586), (122, 0.17541160386140586), (324, 0.17541160386140586), (344, 0.17541160386140586), (407, 0.17541160386140586), (451, 0.17541160386140586), (717, 0.17541160386140586), (739, 0.17541160386140586), (762, 0.17541160386140586), (864, 0.17541160386140586), (877, 0.17541160386140586), (878, 0.17541160386140586), (909, 0.17541160386140586), (998, 0.17541160386140586), (1047, 0.17541160386140586), (1711, 0.17541160386140586), (1876, 0.17541160386140586), (2306, 0.17541160386140586), (2365, 0.17541160386140586), (2556, 0.17541160386140586), (2595, 0.17541160386140586), (2849, 0.17541160386140586), (3016, 0.17541160386140586), (3075, 0.17541160386140586), (3352, 0.17541160386140586), (3572, 0.17541160386140586), (3688, 0.17541160386140586), (49, 0.16903085094570333), (398, 0.16903085094570333), (421, 0.16903085094570333), (497, 0.16903085094570333), (837, 0.16903085094570333), (1118, 0.16903085094570333), (1182, 0.16903085094570333), (2549, 0.16903085094570333), (2770, 0.16903085094570333), (3663, 0.16903085094570333), (67, 0.1632993161855452), (337, 0.1632993161855452), (589, 0.1632993161855452), (3274, 0.1632993161855452), (3499, 0.1632993161855452), (144, 0.15811388300841897), (164, 0.15811388300841897), (765, 0.15811388300841897), (1006, 0.15811388300841897), (1591, 0.15811388300841897), (1676, 0.15811388300841897), (2484, 0.15811388300841897), (2598, 0.15811388300841897), (3001, 0.15811388300841897), (3056, 0.15811388300841897), (3404, 0.15811388300841897), (3501, 0.15811388300841897), (3532, 0.15811388300841897), (3547, 0.15811388300841897), (4069, 0.15811388300841897), (4181, 0.15811388300841897), (394, 0.1533929977694741), (473, 0.1533929977694741), (1542, 0.149071198499986), (501, 0.14509525002200233), (2666, 0.14509525002200233), (99, 0.1414213562373095), (152, 0.1414213562373095), (206, 0.1414213562373095), (316, 0.1414213562373095), (537, 0.1414213562373095), (559, 0.1414213562373095), (584, 0.1414213562373095), (633, 0.1414213562373095), (885, 0.1414213562373095), (1125, 0.1414213562373095), (1208, 0.1414213562373095), (1235, 0.1414213562373095), (1405, 0.1414213562373095), (1416, 0.1414213562373095), (1451, 0.1414213562373095), (1607, 0.1414213562373095), (1690, 0.1414213562373095), (1767, 0.1414213562373095), (1787, 0.1414213562373095), (1902, 0.1414213562373095), (1906, 0.1414213562373095), (2088, 0.1414213562373095), (2252, 0.1414213562373095), (2253, 0.1414213562373095), (2291, 0.1414213562373095), (2332, 0.1414213562373095), (2354, 0.1414213562373095), (2389, 0.1414213562373095), (2538, 0.1414213562373095), (2570, 0.1414213562373095), (2573, 0.1414213562373095), (2677, 0.1414213562373095), (2684, 0.1414213562373095), (2693, 0.1414213562373095), (2707, 0.1414213562373095), (2793, 0.1414213562373095), (2882, 0.1414213562373095), (2945, 0.1414213562373095), (2962, 0.1414213562373095), (2985, 0.1414213562373095), (2987, 0.1414213562373095), (2996, 0.1414213562373095), (3030, 0.1414213562373095), (3041, 0.1414213562373095), (3155, 0.1414213562373095), (3164, 0.1414213562373095), (3166, 0.1414213562373095), (3200, 0.1414213562373095), (3237, 0.1414213562373095), (3251, 0.1414213562373095), (3326, 0.1414213562373095), (3398, 0.1414213562373095), (3405, 0.1414213562373095), (3411, 0.1414213562373095), (3414, 0.1414213562373095), (3491, 0.1414213562373095), (3497, 0.1414213562373095), (3504, 0.1414213562373095), (3555, 0.1414213562373095), (3556, 0.1414213562373095), (3557, 0.1414213562373095), (3660, 0.1414213562373095), (3799, 0.1414213562373095), (3907, 0.1414213562373095), (3927, 0.1414213562373095), (3931, 0.1414213562373095), (3943, 0.1414213562373095), (3945, 0.1414213562373095), (3946, 0.1414213562373095), (3965, 0.1414213562373095), (4058, 0.1414213562373095), (4062, 0.1414213562373095), (4073, 0.1414213562373095), (4253, 0.1414213562373095), (4270, 0.1414213562373095), (5, 0.12909944487358058), (72, 0.12909944487358058), (76, 0.12909944487358058), (160, 0.12909944487358058), (161, 0.12909944487358058), (162, 0.12909944487358058), (214, 0.12909944487358058), (215, 0.12909944487358058), (216, 0.12909944487358058), (247, 0.12909944487358058), (257, 0.12909944487358058), (303, 0.12909944487358058), (319, 0.12909944487358058), (327, 0.12909944487358058), (395, 0.12909944487358058), (433, 0.12909944487358058), (457, 0.12909944487358058), (461, 0.12909944487358058), (486, 0.12909944487358058), (508, 0.12909944487358058), (571, 0.12909944487358058), (629, 0.12909944487358058), (645, 0.12909944487358058), (707, 0.12909944487358058), (724, 0.12909944487358058), (729, 0.12909944487358058), (748, 0.12909944487358058), (753, 0.12909944487358058), (784, 0.12909944487358058), (792, 0.12909944487358058), (846, 0.12909944487358058), (856, 0.12909944487358058), (895, 0.12909944487358058), (916, 0.12909944487358058), (935, 0.12909944487358058), (951, 0.12909944487358058), (956, 0.12909944487358058), (983, 0.12909944487358058), (1005, 0.12909944487358058), (1012, 0.12909944487358058), (1022, 0.12909944487358058), (1054, 0.12909944487358058), (1079, 0.12909944487358058), (1087, 0.12909944487358058), (1111, 0.12909944487358058), (1149, 0.12909944487358058), (1152, 0.12909944487358058), (1159, 0.12909944487358058), (1194, 0.12909944487358058), (1205, 0.12909944487358058), (1215, 0.12909944487358058), (1221, 0.12909944487358058), (1222, 0.12909944487358058), (1250, 0.12909944487358058), (1262, 0.12909944487358058), (1283, 0.12909944487358058), (1312, 0.12909944487358058), (1339, 0.12909944487358058), (1358, 0.12909944487358058), (1360, 0.12909944487358058), (1364, 0.12909944487358058), (1376, 0.12909944487358058), (1380, 0.12909944487358058), (1396, 0.12909944487358058), (1401, 0.12909944487358058), (1421, 0.12909944487358058), (1438, 0.12909944487358058), (1453, 0.12909944487358058), (1456, 0.12909944487358058), (1518, 0.12909944487358058), (1521, 0.12909944487358058), (1589, 0.12909944487358058), (1672, 0.12909944487358058), (1688, 0.12909944487358058), (1691, 0.12909944487358058), (1718, 0.12909944487358058), (1749, 0.12909944487358058), (1768, 0.12909944487358058), (1793, 0.12909944487358058), (1815, 0.12909944487358058), (1841, 0.12909944487358058), (1846, 0.12909944487358058), (1850, 0.12909944487358058), (1884, 0.12909944487358058), (1909, 0.12909944487358058), (1928, 0.12909944487358058), (1945, 0.12909944487358058), (1977, 0.12909944487358058), (1994, 0.12909944487358058), (2001, 0.12909944487358058), (2010, 0.12909944487358058), (2028, 0.12909944487358058), (2037, 0.12909944487358058), (2041, 0.12909944487358058), (2043, 0.12909944487358058), (2044, 0.12909944487358058), (2073, 0.12909944487358058), (2096, 0.12909944487358058), (2107, 0.12909944487358058), (2115, 0.12909944487358058), (2124, 0.12909944487358058), (2128, 0.12909944487358058), (2139, 0.12909944487358058), (2180, 0.12909944487358058), (2181, 0.12909944487358058), (2184, 0.12909944487358058), (2220, 0.12909944487358058), (2230, 0.12909944487358058), (2279, 0.12909944487358058), (2329, 0.12909944487358058), (2358, 0.12909944487358058), (2380, 0.12909944487358058), (2383, 0.12909944487358058), (2386, 0.12909944487358058), (2390, 0.12909944487358058), (2394, 0.12909944487358058), (2416, 0.12909944487358058), (2451, 0.12909944487358058), (2468, 0.12909944487358058), (2469, 0.12909944487358058), (2470, 0.12909944487358058), (2486, 0.12909944487358058), (2489, 0.12909944487358058), (2520, 0.12909944487358058), (2526, 0.12909944487358058), (2541, 0.12909944487358058), (2558, 0.12909944487358058), (2574, 0.12909944487358058), (2612, 0.12909944487358058), (2615, 0.12909944487358058), (2620, 0.12909944487358058), (2622, 0.12909944487358058), (2672, 0.12909944487358058), (2673, 0.12909944487358058), (2674, 0.12909944487358058), (2676, 0.12909944487358058), (2704, 0.12909944487358058), (2705, 0.12909944487358058), (2706, 0.12909944487358058), (2718, 0.12909944487358058), (2721, 0.12909944487358058), (2732, 0.12909944487358058), (2742, 0.12909944487358058), (2752, 0.12909944487358058), (2753, 0.12909944487358058), (2756, 0.12909944487358058), (2767, 0.12909944487358058), (2769, 0.12909944487358058), (2784, 0.12909944487358058), (2796, 0.12909944487358058), (2829, 0.12909944487358058), (2835, 0.12909944487358058), (2836, 0.12909944487358058), (2881, 0.12909944487358058), (2902, 0.12909944487358058), (2911, 0.12909944487358058), (2929, 0.12909944487358058), (2930, 0.12909944487358058), (2934, 0.12909944487358058), (2950, 0.12909944487358058), (2964, 0.12909944487358058), (3028, 0.12909944487358058), (3048, 0.12909944487358058), (3066, 0.12909944487358058), (3084, 0.12909944487358058), (3097, 0.12909944487358058), (3129, 0.12909944487358058), (3133, 0.12909944487358058), (3180, 0.12909944487358058), (3211, 0.12909944487358058), (3216, 0.12909944487358058), (3233, 0.12909944487358058), (3249, 0.12909944487358058), (3256, 0.12909944487358058), (3308, 0.12909944487358058), (3316, 0.12909944487358058), (3323, 0.12909944487358058), (3346, 0.12909944487358058), (3353, 0.12909944487358058), (3366, 0.12909944487358058), (3382, 0.12909944487358058), (3389, 0.12909944487358058), (3396, 0.12909944487358058), (3410, 0.12909944487358058), (3413, 0.12909944487358058), (3418, 0.12909944487358058), (3428, 0.12909944487358058), (3442, 0.12909944487358058), (3481, 0.12909944487358058), (3485, 0.12909944487358058), (3503, 0.12909944487358058), (3509, 0.12909944487358058), (3541, 0.12909944487358058), (3554, 0.12909944487358058), (3563, 0.12909944487358058), (3577, 0.12909944487358058), (3590, 0.12909944487358058), (3607, 0.12909944487358058), (3610, 0.12909944487358058), (3615, 0.12909944487358058), (3622, 0.12909944487358058), (3677, 0.12909944487358058), (3691, 0.12909944487358058), (3731, 0.12909944487358058), (3733, 0.12909944487358058), (3753, 0.12909944487358058), (3765, 0.12909944487358058), (3766, 0.12909944487358058), (3785, 0.12909944487358058), (3786, 0.12909944487358058), (3794, 0.12909944487358058), (3835, 0.12909944487358058), (3851, 0.12909944487358058), (3853, 0.12909944487358058), (3885, 0.12909944487358058), (3911, 0.12909944487358058), (3921, 0.12909944487358058), (3924, 0.12909944487358058), (3926, 0.12909944487358058), (3937, 0.12909944487358058), (3938, 0.12909944487358058), (3941, 0.12909944487358058), (3969, 0.12909944487358058), (4004, 0.12909944487358058), (4022, 0.12909944487358058), (4025, 0.12909944487358058), (4032, 0.12909944487358058), (4037, 0.12909944487358058), (4038, 0.12909944487358058), (4056, 0.12909944487358058), (4066, 0.12909944487358058), (4067, 0.12909944487358058), (4086, 0.12909944487358058), (4092, 0.12909944487358058), (4110, 0.12909944487358058), (4147, 0.12909944487358058), (4149, 0.12909944487358058), (4192, 0.12909944487358058), (4196, 0.12909944487358058), (4199, 0.12909944487358058), (4208, 0.12909944487358058), (4269, 0.12909944487358058), (29, 0.11952286093343936), (47, 0.11952286093343936), (62, 0.11952286093343936), (74, 0.11952286093343936), (78, 0.11952286093343936), (82, 0.11952286093343936), (93, 0.11952286093343936), (98, 0.11952286093343936), (114, 0.11952286093343936), (139, 0.11952286093343936), (143, 0.11952286093343936), (165, 0.11952286093343936), (169, 0.11952286093343936), (181, 0.11952286093343936), (191, 0.11952286093343936), (207, 0.11952286093343936), (210, 0.11952286093343936), (221, 0.11952286093343936), (235, 0.11952286093343936), (259, 0.11952286093343936), (285, 0.11952286093343936), (310, 0.11952286093343936), (318, 0.11952286093343936), (366, 0.11952286093343936), (369, 0.11952286093343936), (370, 0.11952286093343936), (377, 0.11952286093343936), (388, 0.11952286093343936), (406, 0.11952286093343936), (441, 0.11952286093343936), (443, 0.11952286093343936), (446, 0.11952286093343936), (460, 0.11952286093343936), (480, 0.11952286093343936), (484, 0.11952286093343936), (505, 0.11952286093343936), (574, 0.11952286093343936), (607, 0.11952286093343936), (614, 0.11952286093343936), (639, 0.11952286093343936), (644, 0.11952286093343936), (670, 0.11952286093343936), (706, 0.11952286093343936), (709, 0.11952286093343936), (720, 0.11952286093343936), (730, 0.11952286093343936), (742, 0.11952286093343936), (746, 0.11952286093343936), (790, 0.11952286093343936), (803, 0.11952286093343936), (806, 0.11952286093343936), (852, 0.11952286093343936), (867, 0.11952286093343936), (871, 0.11952286093343936), (886, 0.11952286093343936), (1008, 0.11952286093343936), (1020, 0.11952286093343936), (1023, 0.11952286093343936), (1034, 0.11952286093343936), (1049, 0.11952286093343936), (1068, 0.11952286093343936), (1080, 0.11952286093343936), (1124, 0.11952286093343936), (1127, 0.11952286093343936), (1128, 0.11952286093343936), (1130, 0.11952286093343936), (1135, 0.11952286093343936), (1138, 0.11952286093343936), (1148, 0.11952286093343936), (1179, 0.11952286093343936), (1202, 0.11952286093343936), (1236, 0.11952286093343936), (1245, 0.11952286093343936), (1267, 0.11952286093343936), (1297, 0.11952286093343936), (1346, 0.11952286093343936), (1357, 0.11952286093343936), (1369, 0.11952286093343936), (1388, 0.11952286093343936), (1418, 0.11952286093343936), (1431, 0.11952286093343936), (1459, 0.11952286093343936), (1477, 0.11952286093343936), (1484, 0.11952286093343936), (1492, 0.11952286093343936), (1502, 0.11952286093343936), (1509, 0.11952286093343936), (1512, 0.11952286093343936), (1527, 0.11952286093343936), (1552, 0.11952286093343936), (1556, 0.11952286093343936), (1612, 0.11952286093343936), (1634, 0.11952286093343936), (1655, 0.11952286093343936), (1657, 0.11952286093343936), (1740, 0.11952286093343936), (1746, 0.11952286093343936), (1762, 0.11952286093343936), (1765, 0.11952286093343936), (1782, 0.11952286093343936), (1784, 0.11952286093343936), (1786, 0.11952286093343936), (1836, 0.11952286093343936), (1839, 0.11952286093343936), (1851, 0.11952286093343936), (1905, 0.11952286093343936), (1949, 0.11952286093343936), (1997, 0.11952286093343936), (2008, 0.11952286093343936), (2047, 0.11952286093343936), (2048, 0.11952286093343936), (2054, 0.11952286093343936), (2110, 0.11952286093343936), (2113, 0.11952286093343936), (2125, 0.11952286093343936), (2137, 0.11952286093343936), (2148, 0.11952286093343936), (2159, 0.11952286093343936), (2172, 0.11952286093343936), (2175, 0.11952286093343936), (2189, 0.11952286093343936), (2197, 0.11952286093343936), (2209, 0.11952286093343936), (2244, 0.11952286093343936), (2249, 0.11952286093343936), (2293, 0.11952286093343936), (2311, 0.11952286093343936), (2324, 0.11952286093343936), (2333, 0.11952286093343936), (2335, 0.11952286093343936), (2347, 0.11952286093343936), (2350, 0.11952286093343936), (2391, 0.11952286093343936), (2393, 0.11952286093343936), (2395, 0.11952286093343936), (2398, 0.11952286093343936), (2442, 0.11952286093343936), (2450, 0.11952286093343936), (2483, 0.11952286093343936), (2495, 0.11952286093343936), (2530, 0.11952286093343936), (2534, 0.11952286093343936), (2645, 0.11952286093343936), (2646, 0.11952286093343936), (2675, 0.11952286093343936), (2681, 0.11952286093343936), (2685, 0.11952286093343936), (2702, 0.11952286093343936), (2734, 0.11952286093343936), (2735, 0.11952286093343936), (2743, 0.11952286093343936), (2750, 0.11952286093343936), (2768, 0.11952286093343936), (2781, 0.11952286093343936), (2786, 0.11952286093343936), (2844, 0.11952286093343936), (2846, 0.11952286093343936), (2865, 0.11952286093343936), (2890, 0.11952286093343936), (2892, 0.11952286093343936), (2915, 0.11952286093343936), (2932, 0.11952286093343936), (2940, 0.11952286093343936), (2943, 0.11952286093343936), (3009, 0.11952286093343936), (3015, 0.11952286093343936), (3019, 0.11952286093343936), (3027, 0.11952286093343936), (3037, 0.11952286093343936), (3046, 0.11952286093343936), (3069, 0.11952286093343936), (3073, 0.11952286093343936), (3119, 0.11952286093343936), (3120, 0.11952286093343936), (3131, 0.11952286093343936), (3139, 0.11952286093343936), (3148, 0.11952286093343936), (3153, 0.11952286093343936), (3158, 0.11952286093343936), (3227, 0.11952286093343936), (3228, 0.11952286093343936), (3253, 0.11952286093343936), (3255, 0.11952286093343936), (3295, 0.11952286093343936), (3307, 0.11952286093343936), (3314, 0.11952286093343936), (3324, 0.11952286093343936), (3348, 0.11952286093343936), (3403, 0.11952286093343936), (3412, 0.11952286093343936), (3415, 0.11952286093343936), (3420, 0.11952286093343936), (3449, 0.11952286093343936), (3452, 0.11952286093343936), (3474, 0.11952286093343936), (3512, 0.11952286093343936), (3539, 0.11952286093343936), (3542, 0.11952286093343936), (3553, 0.11952286093343936), (3560, 0.11952286093343936), (3562, 0.11952286093343936), (3564, 0.11952286093343936), (3584, 0.11952286093343936), (3591, 0.11952286093343936), (3600, 0.11952286093343936), (3614, 0.11952286093343936), (3651, 0.11952286093343936), (3685, 0.11952286093343936), (3695, 0.11952286093343936), (3713, 0.11952286093343936), (3747, 0.11952286093343936), (3756, 0.11952286093343936), (3763, 0.11952286093343936), (3767, 0.11952286093343936), (3782, 0.11952286093343936), (3787, 0.11952286093343936), (3795, 0.11952286093343936), (3804, 0.11952286093343936), (3842, 0.11952286093343936), (3877, 0.11952286093343936), (3891, 0.11952286093343936), (3917, 0.11952286093343936), (3939, 0.11952286093343936), (3942, 0.11952286093343936), (3948, 0.11952286093343936), (3960, 0.11952286093343936), (3971, 0.11952286093343936), (4013, 0.11952286093343936), (4014, 0.11952286093343936), (4057, 0.11952286093343936), (4064, 0.11952286093343936), (4068, 0.11952286093343936), (4070, 0.11952286093343936), (4113, 0.11952286093343936), (4133, 0.11952286093343936), (4137, 0.11952286093343936), (4138, 0.11952286093343936), (4148, 0.11952286093343936), (4172, 0.11952286093343936), (4201, 0.11952286093343936), (4214, 0.11952286093343936), (4241, 0.11952286093343936), (4247, 0.11952286093343936), (4261, 0.11952286093343936), (4273, 0.11952286093343936), (9, 0.11180339887498948), (11, 0.11180339887498948), (16, 0.11180339887498948), (18, 0.11180339887498948), (28, 0.11180339887498948), (83, 0.11180339887498948), (105, 0.11180339887498948), (124, 0.11180339887498948), (134, 0.11180339887498948), (137, 0.11180339887498948), (140, 0.11180339887498948), (170, 0.11180339887498948), (180, 0.11180339887498948), (200, 0.11180339887498948), (205, 0.11180339887498948), (208, 0.11180339887498948), (219, 0.11180339887498948), (224, 0.11180339887498948), (232, 0.11180339887498948), (263, 0.11180339887498948), (266, 0.11180339887498948), (270, 0.11180339887498948), (280, 0.11180339887498948), (290, 0.11180339887498948), (297, 0.11180339887498948), (308, 0.11180339887498948), (311, 0.11180339887498948), (329, 0.11180339887498948), (333, 0.11180339887498948), (334, 0.11180339887498948), (364, 0.11180339887498948), (374, 0.11180339887498948), (386, 0.11180339887498948), (405, 0.11180339887498948), (424, 0.11180339887498948), (425, 0.11180339887498948), (428, 0.11180339887498948), (430, 0.11180339887498948), (436, 0.11180339887498948), (448, 0.11180339887498948), (458, 0.11180339887498948), (510, 0.11180339887498948), (521, 0.11180339887498948), (536, 0.11180339887498948), (560, 0.11180339887498948), (579, 0.11180339887498948), (625, 0.11180339887498948), (640, 0.11180339887498948), (674, 0.11180339887498948), (699, 0.11180339887498948), (715, 0.11180339887498948), (719, 0.11180339887498948), (728, 0.11180339887498948), (751, 0.11180339887498948), (785, 0.11180339887498948), (799, 0.11180339887498948), (845, 0.11180339887498948), (910, 0.11180339887498948), (973, 0.11180339887498948), (980, 0.11180339887498948), (1010, 0.11180339887498948), (1025, 0.11180339887498948), (1042, 0.11180339887498948), (1063, 0.11180339887498948), (1134, 0.11180339887498948), (1143, 0.11180339887498948), (1157, 0.11180339887498948), (1160, 0.11180339887498948), (1161, 0.11180339887498948), (1167, 0.11180339887498948), (1168, 0.11180339887498948), (1187, 0.11180339887498948), (1190, 0.11180339887498948), (1206, 0.11180339887498948), (1209, 0.11180339887498948), (1256, 0.11180339887498948), (1261, 0.11180339887498948), (1263, 0.11180339887498948), (1275, 0.11180339887498948), (1289, 0.11180339887498948), (1315, 0.11180339887498948), (1333, 0.11180339887498948), (1344, 0.11180339887498948), (1362, 0.11180339887498948), (1374, 0.11180339887498948), (1397, 0.11180339887498948), (1415, 0.11180339887498948), (1463, 0.11180339887498948), (1468, 0.11180339887498948), (1510, 0.11180339887498948), (1534, 0.11180339887498948), (1550, 0.11180339887498948), (1554, 0.11180339887498948), (1569, 0.11180339887498948), (1632, 0.11180339887498948), (1662, 0.11180339887498948), (1664, 0.11180339887498948), (1689, 0.11180339887498948), (1710, 0.11180339887498948), (1733, 0.11180339887498948), (1736, 0.11180339887498948), (1807, 0.11180339887498948), (1830, 0.11180339887498948), (1835, 0.11180339887498948), (1893, 0.11180339887498948), (1916, 0.11180339887498948), (1946, 0.11180339887498948), (1981, 0.11180339887498948), (2004, 0.11180339887498948), (2012, 0.11180339887498948), (2013, 0.11180339887498948), (2024, 0.11180339887498948), (2033, 0.11180339887498948), (2050, 0.11180339887498948), (2057, 0.11180339887498948), (2059, 0.11180339887498948), (2064, 0.11180339887498948), (2077, 0.11180339887498948), (2094, 0.11180339887498948), (2112, 0.11180339887498948), (2129, 0.11180339887498948), (2167, 0.11180339887498948), (2179, 0.11180339887498948), (2186, 0.11180339887498948), (2207, 0.11180339887498948), (2208, 0.11180339887498948), (2254, 0.11180339887498948), (2265, 0.11180339887498948), (2271, 0.11180339887498948), (2277, 0.11180339887498948), (2339, 0.11180339887498948), (2384, 0.11180339887498948), (2388, 0.11180339887498948), (2400, 0.11180339887498948), (2414, 0.11180339887498948), (2448, 0.11180339887498948), (2461, 0.11180339887498948), (2467, 0.11180339887498948), (2481, 0.11180339887498948), (2500, 0.11180339887498948), (2514, 0.11180339887498948), (2532, 0.11180339887498948), (2539, 0.11180339887498948), (2578, 0.11180339887498948), (2637, 0.11180339887498948), (2644, 0.11180339887498948), (2671, 0.11180339887498948), (2678, 0.11180339887498948), (2686, 0.11180339887498948), (2687, 0.11180339887498948), (2691, 0.11180339887498948), (2692, 0.11180339887498948), (2694, 0.11180339887498948), (2703, 0.11180339887498948), (2708, 0.11180339887498948), (2714, 0.11180339887498948), (2733, 0.11180339887498948), (2740, 0.11180339887498948), (2757, 0.11180339887498948), (2765, 0.11180339887498948), (2779, 0.11180339887498948), (2782, 0.11180339887498948), (2803, 0.11180339887498948), (2825, 0.11180339887498948), (2853, 0.11180339887498948), (2877, 0.11180339887498948), (2883, 0.11180339887498948), (2895, 0.11180339887498948), (2896, 0.11180339887498948), (2922, 0.11180339887498948), (2923, 0.11180339887498948), (2954, 0.11180339887498948), (2961, 0.11180339887498948), (2967, 0.11180339887498948), (2969, 0.11180339887498948), (3007, 0.11180339887498948), (3024, 0.11180339887498948), (3031, 0.11180339887498948), (3039, 0.11180339887498948), (3042, 0.11180339887498948), (3058, 0.11180339887498948), (3059, 0.11180339887498948), (3093, 0.11180339887498948), (3115, 0.11180339887498948), (3134, 0.11180339887498948), (3141, 0.11180339887498948), (3154, 0.11180339887498948), (3160, 0.11180339887498948), (3163, 0.11180339887498948), (3184, 0.11180339887498948), (3203, 0.11180339887498948), (3225, 0.11180339887498948), (3229, 0.11180339887498948), (3246, 0.11180339887498948), (3254, 0.11180339887498948), (3299, 0.11180339887498948), (3300, 0.11180339887498948), (3333, 0.11180339887498948), (3408, 0.11180339887498948), (3429, 0.11180339887498948), (3438, 0.11180339887498948), (3445, 0.11180339887498948), (3479, 0.11180339887498948), (3489, 0.11180339887498948), (3513, 0.11180339887498948), (3516, 0.11180339887498948), (3530, 0.11180339887498948), (3548, 0.11180339887498948), (3549, 0.11180339887498948), (3571, 0.11180339887498948), (3573, 0.11180339887498948), (3586, 0.11180339887498948), (3597, 0.11180339887498948), (3619, 0.11180339887498948), (3627, 0.11180339887498948), (3648, 0.11180339887498948), (3664, 0.11180339887498948), (3680, 0.11180339887498948), (3696, 0.11180339887498948), (3706, 0.11180339887498948), (3736, 0.11180339887498948), (3744, 0.11180339887498948), (3754, 0.11180339887498948), (3768, 0.11180339887498948), (3774, 0.11180339887498948), (3777, 0.11180339887498948), (3783, 0.11180339887498948), (3820, 0.11180339887498948), (3824, 0.11180339887498948), (3836, 0.11180339887498948), (3861, 0.11180339887498948), (3889, 0.11180339887498948), (3909, 0.11180339887498948), (3910, 0.11180339887498948), (3970, 0.11180339887498948), (3975, 0.11180339887498948), (4005, 0.11180339887498948), (4007, 0.11180339887498948), (4028, 0.11180339887498948), (4040, 0.11180339887498948), (4061, 0.11180339887498948), (4065, 0.11180339887498948), (4075, 0.11180339887498948), (4087, 0.11180339887498948), (4100, 0.11180339887498948), (4112, 0.11180339887498948), (4134, 0.11180339887498948), (4139, 0.11180339887498948), (4154, 0.11180339887498948), (4223, 0.11180339887498948), (4228, 0.11180339887498948), (4231, 0.11180339887498948), (4242, 0.11180339887498948), (4250, 0.11180339887498948), (4257, 0.11180339887498948), (4259, 0.11180339887498948), (4277, 0.11180339887498948), (7, 0.10540925533894598), (14, 0.10540925533894598), (17, 0.10540925533894598), (26, 0.10540925533894598), (39, 0.10540925533894598), (41, 0.10540925533894598), (43, 0.10540925533894598), (52, 0.10540925533894598), (53, 0.10540925533894598), (79, 0.10540925533894598), (84, 0.10540925533894598), (85, 0.10540925533894598), (88, 0.10540925533894598), (95, 0.10540925533894598), (103, 0.10540925533894598), (106, 0.10540925533894598), (107, 0.10540925533894598), (148, 0.10540925533894598), (151, 0.10540925533894598), (153, 0.10540925533894598), (163, 0.10540925533894598), (176, 0.10540925533894598), (188, 0.10540925533894598), (195, 0.10540925533894598), (211, 0.10540925533894598), (217, 0.10540925533894598), (226, 0.10540925533894598), (246, 0.10540925533894598), (250, 0.10540925533894598), (258, 0.10540925533894598), (288, 0.10540925533894598), (293, 0.10540925533894598), (314, 0.10540925533894598), (325, 0.10540925533894598), (331, 0.10540925533894598), (345, 0.10540925533894598), (359, 0.10540925533894598), (365, 0.10540925533894598), (367, 0.10540925533894598), (371, 0.10540925533894598), (380, 0.10540925533894598), (389, 0.10540925533894598), (393, 0.10540925533894598), (426, 0.10540925533894598), (445, 0.10540925533894598), (488, 0.10540925533894598), (490, 0.10540925533894598), (494, 0.10540925533894598), (515, 0.10540925533894598), (517, 0.10540925533894598), (523, 0.10540925533894598), (524, 0.10540925533894598), (556, 0.10540925533894598), (557, 0.10540925533894598), (566, 0.10540925533894598), (590, 0.10540925533894598), (600, 0.10540925533894598), (602, 0.10540925533894598), (620, 0.10540925533894598), (711, 0.10540925533894598), (731, 0.10540925533894598), (755, 0.10540925533894598), (774, 0.10540925533894598), (782, 0.10540925533894598), (789, 0.10540925533894598), (794, 0.10540925533894598), (812, 0.10540925533894598), (813, 0.10540925533894598), (816, 0.10540925533894598), (825, 0.10540925533894598), (829, 0.10540925533894598), (832, 0.10540925533894598), (833, 0.10540925533894598), (855, 0.10540925533894598), (960, 0.10540925533894598), (985, 0.10540925533894598), (995, 0.10540925533894598), (1000, 0.10540925533894598), (1021, 0.10540925533894598), (1075, 0.10540925533894598), (1115, 0.10540925533894598), (1137, 0.10540925533894598), (1153, 0.10540925533894598), (1201, 0.10540925533894598), (1212, 0.10540925533894598), (1218, 0.10540925533894598), (1225, 0.10540925533894598), (1281, 0.10540925533894598), (1284, 0.10540925533894598), (1298, 0.10540925533894598), (1307, 0.10540925533894598), (1337, 0.10540925533894598), (1341, 0.10540925533894598), (1387, 0.10540925533894598), (1464, 0.10540925533894598), (1472, 0.10540925533894598), (1473, 0.10540925533894598), (1483, 0.10540925533894598), (1520, 0.10540925533894598), (1548, 0.10540925533894598), (1568, 0.10540925533894598), (1570, 0.10540925533894598), (1609, 0.10540925533894598), (1638, 0.10540925533894598), (1652, 0.10540925533894598), (1659, 0.10540925533894598), (1673, 0.10540925533894598), (1705, 0.10540925533894598), (1722, 0.10540925533894598), (1750, 0.10540925533894598), (1757, 0.10540925533894598), (1759, 0.10540925533894598), (1766, 0.10540925533894598), (1809, 0.10540925533894598), (1817, 0.10540925533894598), (1822, 0.10540925533894598), (1837, 0.10540925533894598), (1842, 0.10540925533894598), (1872, 0.10540925533894598), (1880, 0.10540925533894598), (1891, 0.10540925533894598), (1915, 0.10540925533894598), (1948, 0.10540925533894598), (1982, 0.10540925533894598), (2023, 0.10540925533894598), (2031, 0.10540925533894598), (2056, 0.10540925533894598), (2083, 0.10540925533894598), (2120, 0.10540925533894598), (2126, 0.10540925533894598), (2155, 0.10540925533894598), (2171, 0.10540925533894598), (2174, 0.10540925533894598), (2178, 0.10540925533894598), (2182, 0.10540925533894598), (2188, 0.10540925533894598), (2190, 0.10540925533894598), (2222, 0.10540925533894598), (2260, 0.10540925533894598), (2268, 0.10540925533894598), (2272, 0.10540925533894598), (2275, 0.10540925533894598), (2318, 0.10540925533894598), (2325, 0.10540925533894598), (2334, 0.10540925533894598), (2336, 0.10540925533894598), (2342, 0.10540925533894598), (2373, 0.10540925533894598), (2401, 0.10540925533894598), (2408, 0.10540925533894598), (2418, 0.10540925533894598), (2419, 0.10540925533894598), (2425, 0.10540925533894598), (2431, 0.10540925533894598), (2463, 0.10540925533894598), (2473, 0.10540925533894598), (2477, 0.10540925533894598), (2505, 0.10540925533894598), (2509, 0.10540925533894598), (2511, 0.10540925533894598), (2512, 0.10540925533894598), (2581, 0.10540925533894598), (2610, 0.10540925533894598), (2653, 0.10540925533894598), (2665, 0.10540925533894598), (2710, 0.10540925533894598), (2737, 0.10540925533894598), (2762, 0.10540925533894598), (2814, 0.10540925533894598), (2820, 0.10540925533894598), (2832, 0.10540925533894598), (2837, 0.10540925533894598), (2838, 0.10540925533894598), (2845, 0.10540925533894598), (2870, 0.10540925533894598), (2873, 0.10540925533894598), (2874, 0.10540925533894598), (2876, 0.10540925533894598), (2893, 0.10540925533894598), (2907, 0.10540925533894598), (2959, 0.10540925533894598), (2982, 0.10540925533894598), (3053, 0.10540925533894598), (3103, 0.10540925533894598), (3105, 0.10540925533894598), (3125, 0.10540925533894598), (3156, 0.10540925533894598), (3171, 0.10540925533894598), (3173, 0.10540925533894598), (3187, 0.10540925533894598), (3188, 0.10540925533894598), (3191, 0.10540925533894598), (3195, 0.10540925533894598), (3250, 0.10540925533894598), (3257, 0.10540925533894598), (3270, 0.10540925533894598), (3284, 0.10540925533894598), (3290, 0.10540925533894598), (3335, 0.10540925533894598), (3370, 0.10540925533894598), (3373, 0.10540925533894598), (3375, 0.10540925533894598), (3393, 0.10540925533894598), (3394, 0.10540925533894598), (3407, 0.10540925533894598), (3424, 0.10540925533894598), (3427, 0.10540925533894598), (3450, 0.10540925533894598), (3456, 0.10540925533894598), (3460, 0.10540925533894598), (3502, 0.10540925533894598), (3511, 0.10540925533894598), (3523, 0.10540925533894598), (3531, 0.10540925533894598), (3543, 0.10540925533894598), (3561, 0.10540925533894598), (3618, 0.10540925533894598), (3653, 0.10540925533894598), (3675, 0.10540925533894598), (3717, 0.10540925533894598), (3742, 0.10540925533894598), (3755, 0.10540925533894598), (3770, 0.10540925533894598), (3775, 0.10540925533894598), (3781, 0.10540925533894598), (3801, 0.10540925533894598), (3831, 0.10540925533894598), (3850, 0.10540925533894598), (3854, 0.10540925533894598), (3855, 0.10540925533894598), (3864, 0.10540925533894598), (3878, 0.10540925533894598), (3905, 0.10540925533894598), (3920, 0.10540925533894598), (3940, 0.10540925533894598), (3966, 0.10540925533894598), (3977, 0.10540925533894598), (3979, 0.10540925533894598), (3984, 0.10540925533894598), (4006, 0.10540925533894598), (4012, 0.10540925533894598), (4017, 0.10540925533894598), (4080, 0.10540925533894598), (4103, 0.10540925533894598), (4255, 0.10540925533894598), (4267, 0.10540925533894598), (3, 0.1), (22, 0.1), (33, 0.1), (60, 0.1), (111, 0.1), (116, 0.1), (119, 0.1), (121, 0.1), (125, 0.1), (129, 0.1), (150, 0.1), (156, 0.1), (157, 0.1), (174, 0.1), (179, 0.1), (182, 0.1), (187, 0.1), (190, 0.1), (199, 0.1), (201, 0.1), (212, 0.1), (229, 0.1), (239, 0.1), (240, 0.1), (242, 0.1), (248, 0.1), (268, 0.1), (283, 0.1), (286, 0.1), (300, 0.1), (304, 0.1), (343, 0.1), (356, 0.1), (357, 0.1), (363, 0.1), (368, 0.1), (397, 0.1), (402, 0.1), (434, 0.1), (438, 0.1), (450, 0.1), (454, 0.1), (465, 0.1), (472, 0.1), (481, 0.1), (512, 0.1), (518, 0.1), (522, 0.1), (529, 0.1), (534, 0.1), (580, 0.1), (650, 0.1), (655, 0.1), (664, 0.1), (666, 0.1), (683, 0.1), (692, 0.1), (693, 0.1), (726, 0.1), (736, 0.1), (745, 0.1), (758, 0.1), (815, 0.1), (874, 0.1), (887, 0.1), (892, 0.1), (959, 0.1), (989, 0.1), (1009, 0.1), (1016, 0.1), (1019, 0.1), (1032, 0.1), (1045, 0.1), (1055, 0.1), (1059, 0.1), (1105, 0.1), (1123, 0.1), (1142, 0.1), (1146, 0.1), (1156, 0.1), (1158, 0.1), (1162, 0.1), (1174, 0.1), (1178, 0.1), (1184, 0.1), (1196, 0.1), (1200, 0.1), (1234, 0.1), (1282, 0.1), (1287, 0.1), (1302, 0.1), (1356, 0.1), (1432, 0.1), (1449, 0.1), (1490, 0.1), (1497, 0.1), (1531, 0.1), (1540, 0.1), (1546, 0.1), (1551, 0.1), (1566, 0.1), (1571, 0.1), (1577, 0.1), (1578, 0.1), (1584, 0.1), (1588, 0.1), (1616, 0.1), (1620, 0.1), (1651, 0.1), (1668, 0.1), (1680, 0.1), (1697, 0.1), (1700, 0.1), (1724, 0.1), (1738, 0.1), (1752, 0.1), (1763, 0.1), (1779, 0.1), (1803, 0.1), (1804, 0.1), (1818, 0.1), (1847, 0.1), (1863, 0.1), (1864, 0.1), (1868, 0.1), (1882, 0.1), (1892, 0.1), (1898, 0.1), (1904, 0.1), (1920, 0.1), (1925, 0.1), (1953, 0.1), (1955, 0.1), (1957, 0.1), (1964, 0.1), (1967, 0.1), (1995, 0.1), (1999, 0.1), (2035, 0.1), (2058, 0.1), (2079, 0.1), (2093, 0.1), (2101, 0.1), (2121, 0.1), (2140, 0.1), (2169, 0.1), (2214, 0.1), (2226, 0.1), (2227, 0.1), (2228, 0.1), (2231, 0.1), (2302, 0.1), (2303, 0.1), (2328, 0.1), (2412, 0.1), (2436, 0.1), (2438, 0.1), (2485, 0.1), (2499, 0.1), (2515, 0.1), (2519, 0.1), (2533, 0.1), (2548, 0.1), (2551, 0.1), (2589, 0.1), (2592, 0.1), (2600, 0.1), (2604, 0.1), (2619, 0.1), (2643, 0.1), (2659, 0.1), (2664, 0.1), (2680, 0.1), (2720, 0.1), (2745, 0.1), (2755, 0.1), (2766, 0.1), (2790, 0.1), (2794, 0.1), (2810, 0.1), (2815, 0.1), (2830, 0.1), (2855, 0.1), (2878, 0.1), (2885, 0.1), (2941, 0.1), (2955, 0.1), (2956, 0.1), (2975, 0.1), (2978, 0.1), (2980, 0.1), (2981, 0.1), (2990, 0.1), (3005, 0.1), (3012, 0.1), (3061, 0.1), (3072, 0.1), (3083, 0.1), (3112, 0.1), (3114, 0.1), (3121, 0.1), (3130, 0.1), (3132, 0.1), (3185, 0.1), (3199, 0.1), (3206, 0.1), (3238, 0.1), (3291, 0.1), (3296, 0.1), (3302, 0.1), (3303, 0.1), (3341, 0.1), (3345, 0.1), (3360, 0.1), (3374, 0.1), (3377, 0.1), (3381, 0.1), (3383, 0.1), (3390, 0.1), (3419, 0.1), (3437, 0.1), (3439, 0.1), (3440, 0.1), (3451, 0.1), (3537, 0.1), (3550, 0.1), (3558, 0.1), (3587, 0.1), (3588, 0.1), (3593, 0.1), (3603, 0.1), (3628, 0.1), (3644, 0.1), (3656, 0.1), (3668, 0.1), (3711, 0.1), (3723, 0.1), (3772, 0.1), (3780, 0.1), (3797, 0.1), (3803, 0.1), (3814, 0.1), (3827, 0.1), (3858, 0.1), (3865, 0.1), (3876, 0.1), (3881, 0.1), (3887, 0.1), (3913, 0.1), (3973, 0.1), (3978, 0.1), (3990, 0.1), (3993, 0.1), (3999, 0.1), (4009, 0.1), (4018, 0.1), (4033, 0.1), (4085, 0.1), (4119, 0.1), (4130, 0.1), (4157, 0.1), (4160, 0.1), (4170, 0.1), (4173, 0.1), (4188, 0.1), (4194, 0.1), (4197, 0.1), (4209, 0.1), (4213, 0.1), (4234, 0.1), (10, 0.09534625892455924), (15, 0.09534625892455924), (19, 0.09534625892455924), (21, 0.09534625892455924), (34, 0.09534625892455924), (50, 0.09534625892455924), (57, 0.09534625892455924), (61, 0.09534625892455924), (101, 0.09534625892455924), (127, 0.09534625892455924), (132, 0.09534625892455924), (133, 0.09534625892455924), (149, 0.09534625892455924), (154, 0.09534625892455924), (172, 0.09534625892455924), (173, 0.09534625892455924), (177, 0.09534625892455924), (178, 0.09534625892455924), (189, 0.09534625892455924), (193, 0.09534625892455924), (197, 0.09534625892455924), (245, 0.09534625892455924), (251, 0.09534625892455924), (260, 0.09534625892455924), (261, 0.09534625892455924), (264, 0.09534625892455924), (273, 0.09534625892455924), (284, 0.09534625892455924), (291, 0.09534625892455924), (317, 0.09534625892455924), (320, 0.09534625892455924), (321, 0.09534625892455924), (322, 0.09534625892455924), (347, 0.09534625892455924), (349, 0.09534625892455924), (362, 0.09534625892455924), (373, 0.09534625892455924), (379, 0.09534625892455924), (385, 0.09534625892455924), (391, 0.09534625892455924), (447, 0.09534625892455924), (459, 0.09534625892455924), (503, 0.09534625892455924), (504, 0.09534625892455924), (552, 0.09534625892455924), (563, 0.09534625892455924), (578, 0.09534625892455924), (598, 0.09534625892455924), (613, 0.09534625892455924), (617, 0.09534625892455924), (619, 0.09534625892455924), (634, 0.09534625892455924), (646, 0.09534625892455924), (648, 0.09534625892455924), (649, 0.09534625892455924), (677, 0.09534625892455924), (682, 0.09534625892455924), (695, 0.09534625892455924), (697, 0.09534625892455924), (721, 0.09534625892455924), (723, 0.09534625892455924), (725, 0.09534625892455924), (752, 0.09534625892455924), (756, 0.09534625892455924), (764, 0.09534625892455924), (811, 0.09534625892455924), (814, 0.09534625892455924), (819, 0.09534625892455924), (830, 0.09534625892455924), (835, 0.09534625892455924), (839, 0.09534625892455924), (850, 0.09534625892455924), (862, 0.09534625892455924), (866, 0.09534625892455924), (875, 0.09534625892455924), (888, 0.09534625892455924), (921, 0.09534625892455924), (923, 0.09534625892455924), (933, 0.09534625892455924), (934, 0.09534625892455924), (937, 0.09534625892455924), (948, 0.09534625892455924), (952, 0.09534625892455924), (968, 0.09534625892455924), (974, 0.09534625892455924), (986, 0.09534625892455924), (993, 0.09534625892455924), (997, 0.09534625892455924), (999, 0.09534625892455924), (1013, 0.09534625892455924), (1026, 0.09534625892455924), (1039, 0.09534625892455924), (1040, 0.09534625892455924), (1046, 0.09534625892455924), (1056, 0.09534625892455924), (1058, 0.09534625892455924), (1066, 0.09534625892455924), (1071, 0.09534625892455924), (1074, 0.09534625892455924), (1082, 0.09534625892455924), (1114, 0.09534625892455924), (1120, 0.09534625892455924), (1141, 0.09534625892455924), (1145, 0.09534625892455924), (1163, 0.09534625892455924), (1173, 0.09534625892455924), (1176, 0.09534625892455924), (1185, 0.09534625892455924), (1188, 0.09534625892455924), (1195, 0.09534625892455924), (1198, 0.09534625892455924), (1239, 0.09534625892455924), (1243, 0.09534625892455924), (1269, 0.09534625892455924), (1291, 0.09534625892455924), (1293, 0.09534625892455924), (1313, 0.09534625892455924), (1318, 0.09534625892455924), (1338, 0.09534625892455924), (1367, 0.09534625892455924), (1370, 0.09534625892455924), (1465, 0.09534625892455924), (1519, 0.09534625892455924), (1532, 0.09534625892455924), (1537, 0.09534625892455924), (1539, 0.09534625892455924), (1545, 0.09534625892455924), (1575, 0.09534625892455924), (1580, 0.09534625892455924), (1617, 0.09534625892455924), (1635, 0.09534625892455924), (1637, 0.09534625892455924), (1641, 0.09534625892455924), (1658, 0.09534625892455924), (1660, 0.09534625892455924), (1696, 0.09534625892455924), (1708, 0.09534625892455924), (1714, 0.09534625892455924), (1727, 0.09534625892455924), (1741, 0.09534625892455924), (1760, 0.09534625892455924), (1785, 0.09534625892455924), (1798, 0.09534625892455924), (1799, 0.09534625892455924), (1814, 0.09534625892455924), (1829, 0.09534625892455924), (1881, 0.09534625892455924), (1897, 0.09534625892455924), (1910, 0.09534625892455924), (1914, 0.09534625892455924), (1924, 0.09534625892455924), (2011, 0.09534625892455924), (2016, 0.09534625892455924), (2017, 0.09534625892455924), (2018, 0.09534625892455924), (2068, 0.09534625892455924), (2150, 0.09534625892455924), (2156, 0.09534625892455924), (2162, 0.09534625892455924), (2176, 0.09534625892455924), (2211, 0.09534625892455924), (2215, 0.09534625892455924), (2218, 0.09534625892455924), (2233, 0.09534625892455924), (2238, 0.09534625892455924), (2239, 0.09534625892455924), (2262, 0.09534625892455924), (2267, 0.09534625892455924), (2294, 0.09534625892455924), (2305, 0.09534625892455924), (2310, 0.09534625892455924), (2337, 0.09534625892455924), (2367, 0.09534625892455924), (2377, 0.09534625892455924), (2381, 0.09534625892455924), (2385, 0.09534625892455924), (2404, 0.09534625892455924), (2405, 0.09534625892455924), (2420, 0.09534625892455924), (2429, 0.09534625892455924), (2460, 0.09534625892455924), (2464, 0.09534625892455924), (2475, 0.09534625892455924), (2518, 0.09534625892455924), (2543, 0.09534625892455924), (2550, 0.09534625892455924), (2552, 0.09534625892455924), (2587, 0.09534625892455924), (2591, 0.09534625892455924), (2611, 0.09534625892455924), (2623, 0.09534625892455924), (2631, 0.09534625892455924), (2635, 0.09534625892455924), (2657, 0.09534625892455924), (2716, 0.09534625892455924), (2731, 0.09534625892455924), (2754, 0.09534625892455924), (2764, 0.09534625892455924), (2772, 0.09534625892455924), (2800, 0.09534625892455924), (2804, 0.09534625892455924), (2818, 0.09534625892455924), (2856, 0.09534625892455924), (2868, 0.09534625892455924), (2889, 0.09534625892455924), (2908, 0.09534625892455924), (2909, 0.09534625892455924), (2938, 0.09534625892455924), (2960, 0.09534625892455924), (3000, 0.09534625892455924), (3002, 0.09534625892455924), (3026, 0.09534625892455924), (3064, 0.09534625892455924), (3096, 0.09534625892455924), (3118, 0.09534625892455924), (3137, 0.09534625892455924), (3178, 0.09534625892455924), (3182, 0.09534625892455924), (3220, 0.09534625892455924), (3242, 0.09534625892455924), (3265, 0.09534625892455924), (3321, 0.09534625892455924), (3337, 0.09534625892455924), (3363, 0.09534625892455924), (3425, 0.09534625892455924), (3446, 0.09534625892455924), (3448, 0.09534625892455924), (3483, 0.09534625892455924), (3487, 0.09534625892455924), (3515, 0.09534625892455924), (3604, 0.09534625892455924), (3629, 0.09534625892455924), (3647, 0.09534625892455924), (3670, 0.09534625892455924), (3683, 0.09534625892455924), (3699, 0.09534625892455924), (3704, 0.09534625892455924), (3707, 0.09534625892455924), (3714, 0.09534625892455924), (3748, 0.09534625892455924), (3805, 0.09534625892455924), (3808, 0.09534625892455924), (3822, 0.09534625892455924), (3871, 0.09534625892455924), (3875, 0.09534625892455924), (3882, 0.09534625892455924), (3890, 0.09534625892455924), (3947, 0.09534625892455924), (4031, 0.09534625892455924), (4047, 0.09534625892455924), (4102, 0.09534625892455924), (4114, 0.09534625892455924), (4122, 0.09534625892455924), (4151, 0.09534625892455924), (4155, 0.09534625892455924), (4162, 0.09534625892455924), (4174, 0.09534625892455924), (4184, 0.09534625892455924), (4210, 0.09534625892455924), (4225, 0.09534625892455924), (44, 0.0912870929175277), (65, 0.0912870929175277), (75, 0.0912870929175277), (126, 0.0912870929175277), (142, 0.0912870929175277), (145, 0.0912870929175277), (203, 0.0912870929175277), (220, 0.0912870929175277), (231, 0.0912870929175277), (254, 0.0912870929175277), (269, 0.0912870929175277), (276, 0.0912870929175277), (292, 0.0912870929175277), (299, 0.0912870929175277), (335, 0.0912870929175277), (376, 0.0912870929175277), (378, 0.0912870929175277), (400, 0.0912870929175277), (415, 0.0912870929175277), (432, 0.0912870929175277), (444, 0.0912870929175277), (455, 0.0912870929175277), (469, 0.0912870929175277), (485, 0.0912870929175277), (502, 0.0912870929175277), (514, 0.0912870929175277), (519, 0.0912870929175277), (540, 0.0912870929175277), (541, 0.0912870929175277), (561, 0.0912870929175277), (569, 0.0912870929175277), (576, 0.0912870929175277), (591, 0.0912870929175277), (615, 0.0912870929175277), (626, 0.0912870929175277), (627, 0.0912870929175277), (632, 0.0912870929175277), (651, 0.0912870929175277), (675, 0.0912870929175277), (679, 0.0912870929175277), (696, 0.0912870929175277), (702, 0.0912870929175277), (713, 0.0912870929175277), (714, 0.0912870929175277), (734, 0.0912870929175277), (767, 0.0912870929175277), (769, 0.0912870929175277), (771, 0.0912870929175277), (798, 0.0912870929175277), (800, 0.0912870929175277), (802, 0.0912870929175277), (817, 0.0912870929175277), (821, 0.0912870929175277), (831, 0.0912870929175277), (834, 0.0912870929175277), (840, 0.0912870929175277), (849, 0.0912870929175277), (882, 0.0912870929175277), (913, 0.0912870929175277), (920, 0.0912870929175277), (925, 0.0912870929175277), (932, 0.0912870929175277), (941, 0.0912870929175277), (944, 0.0912870929175277), (947, 0.0912870929175277), (955, 0.0912870929175277), (977, 0.0912870929175277), (987, 0.0912870929175277), (990, 0.0912870929175277), (992, 0.0912870929175277), (1001, 0.0912870929175277), (1011, 0.0912870929175277), (1030, 0.0912870929175277), (1031, 0.0912870929175277), (1036, 0.0912870929175277), (1043, 0.0912870929175277), (1057, 0.0912870929175277), (1060, 0.0912870929175277), (1061, 0.0912870929175277), (1062, 0.0912870929175277), (1076, 0.0912870929175277), (1077, 0.0912870929175277), (1093, 0.0912870929175277), (1108, 0.0912870929175277), (1113, 0.0912870929175277), (1139, 0.0912870929175277), (1144, 0.0912870929175277), (1154, 0.0912870929175277), (1164, 0.0912870929175277), (1172, 0.0912870929175277), (1183, 0.0912870929175277), (1232, 0.0912870929175277), (1314, 0.0912870929175277), (1320, 0.0912870929175277), (1322, 0.0912870929175277), (1392, 0.0912870929175277), (1439, 0.0912870929175277), (1454, 0.0912870929175277), (1461, 0.0912870929175277), (1462, 0.0912870929175277), (1474, 0.0912870929175277), (1476, 0.0912870929175277), (1489, 0.0912870929175277), (1495, 0.0912870929175277), (1514, 0.0912870929175277), (1538, 0.0912870929175277), (1547, 0.0912870929175277), (1557, 0.0912870929175277), (1558, 0.0912870929175277), (1563, 0.0912870929175277), (1586, 0.0912870929175277), (1723, 0.0912870929175277), (1739, 0.0912870929175277), (1751, 0.0912870929175277), (1806, 0.0912870929175277), (1844, 0.0912870929175277), (1862, 0.0912870929175277), (1931, 0.0912870929175277), (1932, 0.0912870929175277), (1939, 0.0912870929175277), (1941, 0.0912870929175277), (1960, 0.0912870929175277), (1985, 0.0912870929175277), (1986, 0.0912870929175277), (2026, 0.0912870929175277), (2038, 0.0912870929175277), (2061, 0.0912870929175277), (2063, 0.0912870929175277), (2092, 0.0912870929175277), (2109, 0.0912870929175277), (2116, 0.0912870929175277), (2158, 0.0912870929175277), (2165, 0.0912870929175277), (2166, 0.0912870929175277), (2236, 0.0912870929175277), (2242, 0.0912870929175277), (2247, 0.0912870929175277), (2256, 0.0912870929175277), (2259, 0.0912870929175277), (2313, 0.0912870929175277), (2364, 0.0912870929175277), (2413, 0.0912870929175277), (2428, 0.0912870929175277), (2456, 0.0912870929175277), (2508, 0.0912870929175277), (2522, 0.0912870929175277), (2567, 0.0912870929175277), (2656, 0.0912870929175277), (2660, 0.0912870929175277), (2668, 0.0912870929175277), (2725, 0.0912870929175277), (2746, 0.0912870929175277), (2813, 0.0912870929175277), (2816, 0.0912870929175277), (2828, 0.0912870929175277), (2840, 0.0912870929175277), (2854, 0.0912870929175277), (2857, 0.0912870929175277), (2872, 0.0912870929175277), (2884, 0.0912870929175277), (2920, 0.0912870929175277), (3063, 0.0912870929175277), (3104, 0.0912870929175277), (3117, 0.0912870929175277), (3126, 0.0912870929175277), (3168, 0.0912870929175277), (3175, 0.0912870929175277), (3190, 0.0912870929175277), (3192, 0.0912870929175277), (3213, 0.0912870929175277), (3214, 0.0912870929175277), (3342, 0.0912870929175277), (3354, 0.0912870929175277), (3386, 0.0912870929175277), (3463, 0.0912870929175277), (3472, 0.0912870929175277), (3486, 0.0912870929175277), (3514, 0.0912870929175277), (3536, 0.0912870929175277), (3605, 0.0912870929175277), (3669, 0.0912870929175277), (3671, 0.0912870929175277), (3705, 0.0912870929175277), (3776, 0.0912870929175277), (3778, 0.0912870929175277), (3821, 0.0912870929175277), (3866, 0.0912870929175277), (3880, 0.0912870929175277), (3894, 0.0912870929175277), (4000, 0.0912870929175277), (4039, 0.0912870929175277), (4045, 0.0912870929175277), (4054, 0.0912870929175277), (4111, 0.0912870929175277), (4124, 0.0912870929175277), (4126, 0.0912870929175277), (4141, 0.0912870929175277), (4159, 0.0912870929175277), (4191, 0.0912870929175277), (4248, 0.0912870929175277), (4275, 0.0912870929175277), (4279, 0.0912870929175277), (0, 0.08770580193070293), (13, 0.08770580193070293), (36, 0.08770580193070293), (54, 0.08770580193070293), (73, 0.08770580193070293), (77, 0.08770580193070293), (92, 0.08770580193070293), (110, 0.08770580193070293), (118, 0.08770580193070293), (171, 0.08770580193070293), (228, 0.08770580193070293), (233, 0.08770580193070293), (244, 0.08770580193070293), (249, 0.08770580193070293), (265, 0.08770580193070293), (272, 0.08770580193070293), (279, 0.08770580193070293), (323, 0.08770580193070293), (326, 0.08770580193070293), (339, 0.08770580193070293), (346, 0.08770580193070293), (350, 0.08770580193070293), (358, 0.08770580193070293), (427, 0.08770580193070293), (437, 0.08770580193070293), (479, 0.08770580193070293), (483, 0.08770580193070293), (489, 0.08770580193070293), (493, 0.08770580193070293), (506, 0.08770580193070293), (516, 0.08770580193070293), (532, 0.08770580193070293), (533, 0.08770580193070293), (549, 0.08770580193070293), (616, 0.08770580193070293), (618, 0.08770580193070293), (623, 0.08770580193070293), (624, 0.08770580193070293), (630, 0.08770580193070293), (738, 0.08770580193070293), (754, 0.08770580193070293), (757, 0.08770580193070293), (777, 0.08770580193070293), (783, 0.08770580193070293), (795, 0.08770580193070293), (809, 0.08770580193070293), (851, 0.08770580193070293), (873, 0.08770580193070293), (907, 0.08770580193070293), (915, 0.08770580193070293), (930, 0.08770580193070293), (971, 0.08770580193070293), (976, 0.08770580193070293), (1024, 0.08770580193070293), (1044, 0.08770580193070293), (1065, 0.08770580193070293), (1117, 0.08770580193070293), (1276, 0.08770580193070293), (1288, 0.08770580193070293), (1296, 0.08770580193070293), (1304, 0.08770580193070293), (1323, 0.08770580193070293), (1409, 0.08770580193070293), (1482, 0.08770580193070293), (1530, 0.08770580193070293), (1562, 0.08770580193070293), (1642, 0.08770580193070293), (1666, 0.08770580193070293), (1671, 0.08770580193070293), (1702, 0.08770580193070293), (1707, 0.08770580193070293), (1728, 0.08770580193070293), (1732, 0.08770580193070293), (1737, 0.08770580193070293), (1808, 0.08770580193070293), (1874, 0.08770580193070293), (1900, 0.08770580193070293), (1903, 0.08770580193070293), (1937, 0.08770580193070293), (1988, 0.08770580193070293), (2036, 0.08770580193070293), (2114, 0.08770580193070293), (2143, 0.08770580193070293), (2163, 0.08770580193070293), (2213, 0.08770580193070293), (2216, 0.08770580193070293), (2217, 0.08770580193070293), (2229, 0.08770580193070293), (2250, 0.08770580193070293), (2261, 0.08770580193070293), (2287, 0.08770580193070293), (2415, 0.08770580193070293), (2417, 0.08770580193070293), (2421, 0.08770580193070293), (2440, 0.08770580193070293), (2503, 0.08770580193070293), (2521, 0.08770580193070293), (2638, 0.08770580193070293), (2682, 0.08770580193070293), (2690, 0.08770580193070293), (2709, 0.08770580193070293), (2771, 0.08770580193070293), (2808, 0.08770580193070293), (2817, 0.08770580193070293), (2839, 0.08770580193070293), (2843, 0.08770580193070293), (2860, 0.08770580193070293), (2869, 0.08770580193070293), (2888, 0.08770580193070293), (2914, 0.08770580193070293), (2949, 0.08770580193070293), (3013, 0.08770580193070293), (3017, 0.08770580193070293), (3060, 0.08770580193070293), (3140, 0.08770580193070293), (3149, 0.08770580193070293), (3161, 0.08770580193070293), (3174, 0.08770580193070293), (3259, 0.08770580193070293), (3289, 0.08770580193070293), (3344, 0.08770580193070293), (3475, 0.08770580193070293), (3559, 0.08770580193070293), (3641, 0.08770580193070293), (3690, 0.08770580193070293), (3709, 0.08770580193070293), (3712, 0.08770580193070293), (3726, 0.08770580193070293), (3798, 0.08770580193070293), (3810, 0.08770580193070293), (3840, 0.08770580193070293), (3893, 0.08770580193070293), (3928, 0.08770580193070293), (3982, 0.08770580193070293), (3989, 0.08770580193070293), (4046, 0.08770580193070293), (4115, 0.08770580193070293), (4121, 0.08770580193070293), (4125, 0.08770580193070293), (4198, 0.08770580193070293), (4220, 0.08770580193070293), (4230, 0.08770580193070293), (4263, 0.08770580193070293), (4276, 0.08770580193070293), (4, 0.08451542547285167), (32, 0.08451542547285167), (63, 0.08451542547285167), (147, 0.08451542547285167), (158, 0.08451542547285167), (159, 0.08451542547285167), (183, 0.08451542547285167), (222, 0.08451542547285167), (243, 0.08451542547285167), (287, 0.08451542547285167), (342, 0.08451542547285167), (353, 0.08451542547285167), (355, 0.08451542547285167), (409, 0.08451542547285167), (435, 0.08451542547285167), (491, 0.08451542547285167), (535, 0.08451542547285167), (539, 0.08451542547285167), (562, 0.08451542547285167), (621, 0.08451542547285167), (637, 0.08451542547285167), (641, 0.08451542547285167), (656, 0.08451542547285167), (690, 0.08451542547285167), (759, 0.08451542547285167), (827, 0.08451542547285167), (857, 0.08451542547285167), (896, 0.08451542547285167), (898, 0.08451542547285167), (922, 0.08451542547285167), (943, 0.08451542547285167), (964, 0.08451542547285167), (975, 0.08451542547285167), (1053, 0.08451542547285167), (1078, 0.08451542547285167), (1089, 0.08451542547285167), (1099, 0.08451542547285167), (1219, 0.08451542547285167), (1316, 0.08451542547285167), (1340, 0.08451542547285167), (1371, 0.08451542547285167), (1460, 0.08451542547285167), (1543, 0.08451542547285167), (1553, 0.08451542547285167), (1561, 0.08451542547285167), (1656, 0.08451542547285167), (1665, 0.08451542547285167), (1681, 0.08451542547285167), (1693, 0.08451542547285167), (1761, 0.08451542547285167), (1776, 0.08451542547285167), (1778, 0.08451542547285167), (1796, 0.08451542547285167), (1800, 0.08451542547285167), (1926, 0.08451542547285167), (1961, 0.08451542547285167), (2006, 0.08451542547285167), (2027, 0.08451542547285167), (2089, 0.08451542547285167), (2091, 0.08451542547285167), (2104, 0.08451542547285167), (2136, 0.08451542547285167), (2340, 0.08451542547285167), (2427, 0.08451542547285167), (2524, 0.08451542547285167), (2597, 0.08451542547285167), (2636, 0.08451542547285167), (2652, 0.08451542547285167), (2811, 0.08451542547285167), (2931, 0.08451542547285167), (2979, 0.08451542547285167), (3004, 0.08451542547285167), (3165, 0.08451542547285167), (3263, 0.08451542547285167), (3319, 0.08451542547285167), (3362, 0.08451542547285167), (3432, 0.08451542547285167), (3623, 0.08451542547285167), (3857, 0.08451542547285167), (3925, 0.08451542547285167), (3976, 0.08451542547285167), (4010, 0.08451542547285167), (4016, 0.08451542547285167), (4182, 0.08451542547285167), (4227, 0.08451542547285167), (20, 0.0816496580927726), (27, 0.0816496580927726), (71, 0.0816496580927726), (90, 0.0816496580927726), (109, 0.0816496580927726), (361, 0.0816496580927726), (382, 0.0816496580927726), (492, 0.0816496580927726), (647, 0.0816496580927726), (653, 0.0816496580927726), (657, 0.0816496580927726), (667, 0.0816496580927726), (684, 0.0816496580927726), (744, 0.0816496580927726), (772, 0.0816496580927726), (793, 0.0816496580927726), (914, 0.0816496580927726), (1299, 0.0816496580927726), (1350, 0.0816496580927726), (1393, 0.0816496580927726), (1407, 0.0816496580927726), (1494, 0.0816496580927726), (2374, 0.0816496580927726), (2510, 0.0816496580927726), (2571, 0.0816496580927726), (2791, 0.0816496580927726), (2805, 0.0816496580927726), (2807, 0.0816496580927726), (2866, 0.0816496580927726), (3043, 0.0816496580927726), (3177, 0.0816496580927726), (3183, 0.0816496580927726), (3244, 0.0816496580927726), (3258, 0.0816496580927726), (3328, 0.0816496580927726), (3329, 0.0816496580927726), (3595, 0.0816496580927726), (3816, 0.0816496580927726), (3856, 0.0816496580927726), (3958, 0.0816496580927726), (3972, 0.0816496580927726), (4127, 0.0816496580927726), (59, 0.07905694150420949), (69, 0.07905694150420949), (131, 0.07905694150420949), (155, 0.07905694150420949), (168, 0.07905694150420949), (196, 0.07905694150420949), (387, 0.07905694150420949), (568, 0.07905694150420949), (570, 0.07905694150420949), (712, 0.07905694150420949), (718, 0.07905694150420949), (924, 0.07905694150420949), (1140, 0.07905694150420949), (1214, 0.07905694150420949), (1266, 0.07905694150420949), (1368, 0.07905694150420949), (1507, 0.07905694150420949), (1549, 0.07905694150420949), (1565, 0.07905694150420949), (1579, 0.07905694150420949), (1645, 0.07905694150420949), (1870, 0.07905694150420949), (2161, 0.07905694150420949), (2223, 0.07905694150420949), (2360, 0.07905694150420949), (2504, 0.07905694150420949), (2513, 0.07905694150420949), (2827, 0.07905694150420949), (2862, 0.07905694150420949), (2864, 0.07905694150420949), (3241, 0.07905694150420949), (3368, 0.07905694150420949), (3773, 0.07905694150420949), (3819, 0.07905694150420949), (4019, 0.07905694150420949), (4207, 0.07905694150420949), (42, 0.07669649888473705), (411, 0.07669649888473705), (462, 0.07669649888473705), (586, 0.07669649888473705), (1199, 0.07669649888473705), (2435, 0.07669649888473705), (2797, 0.07669649888473705), (4215, 0.07669649888473705), (487, 0.074535599249993), (770, 0.074535599249993), (3231, 0.074535599249993), (3834, 0.074535599249993), (4212, 0.074535599249993), (46, 0.07254762501100116), (1151, 0.07254762501100116), (2809, 0.07254762501100116), (4096, 0.07254762501100116), (716, 0.07071067811865475), (1411, 0.0659380473395787), (1544, 0.060858061945018464), (1, 0.0), (2, 0.0), (6, 0.0), (12, 0.0), (30, 0.0), (31, 0.0), (35, 0.0), (37, 0.0), (38, 0.0), (45, 0.0), (48, 0.0), (51, 0.0), (55, 0.0), (56, 0.0), (58, 0.0), (64, 0.0), (68, 0.0), (80, 0.0), (81, 0.0), (86, 0.0), (87, 0.0), (89, 0.0), (94, 0.0), (96, 0.0), (97, 0.0), (102, 0.0), (104, 0.0), (112, 0.0), (113, 0.0), (115, 0.0), (117, 0.0), (120, 0.0), (123, 0.0), (128, 0.0), (135, 0.0), (136, 0.0), (138, 0.0), (141, 0.0), (167, 0.0), (175, 0.0), (184, 0.0), (185, 0.0), (186, 0.0), (192, 0.0), (194, 0.0), (198, 0.0), (204, 0.0), (209, 0.0), (213, 0.0), (218, 0.0), (225, 0.0), (227, 0.0), (230, 0.0), (234, 0.0), (236, 0.0), (237, 0.0), (238, 0.0), (252, 0.0), (253, 0.0), (255, 0.0), (256, 0.0), (267, 0.0), (271, 0.0), (275, 0.0), (277, 0.0), (278, 0.0), (281, 0.0), (282, 0.0), (289, 0.0), (294, 0.0), (295, 0.0), (296, 0.0), (298, 0.0), (301, 0.0), (305, 0.0), (306, 0.0), (309, 0.0), (312, 0.0), (315, 0.0), (328, 0.0), (330, 0.0), (338, 0.0), (348, 0.0), (351, 0.0), (354, 0.0), (360, 0.0), (372, 0.0), (381, 0.0), (383, 0.0), (384, 0.0), (390, 0.0), (396, 0.0), (399, 0.0), (401, 0.0), (403, 0.0), (404, 0.0), (408, 0.0), (410, 0.0), (413, 0.0), (414, 0.0), (416, 0.0), (417, 0.0), (420, 0.0), (422, 0.0), (423, 0.0), (429, 0.0), (431, 0.0), (439, 0.0), (440, 0.0), (442, 0.0), (449, 0.0), (456, 0.0), (463, 0.0), (466, 0.0), (467, 0.0), (468, 0.0), (470, 0.0), (471, 0.0), (474, 0.0), (476, 0.0), (478, 0.0), (482, 0.0), (495, 0.0), (496, 0.0), (498, 0.0), (499, 0.0), (500, 0.0), (509, 0.0), (511, 0.0), (513, 0.0), (520, 0.0), (525, 0.0), (526, 0.0), (527, 0.0), (528, 0.0), (530, 0.0), (538, 0.0), (542, 0.0), (543, 0.0), (544, 0.0), (545, 0.0), (547, 0.0), (548, 0.0), (550, 0.0), (551, 0.0), (553, 0.0), (554, 0.0), (555, 0.0), (558, 0.0), (564, 0.0), (565, 0.0), (567, 0.0), (572, 0.0), (573, 0.0), (575, 0.0), (577, 0.0), (581, 0.0), (582, 0.0), (583, 0.0), (585, 0.0), (587, 0.0), (588, 0.0), (592, 0.0), (593, 0.0), (594, 0.0), (595, 0.0), (596, 0.0), (597, 0.0), (603, 0.0), (604, 0.0), (605, 0.0), (606, 0.0), (608, 0.0), (609, 0.0), (610, 0.0), (611, 0.0), (612, 0.0), (622, 0.0), (628, 0.0), (631, 0.0), (635, 0.0), (636, 0.0), (638, 0.0), (643, 0.0), (652, 0.0), (654, 0.0), (658, 0.0), (659, 0.0), (660, 0.0), (661, 0.0), (662, 0.0), (663, 0.0), (665, 0.0), (668, 0.0), (669, 0.0), (671, 0.0), (672, 0.0), (676, 0.0), (678, 0.0), (680, 0.0), (681, 0.0), (686, 0.0), (687, 0.0), (688, 0.0), (689, 0.0), (691, 0.0), (694, 0.0), (698, 0.0), (700, 0.0), (701, 0.0), (703, 0.0), (704, 0.0), (705, 0.0), (708, 0.0), (710, 0.0), (722, 0.0), (727, 0.0), (732, 0.0), (733, 0.0), (735, 0.0), (737, 0.0), (740, 0.0), (741, 0.0), (743, 0.0), (747, 0.0), (749, 0.0), (760, 0.0), (761, 0.0), (766, 0.0), (768, 0.0), (773, 0.0), (775, 0.0), (776, 0.0), (778, 0.0), (779, 0.0), (780, 0.0), (781, 0.0), (786, 0.0), (788, 0.0), (791, 0.0), (796, 0.0), (797, 0.0), (801, 0.0), (804, 0.0), (805, 0.0), (808, 0.0), (810, 0.0), (818, 0.0), (822, 0.0), (823, 0.0), (826, 0.0), (828, 0.0), (836, 0.0), (841, 0.0), (842, 0.0), (843, 0.0), (844, 0.0), (847, 0.0), (848, 0.0), (853, 0.0), (854, 0.0), (858, 0.0), (859, 0.0), (860, 0.0), (861, 0.0), (863, 0.0), (865, 0.0), (868, 0.0), (869, 0.0), (870, 0.0), (872, 0.0), (876, 0.0), (879, 0.0), (880, 0.0), (883, 0.0), (884, 0.0), (889, 0.0), (890, 0.0), (891, 0.0), (893, 0.0), (894, 0.0), (897, 0.0), (899, 0.0), (901, 0.0), (902, 0.0), (903, 0.0), (904, 0.0), (905, 0.0), (906, 0.0), (908, 0.0), (911, 0.0), (912, 0.0), (917, 0.0), (918, 0.0), (919, 0.0), (926, 0.0), (927, 0.0), (928, 0.0), (929, 0.0), (931, 0.0), (936, 0.0), (938, 0.0), (939, 0.0), (940, 0.0), (946, 0.0), (949, 0.0), (950, 0.0), (958, 0.0), (961, 0.0), (962, 0.0), (963, 0.0), (965, 0.0), (966, 0.0), (967, 0.0), (969, 0.0), (970, 0.0), (972, 0.0), (978, 0.0), (979, 0.0), (981, 0.0), (982, 0.0), (984, 0.0), (991, 0.0), (994, 0.0), (996, 0.0), (1002, 0.0), (1003, 0.0), (1004, 0.0), (1007, 0.0), (1014, 0.0), (1015, 0.0), (1017, 0.0), (1018, 0.0), (1027, 0.0), (1028, 0.0), (1029, 0.0), (1033, 0.0), (1035, 0.0), (1037, 0.0), (1038, 0.0), (1048, 0.0), (1050, 0.0), (1051, 0.0), (1052, 0.0), (1067, 0.0), (1069, 0.0), (1070, 0.0), (1072, 0.0), (1073, 0.0), (1081, 0.0), (1083, 0.0), (1084, 0.0), (1085, 0.0), (1086, 0.0), (1088, 0.0), (1091, 0.0), (1092, 0.0), (1094, 0.0), (1095, 0.0), (1096, 0.0), (1097, 0.0), (1098, 0.0), (1100, 0.0), (1101, 0.0), (1102, 0.0), (1103, 0.0), (1104, 0.0), (1106, 0.0), (1107, 0.0), (1109, 0.0), (1110, 0.0), (1112, 0.0), (1116, 0.0), (1119, 0.0), (1121, 0.0), (1126, 0.0), (1129, 0.0), (1131, 0.0), (1132, 0.0), (1133, 0.0), (1136, 0.0), (1147, 0.0), (1150, 0.0), (1155, 0.0), (1165, 0.0), (1166, 0.0), (1169, 0.0), (1170, 0.0), (1171, 0.0), (1175, 0.0), (1177, 0.0), (1180, 0.0), (1181, 0.0), (1186, 0.0), (1189, 0.0), (1191, 0.0), (1192, 0.0), (1193, 0.0), (1197, 0.0), (1203, 0.0), (1204, 0.0), (1210, 0.0), (1211, 0.0), (1213, 0.0), (1216, 0.0), (1220, 0.0), (1223, 0.0), (1224, 0.0), (1226, 0.0), (1227, 0.0), (1228, 0.0), (1229, 0.0), (1230, 0.0), (1231, 0.0), (1233, 0.0), (1238, 0.0), (1240, 0.0), (1241, 0.0), (1242, 0.0), (1244, 0.0), (1247, 0.0), (1248, 0.0), (1249, 0.0), (1251, 0.0), (1252, 0.0), (1253, 0.0), (1254, 0.0), (1255, 0.0), (1257, 0.0), (1258, 0.0), (1259, 0.0), (1260, 0.0), (1265, 0.0), (1268, 0.0), (1270, 0.0), (1271, 0.0), (1272, 0.0), (1273, 0.0), (1274, 0.0), (1277, 0.0), (1278, 0.0), (1279, 0.0), (1280, 0.0), (1285, 0.0), (1286, 0.0), (1290, 0.0), (1292, 0.0), (1294, 0.0), (1295, 0.0), (1300, 0.0), (1301, 0.0), (1303, 0.0), (1306, 0.0), (1309, 0.0), (1310, 0.0), (1311, 0.0), (1319, 0.0), (1321, 0.0), (1324, 0.0), (1325, 0.0), (1326, 0.0), (1327, 0.0), (1328, 0.0), (1329, 0.0), (1330, 0.0), (1331, 0.0), (1332, 0.0), (1334, 0.0), (1335, 0.0), (1336, 0.0), (1342, 0.0), (1343, 0.0), (1347, 0.0), (1348, 0.0), (1349, 0.0), (1351, 0.0), (1353, 0.0), (1354, 0.0), (1355, 0.0), (1359, 0.0), (1361, 0.0), (1363, 0.0), (1365, 0.0), (1366, 0.0), (1372, 0.0), (1373, 0.0), (1375, 0.0), (1377, 0.0), (1378, 0.0), (1379, 0.0), (1381, 0.0), (1382, 0.0), (1383, 0.0), (1384, 0.0), (1385, 0.0), (1386, 0.0), (1389, 0.0), (1390, 0.0), (1391, 0.0), (1394, 0.0), (1395, 0.0), (1398, 0.0), (1400, 0.0), (1402, 0.0), (1403, 0.0), (1404, 0.0), (1406, 0.0), (1408, 0.0), (1410, 0.0), (1412, 0.0), (1413, 0.0), (1414, 0.0), (1417, 0.0), (1420, 0.0), (1422, 0.0), (1423, 0.0), (1424, 0.0), (1425, 0.0), (1426, 0.0), (1427, 0.0), (1428, 0.0), (1429, 0.0), (1430, 0.0), (1433, 0.0), (1434, 0.0), (1435, 0.0), (1436, 0.0), (1440, 0.0), (1441, 0.0), (1442, 0.0), (1443, 0.0), (1444, 0.0), (1445, 0.0), (1446, 0.0), (1447, 0.0), (1450, 0.0), (1452, 0.0), (1455, 0.0), (1457, 0.0), (1458, 0.0), (1466, 0.0), (1467, 0.0), (1469, 0.0), (1470, 0.0), (1471, 0.0), (1475, 0.0), (1478, 0.0), (1479, 0.0), (1480, 0.0), (1481, 0.0), (1485, 0.0), (1486, 0.0), (1487, 0.0), (1488, 0.0), (1491, 0.0), (1493, 0.0), (1496, 0.0), (1498, 0.0), (1499, 0.0), (1500, 0.0), (1501, 0.0), (1504, 0.0), (1505, 0.0), (1506, 0.0), (1508, 0.0), (1511, 0.0), (1515, 0.0), (1516, 0.0), (1517, 0.0), (1522, 0.0), (1523, 0.0), (1525, 0.0), (1526, 0.0), (1528, 0.0), (1529, 0.0), (1533, 0.0), (1535, 0.0), (1541, 0.0), (1555, 0.0), (1559, 0.0), (1560, 0.0), (1564, 0.0), (1567, 0.0), (1572, 0.0), (1573, 0.0), (1574, 0.0), (1576, 0.0), (1581, 0.0), (1582, 0.0), (1585, 0.0), (1587, 0.0), (1590, 0.0), (1592, 0.0), (1593, 0.0), (1594, 0.0), (1595, 0.0), (1596, 0.0), (1597, 0.0), (1598, 0.0), (1599, 0.0), (1600, 0.0), (1601, 0.0), (1602, 0.0), (1603, 0.0), (1604, 0.0), (1605, 0.0), (1606, 0.0), (1608, 0.0), (1610, 0.0), (1611, 0.0), (1613, 0.0), (1614, 0.0), (1615, 0.0), (1618, 0.0), (1619, 0.0), (1621, 0.0), (1622, 0.0), (1623, 0.0), (1624, 0.0), (1625, 0.0), (1626, 0.0), (1627, 0.0), (1628, 0.0), (1629, 0.0), (1630, 0.0), (1631, 0.0), (1636, 0.0), (1639, 0.0), (1643, 0.0), (1644, 0.0), (1646, 0.0), (1647, 0.0), (1648, 0.0), (1649, 0.0), (1650, 0.0), (1653, 0.0), (1654, 0.0), (1661, 0.0), (1663, 0.0), (1669, 0.0), (1670, 0.0), (1674, 0.0), (1675, 0.0), (1677, 0.0), (1678, 0.0), (1679, 0.0), (1682, 0.0), (1683, 0.0), (1684, 0.0), (1685, 0.0), (1686, 0.0), (1687, 0.0), (1692, 0.0), (1694, 0.0), (1695, 0.0), (1698, 0.0), (1699, 0.0), (1701, 0.0), (1704, 0.0), (1706, 0.0), (1709, 0.0), (1712, 0.0), (1713, 0.0), (1715, 0.0), (1716, 0.0), (1717, 0.0), (1719, 0.0), (1720, 0.0), (1721, 0.0), (1725, 0.0), (1726, 0.0), (1729, 0.0), (1730, 0.0), (1731, 0.0), (1734, 0.0), (1735, 0.0), (1742, 0.0), (1743, 0.0), (1744, 0.0), (1745, 0.0), (1747, 0.0), (1748, 0.0), (1753, 0.0), (1755, 0.0), (1756, 0.0), (1758, 0.0), (1764, 0.0), (1769, 0.0), (1770, 0.0), (1771, 0.0), (1772, 0.0), (1773, 0.0), (1774, 0.0), (1775, 0.0), (1777, 0.0), (1780, 0.0), (1783, 0.0), (1788, 0.0), (1789, 0.0), (1790, 0.0), (1791, 0.0), (1792, 0.0), (1794, 0.0), (1795, 0.0), (1797, 0.0), (1801, 0.0), (1802, 0.0), (1805, 0.0), (1811, 0.0), (1812, 0.0), (1813, 0.0), (1816, 0.0), (1819, 0.0), (1820, 0.0), (1821, 0.0), (1823, 0.0), (1824, 0.0), (1825, 0.0), (1826, 0.0), (1827, 0.0), (1828, 0.0), (1831, 0.0), (1832, 0.0), (1833, 0.0), (1834, 0.0), (1838, 0.0), (1840, 0.0), (1843, 0.0), (1845, 0.0), (1848, 0.0), (1849, 0.0), (1852, 0.0), (1853, 0.0), (1854, 0.0), (1855, 0.0), (1856, 0.0), (1857, 0.0), (1858, 0.0), (1859, 0.0), (1860, 0.0), (1861, 0.0), (1865, 0.0), (1866, 0.0), (1867, 0.0), (1869, 0.0), (1871, 0.0), (1873, 0.0), (1875, 0.0), (1877, 0.0), (1878, 0.0), (1879, 0.0), (1883, 0.0), (1885, 0.0), (1886, 0.0), (1887, 0.0), (1888, 0.0), (1889, 0.0), (1890, 0.0), (1894, 0.0), (1895, 0.0), (1896, 0.0), (1899, 0.0), (1901, 0.0), (1907, 0.0), (1908, 0.0), (1911, 0.0), (1913, 0.0), (1917, 0.0), (1918, 0.0), (1919, 0.0), (1921, 0.0), (1922, 0.0), (1923, 0.0), (1927, 0.0), (1929, 0.0), (1930, 0.0), (1933, 0.0), (1934, 0.0), (1935, 0.0), (1936, 0.0), (1938, 0.0), (1940, 0.0), (1942, 0.0), (1943, 0.0), (1944, 0.0), (1947, 0.0), (1950, 0.0), (1952, 0.0), (1954, 0.0), (1956, 0.0), (1958, 0.0), (1959, 0.0), (1962, 0.0), (1963, 0.0), (1965, 0.0), (1968, 0.0), (1969, 0.0), (1970, 0.0), (1971, 0.0), (1972, 0.0), (1974, 0.0), (1975, 0.0), (1976, 0.0), (1978, 0.0), (1979, 0.0), (1980, 0.0), (1983, 0.0), (1984, 0.0), (1987, 0.0), (1989, 0.0), (1990, 0.0), (1991, 0.0), (1992, 0.0), (1993, 0.0), (1996, 0.0), (1998, 0.0), (2000, 0.0), (2002, 0.0), (2003, 0.0), (2005, 0.0), (2007, 0.0), (2009, 0.0), (2014, 0.0), (2015, 0.0), (2019, 0.0), (2021, 0.0), (2022, 0.0), (2025, 0.0), (2029, 0.0), (2030, 0.0), (2032, 0.0), (2034, 0.0), (2039, 0.0), (2042, 0.0), (2045, 0.0), (2046, 0.0), (2049, 0.0), (2051, 0.0), (2052, 0.0), (2053, 0.0), (2055, 0.0), (2060, 0.0), (2062, 0.0), (2065, 0.0), (2066, 0.0), (2067, 0.0), (2069, 0.0), (2070, 0.0), (2071, 0.0), (2074, 0.0), (2075, 0.0), (2076, 0.0), (2078, 0.0), (2080, 0.0), (2081, 0.0), (2082, 0.0), (2084, 0.0), (2085, 0.0), (2086, 0.0), (2087, 0.0), (2090, 0.0), (2095, 0.0), (2097, 0.0), (2098, 0.0), (2099, 0.0), (2100, 0.0), (2102, 0.0), (2103, 0.0), (2105, 0.0), (2106, 0.0), (2108, 0.0), (2111, 0.0), (2117, 0.0), (2118, 0.0), (2119, 0.0), (2122, 0.0), (2123, 0.0), (2127, 0.0), (2130, 0.0), (2131, 0.0), (2132, 0.0), (2133, 0.0), (2134, 0.0), (2138, 0.0), (2141, 0.0), (2142, 0.0), (2144, 0.0), (2145, 0.0), (2146, 0.0), (2147, 0.0), (2149, 0.0), (2151, 0.0), (2152, 0.0), (2153, 0.0), (2154, 0.0), (2157, 0.0), (2160, 0.0), (2164, 0.0), (2168, 0.0), (2170, 0.0), (2177, 0.0), (2183, 0.0), (2185, 0.0), (2187, 0.0), (2191, 0.0), (2192, 0.0), (2193, 0.0), (2195, 0.0), (2196, 0.0), (2198, 0.0), (2199, 0.0), (2200, 0.0), (2202, 0.0), (2203, 0.0), (2204, 0.0), (2205, 0.0), (2206, 0.0), (2210, 0.0), (2212, 0.0), (2219, 0.0), (2221, 0.0), (2225, 0.0), (2232, 0.0), (2234, 0.0), (2235, 0.0), (2237, 0.0), (2240, 0.0), (2241, 0.0), (2243, 0.0), (2245, 0.0), (2246, 0.0), (2248, 0.0), (2251, 0.0), (2255, 0.0), (2257, 0.0), (2258, 0.0), (2264, 0.0), (2266, 0.0), (2269, 0.0), (2270, 0.0), (2273, 0.0), (2274, 0.0), (2276, 0.0), (2278, 0.0), (2281, 0.0), (2282, 0.0), (2283, 0.0), (2284, 0.0), (2285, 0.0), (2286, 0.0), (2288, 0.0), (2289, 0.0), (2290, 0.0), (2292, 0.0), (2295, 0.0), (2296, 0.0), (2297, 0.0), (2298, 0.0), (2299, 0.0), (2300, 0.0), (2301, 0.0), (2304, 0.0), (2307, 0.0), (2308, 0.0), (2309, 0.0), (2312, 0.0), (2314, 0.0), (2315, 0.0), (2316, 0.0), (2317, 0.0), (2319, 0.0), (2320, 0.0), (2321, 0.0), (2322, 0.0), (2323, 0.0), (2330, 0.0), (2331, 0.0), (2338, 0.0), (2341, 0.0), (2343, 0.0), (2344, 0.0), (2345, 0.0), (2346, 0.0), (2348, 0.0), (2349, 0.0), (2351, 0.0), (2352, 0.0), (2353, 0.0), (2355, 0.0), (2356, 0.0), (2357, 0.0), (2359, 0.0), (2361, 0.0), (2362, 0.0), (2363, 0.0), (2366, 0.0), (2368, 0.0), (2369, 0.0), (2370, 0.0), (2371, 0.0), (2372, 0.0), (2375, 0.0), (2376, 0.0), (2378, 0.0), (2379, 0.0), (2382, 0.0), (2387, 0.0), (2392, 0.0), (2396, 0.0), (2397, 0.0), (2399, 0.0), (2402, 0.0), (2403, 0.0), (2406, 0.0), (2407, 0.0), (2409, 0.0), (2422, 0.0), (2423, 0.0), (2424, 0.0), (2426, 0.0), (2430, 0.0), (2432, 0.0), (2433, 0.0), (2434, 0.0), (2437, 0.0), (2439, 0.0), (2441, 0.0), (2443, 0.0), (2444, 0.0), (2445, 0.0), (2446, 0.0), (2447, 0.0), (2449, 0.0), (2452, 0.0), (2453, 0.0), (2454, 0.0), (2455, 0.0), (2457, 0.0), (2458, 0.0), (2459, 0.0), (2462, 0.0), (2465, 0.0), (2466, 0.0), (2471, 0.0), (2472, 0.0), (2474, 0.0), (2476, 0.0), (2478, 0.0), (2479, 0.0), (2480, 0.0), (2482, 0.0), (2487, 0.0), (2488, 0.0), (2490, 0.0), (2492, 0.0), (2493, 0.0), (2494, 0.0), (2496, 0.0), (2497, 0.0), (2498, 0.0), (2501, 0.0), (2502, 0.0), (2506, 0.0), (2507, 0.0), (2516, 0.0), (2517, 0.0), (2523, 0.0), (2525, 0.0), (2527, 0.0), (2528, 0.0), (2529, 0.0), (2531, 0.0), (2535, 0.0), (2536, 0.0), (2537, 0.0), (2540, 0.0), (2542, 0.0), (2544, 0.0), (2545, 0.0), (2546, 0.0), (2547, 0.0), (2553, 0.0), (2554, 0.0), (2557, 0.0), (2559, 0.0), (2560, 0.0), (2562, 0.0), (2563, 0.0), (2564, 0.0), (2565, 0.0), (2566, 0.0), (2568, 0.0), (2569, 0.0), (2572, 0.0), (2575, 0.0), (2576, 0.0), (2577, 0.0), (2579, 0.0), (2580, 0.0), (2582, 0.0), (2583, 0.0), (2584, 0.0), (2585, 0.0), (2586, 0.0), (2590, 0.0), (2593, 0.0), (2594, 0.0), (2601, 0.0), (2602, 0.0), (2603, 0.0), (2605, 0.0), (2606, 0.0), (2607, 0.0), (2608, 0.0), (2609, 0.0), (2613, 0.0), (2614, 0.0), (2616, 0.0), (2617, 0.0), (2618, 0.0), (2621, 0.0), (2624, 0.0), (2625, 0.0), (2626, 0.0), (2627, 0.0), (2628, 0.0), (2629, 0.0), (2630, 0.0), (2632, 0.0), (2633, 0.0), (2634, 0.0), (2639, 0.0), (2640, 0.0), (2642, 0.0), (2647, 0.0), (2648, 0.0), (2649, 0.0), (2650, 0.0), (2651, 0.0), (2654, 0.0), (2655, 0.0), (2661, 0.0), (2662, 0.0), (2669, 0.0), (2670, 0.0), (2679, 0.0), (2683, 0.0), (2688, 0.0), (2689, 0.0), (2695, 0.0), (2696, 0.0), (2697, 0.0), (2698, 0.0), (2699, 0.0), (2700, 0.0), (2701, 0.0), (2711, 0.0), (2712, 0.0), (2713, 0.0), (2715, 0.0), (2717, 0.0), (2719, 0.0), (2722, 0.0), (2723, 0.0), (2724, 0.0), (2726, 0.0), (2727, 0.0), (2728, 0.0), (2729, 0.0), (2730, 0.0), (2736, 0.0), (2738, 0.0), (2739, 0.0), (2744, 0.0), (2747, 0.0), (2748, 0.0), (2749, 0.0), (2751, 0.0), (2758, 0.0), (2759, 0.0), (2760, 0.0), (2761, 0.0), (2763, 0.0), (2774, 0.0), (2775, 0.0), (2776, 0.0), (2777, 0.0), (2778, 0.0), (2783, 0.0), (2785, 0.0), (2787, 0.0), (2788, 0.0), (2789, 0.0), (2792, 0.0), (2798, 0.0), (2799, 0.0), (2801, 0.0), (2812, 0.0), (2819, 0.0), (2822, 0.0), (2823, 0.0), (2824, 0.0), (2826, 0.0), (2831, 0.0), (2833, 0.0), (2834, 0.0), (2841, 0.0), (2842, 0.0), (2847, 0.0), (2848, 0.0), (2850, 0.0), (2851, 0.0), (2852, 0.0), (2858, 0.0), (2859, 0.0), (2861, 0.0), (2863, 0.0), (2867, 0.0), (2871, 0.0), (2875, 0.0), (2879, 0.0), (2880, 0.0), (2886, 0.0), (2887, 0.0), (2891, 0.0), (2894, 0.0), (2897, 0.0), (2898, 0.0), (2899, 0.0), (2900, 0.0), (2903, 0.0), (2904, 0.0), (2905, 0.0), (2906, 0.0), (2910, 0.0), (2912, 0.0), (2913, 0.0), (2916, 0.0), (2917, 0.0), (2918, 0.0), (2919, 0.0), (2921, 0.0), (2924, 0.0), (2925, 0.0), (2926, 0.0), (2927, 0.0), (2928, 0.0), (2933, 0.0), (2935, 0.0), (2936, 0.0), (2937, 0.0), (2939, 0.0), (2942, 0.0), (2944, 0.0), (2946, 0.0), (2947, 0.0), (2948, 0.0), (2952, 0.0), (2953, 0.0), (2958, 0.0), (2963, 0.0), (2965, 0.0), (2966, 0.0), (2968, 0.0), (2970, 0.0), (2971, 0.0), (2972, 0.0), (2973, 0.0), (2976, 0.0), (2977, 0.0), (2984, 0.0), (2986, 0.0), (2988, 0.0), (2989, 0.0), (2991, 0.0), (2992, 0.0), (2993, 0.0), (2994, 0.0), (2995, 0.0), (2997, 0.0), (2998, 0.0), (2999, 0.0), (3003, 0.0), (3006, 0.0), (3008, 0.0), (3010, 0.0), (3011, 0.0), (3014, 0.0), (3018, 0.0), (3020, 0.0), (3022, 0.0), (3023, 0.0), (3025, 0.0), (3029, 0.0), (3033, 0.0), (3034, 0.0), (3035, 0.0), (3036, 0.0), (3040, 0.0), (3044, 0.0), (3045, 0.0), (3047, 0.0), (3049, 0.0), (3050, 0.0), (3051, 0.0), (3052, 0.0), (3054, 0.0), (3055, 0.0), (3057, 0.0), (3062, 0.0), (3065, 0.0), (3068, 0.0), (3070, 0.0), (3071, 0.0), (3074, 0.0), (3076, 0.0), (3077, 0.0), (3078, 0.0), (3079, 0.0), (3080, 0.0), (3081, 0.0), (3082, 0.0), (3085, 0.0), (3086, 0.0), (3087, 0.0), (3088, 0.0), (3089, 0.0), (3090, 0.0), (3091, 0.0), (3092, 0.0), (3094, 0.0), (3095, 0.0), (3098, 0.0), (3099, 0.0), (3100, 0.0), (3101, 0.0), (3102, 0.0), (3107, 0.0), (3108, 0.0), (3109, 0.0), (3110, 0.0), (3111, 0.0), (3113, 0.0), (3116, 0.0), (3122, 0.0), (3124, 0.0), (3127, 0.0), (3128, 0.0), (3135, 0.0), (3136, 0.0), (3138, 0.0), (3142, 0.0), (3143, 0.0), (3144, 0.0), (3145, 0.0), (3146, 0.0), (3147, 0.0), (3150, 0.0), (3151, 0.0), (3152, 0.0), (3157, 0.0), (3159, 0.0), (3162, 0.0), (3167, 0.0), (3169, 0.0), (3172, 0.0), (3179, 0.0), (3181, 0.0), (3186, 0.0), (3189, 0.0), (3193, 0.0), (3194, 0.0), (3197, 0.0), (3198, 0.0), (3201, 0.0), (3202, 0.0), (3204, 0.0), (3205, 0.0), (3207, 0.0), (3208, 0.0), (3209, 0.0), (3210, 0.0), (3212, 0.0), (3215, 0.0), (3217, 0.0), (3218, 0.0), (3221, 0.0), (3222, 0.0), (3223, 0.0), (3224, 0.0), (3226, 0.0), (3230, 0.0), (3232, 0.0), (3234, 0.0), (3235, 0.0), (3236, 0.0), (3239, 0.0), (3240, 0.0), (3243, 0.0), (3245, 0.0), (3247, 0.0), (3248, 0.0), (3252, 0.0), (3260, 0.0), (3261, 0.0), (3262, 0.0), (3264, 0.0), (3267, 0.0), (3268, 0.0), (3269, 0.0), (3271, 0.0), (3272, 0.0), (3273, 0.0), (3275, 0.0), (3276, 0.0), (3277, 0.0), (3278, 0.0), (3279, 0.0), (3280, 0.0), (3281, 0.0), (3282, 0.0), (3283, 0.0), (3286, 0.0), (3287, 0.0), (3288, 0.0), (3292, 0.0), (3293, 0.0), (3297, 0.0), (3298, 0.0), (3301, 0.0), (3304, 0.0), (3305, 0.0), (3306, 0.0), (3309, 0.0), (3310, 0.0), (3311, 0.0), (3312, 0.0), (3313, 0.0), (3315, 0.0), (3317, 0.0), (3318, 0.0), (3320, 0.0), (3322, 0.0), (3325, 0.0), (3327, 0.0), (3330, 0.0), (3331, 0.0), (3332, 0.0), (3334, 0.0), (3336, 0.0), (3338, 0.0), (3340, 0.0), (3343, 0.0), (3347, 0.0), (3349, 0.0), (3350, 0.0), (3351, 0.0), (3355, 0.0), (3356, 0.0), (3357, 0.0), (3358, 0.0), (3359, 0.0), (3361, 0.0), (3364, 0.0), (3365, 0.0), (3367, 0.0), (3369, 0.0), (3371, 0.0), (3372, 0.0), (3376, 0.0), (3378, 0.0), (3379, 0.0), (3380, 0.0), (3384, 0.0), (3385, 0.0), (3387, 0.0), (3388, 0.0), (3391, 0.0), (3392, 0.0), (3395, 0.0), (3397, 0.0), (3399, 0.0), (3401, 0.0), (3402, 0.0), (3406, 0.0), (3409, 0.0), (3416, 0.0), (3417, 0.0), (3421, 0.0), (3422, 0.0), (3423, 0.0), (3426, 0.0), (3430, 0.0), (3431, 0.0), (3433, 0.0), (3434, 0.0), (3435, 0.0), (3436, 0.0), (3441, 0.0), (3443, 0.0), (3444, 0.0), (3447, 0.0), (3453, 0.0), (3454, 0.0), (3455, 0.0), (3458, 0.0), (3459, 0.0), (3461, 0.0), (3462, 0.0), (3464, 0.0), (3465, 0.0), (3466, 0.0), (3467, 0.0), (3468, 0.0), (3469, 0.0), (3470, 0.0), (3471, 0.0), (3473, 0.0), (3478, 0.0), (3482, 0.0), (3484, 0.0), (3488, 0.0), (3490, 0.0), (3492, 0.0), (3493, 0.0), (3494, 0.0), (3495, 0.0), (3496, 0.0), (3498, 0.0), (3500, 0.0), (3505, 0.0), (3506, 0.0), (3507, 0.0), (3508, 0.0), (3510, 0.0), (3517, 0.0), (3518, 0.0), (3519, 0.0), (3520, 0.0), (3521, 0.0), (3522, 0.0), (3524, 0.0), (3525, 0.0), (3526, 0.0), (3527, 0.0), (3528, 0.0), (3529, 0.0), (3533, 0.0), (3534, 0.0), (3535, 0.0), (3538, 0.0), (3540, 0.0), (3544, 0.0), (3545, 0.0), (3546, 0.0), (3551, 0.0), (3552, 0.0), (3567, 0.0), (3568, 0.0), (3569, 0.0), (3570, 0.0), (3574, 0.0), (3575, 0.0), (3576, 0.0), (3578, 0.0), (3579, 0.0), (3580, 0.0), (3581, 0.0), (3582, 0.0), (3583, 0.0), (3585, 0.0), (3589, 0.0), (3594, 0.0), (3596, 0.0), (3598, 0.0), (3599, 0.0), (3601, 0.0), (3602, 0.0), (3606, 0.0), (3608, 0.0), (3609, 0.0), (3611, 0.0), (3612, 0.0), (3613, 0.0), (3616, 0.0), (3617, 0.0), (3620, 0.0), (3621, 0.0), (3624, 0.0), (3625, 0.0), (3626, 0.0), (3630, 0.0), (3631, 0.0), (3632, 0.0), (3633, 0.0), (3634, 0.0), (3635, 0.0), (3636, 0.0), (3637, 0.0), (3638, 0.0), (3639, 0.0), (3640, 0.0), (3642, 0.0), (3643, 0.0), (3645, 0.0), (3646, 0.0), (3649, 0.0), (3650, 0.0), (3654, 0.0), (3655, 0.0), (3658, 0.0), (3659, 0.0), (3661, 0.0), (3662, 0.0), (3665, 0.0), (3666, 0.0), (3667, 0.0), (3672, 0.0), (3673, 0.0), (3674, 0.0), (3676, 0.0), (3678, 0.0), (3679, 0.0), (3681, 0.0), (3682, 0.0), (3684, 0.0), (3686, 0.0), (3687, 0.0), (3689, 0.0), (3694, 0.0), (3697, 0.0), (3698, 0.0), (3700, 0.0), (3701, 0.0), (3702, 0.0), (3703, 0.0), (3708, 0.0), (3710, 0.0), (3715, 0.0), (3716, 0.0), (3718, 0.0), (3719, 0.0), (3720, 0.0), (3721, 0.0), (3722, 0.0), (3724, 0.0), (3725, 0.0), (3727, 0.0), (3728, 0.0), (3729, 0.0), (3730, 0.0), (3732, 0.0), (3734, 0.0), (3735, 0.0), (3737, 0.0), (3738, 0.0), (3739, 0.0), (3740, 0.0), (3741, 0.0), (3743, 0.0), (3745, 0.0), (3746, 0.0), (3749, 0.0), (3750, 0.0), (3751, 0.0), (3752, 0.0), (3757, 0.0), (3758, 0.0), (3759, 0.0), (3760, 0.0), (3761, 0.0), (3762, 0.0), (3764, 0.0), (3769, 0.0), (3771, 0.0), (3779, 0.0), (3784, 0.0), (3788, 0.0), (3789, 0.0), (3790, 0.0), (3791, 0.0), (3792, 0.0), (3793, 0.0), (3796, 0.0), (3800, 0.0), (3806, 0.0), (3807, 0.0), (3809, 0.0), (3811, 0.0), (3812, 0.0), (3813, 0.0), (3815, 0.0), (3817, 0.0), (3818, 0.0), (3823, 0.0), (3825, 0.0), (3826, 0.0), (3828, 0.0), (3829, 0.0), (3830, 0.0), (3832, 0.0), (3833, 0.0), (3838, 0.0), (3839, 0.0), (3841, 0.0), (3843, 0.0), (3844, 0.0), (3845, 0.0), (3846, 0.0), (3847, 0.0), (3848, 0.0), (3849, 0.0), (3852, 0.0), (3859, 0.0), (3862, 0.0), (3863, 0.0), (3867, 0.0), (3868, 0.0), (3869, 0.0), (3870, 0.0), (3872, 0.0), (3873, 0.0), (3874, 0.0), (3879, 0.0), (3884, 0.0), (3886, 0.0), (3888, 0.0), (3892, 0.0), (3895, 0.0), (3896, 0.0), (3897, 0.0), (3898, 0.0), (3899, 0.0), (3900, 0.0), (3902, 0.0), (3903, 0.0), (3904, 0.0), (3906, 0.0), (3908, 0.0), (3912, 0.0), (3914, 0.0), (3915, 0.0), (3916, 0.0), (3918, 0.0), (3919, 0.0), (3922, 0.0), (3923, 0.0), (3929, 0.0), (3930, 0.0), (3932, 0.0), (3933, 0.0), (3934, 0.0), (3935, 0.0), (3936, 0.0), (3944, 0.0), (3949, 0.0), (3950, 0.0), (3951, 0.0), (3952, 0.0), (3953, 0.0), (3954, 0.0), (3955, 0.0), (3956, 0.0), (3957, 0.0), (3959, 0.0), (3961, 0.0), (3962, 0.0), (3963, 0.0), (3964, 0.0), (3967, 0.0), (3974, 0.0), (3980, 0.0), (3981, 0.0), (3983, 0.0), (3985, 0.0), (3986, 0.0), (3987, 0.0), (3988, 0.0), (3991, 0.0), (3992, 0.0), (3994, 0.0), (3995, 0.0), (3996, 0.0), (3997, 0.0), (3998, 0.0), (4001, 0.0), (4002, 0.0), (4011, 0.0), (4015, 0.0), (4020, 0.0), (4021, 0.0), (4023, 0.0), (4024, 0.0), (4026, 0.0), (4027, 0.0), (4029, 0.0), (4030, 0.0), (4034, 0.0), (4035, 0.0), (4036, 0.0), (4041, 0.0), (4043, 0.0), (4044, 0.0), (4049, 0.0), (4050, 0.0), (4051, 0.0), (4052, 0.0), (4053, 0.0), (4055, 0.0), (4059, 0.0), (4060, 0.0), (4072, 0.0), (4074, 0.0), (4076, 0.0), (4078, 0.0), (4079, 0.0), (4081, 0.0), (4082, 0.0), (4083, 0.0), (4084, 0.0), (4088, 0.0), (4089, 0.0), (4090, 0.0), (4091, 0.0), (4093, 0.0), (4094, 0.0), (4095, 0.0), (4097, 0.0), (4098, 0.0), (4099, 0.0), (4104, 0.0), (4105, 0.0), (4106, 0.0), (4107, 0.0), (4108, 0.0), (4116, 0.0), (4117, 0.0), (4120, 0.0), (4123, 0.0), (4128, 0.0), (4129, 0.0), (4131, 0.0), (4132, 0.0), (4135, 0.0), (4136, 0.0), (4140, 0.0), (4142, 0.0), (4143, 0.0), (4144, 0.0), (4145, 0.0), (4150, 0.0), (4152, 0.0), (4153, 0.0), (4156, 0.0), (4158, 0.0), (4161, 0.0), (4163, 0.0), (4164, 0.0), (4165, 0.0), (4166, 0.0), (4167, 0.0), (4168, 0.0), (4169, 0.0), (4171, 0.0), (4175, 0.0), (4176, 0.0), (4177, 0.0), (4178, 0.0), (4179, 0.0), (4183, 0.0), (4185, 0.0), (4186, 0.0), (4187, 0.0), (4189, 0.0), (4190, 0.0), (4193, 0.0), (4195, 0.0), (4200, 0.0), (4202, 0.0), (4203, 0.0), (4204, 0.0), (4205, 0.0), (4206, 0.0), (4211, 0.0), (4216, 0.0), (4217, 0.0), (4218, 0.0), (4219, 0.0), (4221, 0.0), (4222, 0.0), (4224, 0.0), (4226, 0.0), (4229, 0.0), (4232, 0.0), (4233, 0.0), (4235, 0.0), (4236, 0.0), (4237, 0.0), (4238, 0.0), (4239, 0.0), (4243, 0.0), (4244, 0.0), (4245, 0.0), (4246, 0.0), (4249, 0.0), (4251, 0.0), (4252, 0.0), (4254, 0.0), (4256, 0.0), (4258, 0.0), (4260, 0.0), (4262, 0.0), (4264, 0.0), (4265, 0.0), (4266, 0.0), (4268, 0.0), (4271, 0.0), (4272, 0.0), (4274, 0.0), (4278, 0.0), (4280, 0.0), (4281, 0.0)]\n"
          ],
          "name": "stdout"
        }
      ]
    },
    {
      "cell_type": "code",
      "metadata": {
        "colab": {
          "base_uri": "https://localhost:8080/"
        },
        "id": "BRWP_Gw3hGWG",
        "outputId": "b0e6954a-def9-4df9-ef00-ff8ee3d81599"
      },
      "source": [
        "#일단 7개 보구, 오른쪽이 similarity 니까.. 나중에 percentage로 해서 말해주는데 사용해도 괜찮을듯...?\n",
        "sorted_scores[:7]"
      ],
      "execution_count": 490,
      "outputs": [
        {
          "output_type": "execute_result",
          "data": {
            "text/plain": [
              "[(3477, 0.4),\n",
              " (419, 0.33541019662496846),\n",
              " (1352, 0.33541019662496846),\n",
              " (340, 0.31622776601683794),\n",
              " (3196, 0.31622776601683794),\n",
              " (3266, 0.31622776601683794),\n",
              " (332, 0.30000000000000004)]"
            ]
          },
          "metadata": {
            "tags": []
          },
          "execution_count": 490
        }
      ]
    },
    {
      "cell_type": "code",
      "metadata": {
        "colab": {
          "base_uri": "https://localhost:8080/"
        },
        "id": "rHRJYQrj9p3X",
        "outputId": "47efb95b-c5be-4a45-c308-174a880ad119"
      },
      "source": [
        "j = 0\n",
        "\n",
        "print( title, \"을 선택한 당신에게 추천하는 7가지 영화\")\n",
        "\n",
        "for item in sorted_scores:\n",
        "  movie_title = df[df.MOVIE_N == item[0]]['MOVIE_TITLE'].values[0]\n",
        "  print(j +1, movie_title)\n",
        "  j = j+1\n",
        "  if j>6:\n",
        "    break"
      ],
      "execution_count": 491,
      "outputs": [
        {
          "output_type": "stream",
          "text": [
            "피노키오의 모험 을 선택한 당신에게 추천하는 7가지 영화\n",
            "1 키코리키: 시간여행\n",
            "2 엑시덴탈 러브\n",
            "3 일만명의 성자들\n",
            "4 러브 액츄얼리\n",
            "5 버든: 세상을 바꾸는 힘\n",
            "6 극장판 요괴워치 섀도사이드: 도깨비왕의 부활\n",
            "7 8 마일\n"
          ],
          "name": "stdout"
        }
      ]
    },
    {
      "cell_type": "code",
      "metadata": {
        "id": "6QpPpNVzikE_"
      },
      "source": [
        ""
      ],
      "execution_count": null,
      "outputs": []
    }
  ]
}