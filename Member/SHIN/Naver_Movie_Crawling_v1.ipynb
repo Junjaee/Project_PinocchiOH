{
  "nbformat": 4,
  "nbformat_minor": 0,
  "metadata": {
    "colab": {
      "name": "Naver_Movie_Crawling.ipynb",
      "provenance": [],
      "collapsed_sections": [],
      "authorship_tag": "ABX9TyOM6mMPeYGyFpZkcZwGHhqY",
      "include_colab_link": true
    },
    "kernelspec": {
      "name": "python3",
      "display_name": "Python 3"
    },
    "language_info": {
      "name": "python"
    }
  },
  "cells": [
    {
      "cell_type": "markdown",
      "metadata": {
        "id": "view-in-github",
        "colab_type": "text"
      },
      "source": [
        "<a href=\"https://colab.research.google.com/github/Junjaee/Project_PinocchiOH/blob/main/Member/SHIN/Naver_Movie_Crawling.ipynb\" target=\"_parent\"><img src=\"https://colab.research.google.com/assets/colab-badge.svg\" alt=\"Open In Colab\"/></a>"
      ]
    },
    {
      "cell_type": "code",
      "metadata": {
        "id": "Uo5fw_I3kkMy"
      },
      "source": [
        "import re\n",
        "import os\n",
        "from random import randrange\n",
        "\n",
        "import requests\n",
        "from bs4 import BeautifulSoup as bs\n",
        "import openpyxl\n",
        "from urllib.request import urlretrieve"
      ],
      "execution_count": null,
      "outputs": []
    },
    {
      "cell_type": "code",
      "metadata": {
        "id": "CiwxscvxmIdM"
      },
      "source": [
        "def crawling(start_code, finish_code):\n",
        "    try:\n",
        "        global is_ok\n",
        "        is_ok = False\n",
        "        wb = openpyxl.Workbook()\n",
        "        sheet = wb.active\n",
        "        sheet.append([\"MOVIE_CODE\",\"MOVIE_TITLE\",\"MOVIE_YEAR\",\"MOVIE_RATING\", \"MOVIE_GENRE\", \"MOVIE_COUNTRY\", \"MOVIE_RTIME\", \"MOVIE_DIRECTOR\", \"MOVIE_ACTOR\"\n",
        "        , \"MOVIE_AGE10\", \"MOVIE_AGE20\", \"MOVIE_AGE30\", \"MOVIE_AGE40\", \"MOVIE_AGE50\"])\n",
        "\n",
        "        # (0) HTML 파싱\n",
        "        j = 0\n",
        "        # 청소년 관람 불가, 평점 없는 영화 제외\n",
        "        # 네이버영화의 영화 코드 범위 지정\n",
        "        for i in range(start_code, finish_code):\n",
        "\n",
        "            movie_code = str(i)\n",
        "            raw = requests.get(\"https://movie.naver.com/movie/bi/mi/basic.naver?code=\" + movie_code)\n",
        "            html = bs(raw.content, 'html.parser')\n",
        "            movie = html.select(\"div.article\")\n",
        "\n",
        "            # (2) 전체 컨테이너가 갖고 있는 영화관련 정보\n",
        "            for a, m in enumerate(movie):\n",
        "                # print(a, m)\n",
        "                # print(\"*\"*40)\n",
        "\n",
        "                # (3-1) 영화제목 수집\n",
        "                title = m.select_one(\"h3.h_movie a\")\n",
        "                print(title.text)\n",
        "\n",
        "                # (3-2) 영화 개봉년도 수집\n",
        "                rdate = m.select(\"strong.h_movie2\")\n",
        "                rdate = rdate[-1].text[-4:]\n",
        "                print(rdate)                \n",
        "\n",
        "                # (3-3) 영화평점 수집\n",
        "                score = m.select(\"div.main_score div:nth-of-type(9) div.star_score a em\")\n",
        "                scores = []\n",
        "                for s in score:\n",
        "                    scores.append(s.text)                \n",
        "                scores = ''.join(scores)\n",
        "                print(scores)       \n",
        "\n",
        "                # (3-4) 영화장르 수집\n",
        "                genre = m.select(\"dl.info_spec dd:nth-of-type(1) p span:nth-of-type(1) a\")\n",
        "                for g in genre:\n",
        "                    print(g.text)\n",
        "\n",
        "                # (3-5) 영화 생산 국가\n",
        "                country = m.select(\"dl.info_spec dd:nth-of-type(1) p span:nth-of-type(2) a\")\n",
        "                for c in country:\n",
        "                    print(c.text)\n",
        "\n",
        "                # (3-6) 영화 상영시간 수집\n",
        "                rtime = m.select_one(\"dl.info_spec dd p span:nth-of-type(3)\")\n",
        "                print(rtime.text)\n",
        "\n",
        "                # (3-7) 영화감독 수집\n",
        "                directors = m.select(\"dl.info_spec dd:nth-of-type(2) p a\")\n",
        "                for d in directors:\n",
        "                    print(d.text)\n",
        "\n",
        "                # (3-8) 영화배우 수집\n",
        "                actors = m.select(\"dl.info_spec dd:nth-of-type(3) p a\")\n",
        "                for a in actors:\n",
        "                    print(a.text)\n",
        "\n",
        "                # (3-9) 성별 선호도(남자)\n",
        "                # male = html.select(\"#content > div.article > div.mv_info_area > div.mv_info > div.viewing_graph\")\n",
        "                # print(male)\n",
        "                # for a in male:\n",
        "                #     print(a.text)\n",
        "\n",
        "                # (3-10-1) 연령별 선호도(10대)\n",
        "                age_ten = m.select(\"div.bar_graph div:nth-of-type(1) strong\")\n",
        "                print(age_ten[0].text)\n",
        "\n",
        "                # (3-10-2) 연령별 선호도(20대)\n",
        "                age_twenty = m.select(\"div.bar_graph div:nth-of-type(3) strong\")\n",
        "                print(age_twenty[0].text)\n",
        "\n",
        "                # (3-10-3) 연령별 선호도(30대)\n",
        "                age_thirty = m.select(\"div.bar_graph div:nth-of-type(5) strong\")\n",
        "                print(age_thirty[0].text)\n",
        "\n",
        "                # (3-10-4) 연령별 선호도(40대)\n",
        "                age_fourty = m.select(\"div.bar_graph div:nth-of-type(7) strong\")\n",
        "                print(age_fourty[0].text)\n",
        "\n",
        "                # (3-10-5) 연령별 선호도(50대 이상)\n",
        "                age_fifty = m.select(\"div.bar_graph div:nth-of-type(9) strong\")\n",
        "                print(age_fifty[0].text)\n",
        "\n",
        "\n",
        "                # (5) skip 처리-2 : 주연배우에 관람 기준이 적혀있거나 배우가 없을 경우 넘어간다.\n",
        "                if len(actors) > 1:\n",
        "                    if \"청소년 관람불가\" in actors[0].text:\n",
        "                        is_ok = False\n",
        "                        continue\n",
        "                    elif \"12세 관람가\" in actors[0].text:\n",
        "                        is_ok = False\n",
        "                        continue\n",
        "                    elif \"전체 관람가\" in actors[0].text:\n",
        "                        is_ok = False\n",
        "                        continue\n",
        "\n",
        "                elif len(actors) == 0:\n",
        "                    continue\n",
        "\n",
        "\n",
        "    except:\n",
        "        print(\"에러발생\")\n",
        "        wb.save(\"navermovie.xlsx\")\n",
        "    finally:\n",
        "        print(\"완료\")\n",
        "        wb.save(\"navermovie.xlsx\")"
      ],
      "execution_count": 385,
      "outputs": []
    },
    {
      "cell_type": "code",
      "metadata": {
        "colab": {
          "base_uri": "https://localhost:8080/"
        },
        "id": "TP8y41ZJmIad",
        "outputId": "b65a9020-4358-453d-e475-15add4b35ec3"
      },
      "source": [
        "crawling(10001, 10002)"
      ],
      "execution_count": 386,
      "outputs": [
        {
          "output_type": "stream",
          "text": [
            "시네마 천국\n",
            "1988\n",
            "9.33\n",
            "드라마\n",
            "멜로/로맨스\n",
            "프랑스\n",
            "이탈리아\n",
            "124분 \n",
            "쥬세페 토르나토레\n",
            "마르코 레오나르디\n",
            "필립 느와레\n",
            "자끄 페렝\n",
            "9%\n",
            "47%\n",
            "25%\n",
            "6%\n",
            "12%\n",
            "완료\n"
          ],
          "name": "stdout"
        }
      ]
    },
    {
      "cell_type": "code",
      "metadata": {
        "id": "81jToUyO5yFi"
      },
      "source": [
        ""
      ],
      "execution_count": null,
      "outputs": []
    }
  ]
}
