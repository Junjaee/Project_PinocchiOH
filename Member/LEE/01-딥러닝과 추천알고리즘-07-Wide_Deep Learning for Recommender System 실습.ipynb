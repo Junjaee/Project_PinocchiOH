{
 "cells": [
  {
   "cell_type": "markdown",
   "metadata": {},
   "source": [
    "# Wide & Deep Learning for Recommender System\n",
    "\n",
    "- Google에서 App Store를 활용해서 발표한 논문([링크](https://arxiv.org/pdf/1606.07792.pdf))"
   ]
  },
  {
   "cell_type": "markdown",
   "metadata": {},
   "source": [
    "## Wide & Deep Learning for Recommender System\n",
    "\n",
    "![deep31](./image/deep31.PNG)\n"
   ]
  },
  {
   "cell_type": "markdown",
   "metadata": {},
   "source": [
    "## Abstract\n",
    "\n",
    "![deep32](./image/deep32.PNG)\n",
    "\n",
    "* **Wide : Memorization** -> 주어진 정보를 다 외운다. : 입력된 정보를 모두 저장한다.\n",
    "    - **장점** : Cross-product feature transformation : feature간의 interaction도 고려하면서 외운다.\n",
    "    - **단점** : More feature engineering effort.\n",
    "        + Feature간의 상관성을 고려해야 하므로, feature engineering 노력이 필요하다.\n",
    "        \n",
    "* **Deep : Generalization** -> 우리가 알지 못한(보지 못한) hidden layer의 feature를 찾아보자.\n",
    "    + **잠점** : 우리가 알지 못한(보지 못한) hidden layer의 feature를 찾아보자.\n",
    "    + **단점** : Over Generalized 되서 사소한 부분을 못 볼 수 있다.\n",
    "    \n",
    "* **Wide와 Deep의 장점을 모두 결합**\n",
    "    + hidden layer의 feature 고려 : 우리가 고려하지 못한 latent feature 고려\n",
    "    + Deep의 단점인 Over Generalized 문제를 Wide 부분에서 각각의 정보를 기억함으로서 개선  "
   ]
  },
  {
   "cell_type": "markdown",
   "metadata": {},
   "source": [
    "## Introduction (1)\n",
    "\n",
    "![deep33](./image/deep33.PNG)\n",
    "\n",
    "* **Memorization의 정의**\n",
    "    * 동시에 등장하는 아이탬, feature의 빈도.\n",
    "    * Correlation을 전부 학습해서 기억한다.\n",
    "\n",
    "* **Generalization 정의**\n",
    "    - 주어진 feature에서 우리가 모르는 feature combination을 통해 hidden layer feature를 만들어보자. \n",
    "\n",
    "* **추천시스템에서 M과 G**\n",
    "    * Memorization : 아이탬과 더 관련있는 데이터를 추천\n",
    "    * Generalization : 우리가 알지 못한 데이터를 추천, long tail 부분 추천!\n",
    "        + 추천 시스템에서 diversity는 매우 중요하다."
   ]
  },
  {
   "cell_type": "markdown",
   "metadata": {},
   "source": [
    "## Introduction (2)\n",
    "\n",
    "![deep34](./image/deep34.PNG)\n",
    "\n",
    "* **1. Generalized Linear Model**\n",
    "    - feature를 직접 만들어서 학습시켜야 한다면, 관련 도메인 지식이 필수적이다.\n",
    "    \n",
    "* **2. Embedding based Model**\n",
    "    - 일반화 vs 섬세한 추천 불가"
   ]
  },
  {
   "cell_type": "markdown",
   "metadata": {},
   "source": [
    "## Contributions \n",
    "\n",
    "![deep35](./image/deep35.PNG)\n",
    "\n",
    "+ **Feed-forward neural network** + **linear model**\n",
    "\n",
    "+ **Key point** : **학습과 서비스 속도를 충족**\n",
    "    + 실 서비스를 사용할 수 있다.\n",
    "    \n",
    "* Open Source로 제공!"
   ]
  },
  {
   "cell_type": "markdown",
   "metadata": {},
   "source": [
    "## Wide & Deep Learning Framework Overview\n",
    "\n",
    "![deep36](./image/deep36.PNG)\n",
    "\n",
    "* **왜 Deep Learning만 쓰지 않고, Wide한 부분을 추가적으로 고려하는 것일까?**\n",
    "    - **1.** **추천 시스템은 정답이 없다.** \n",
    "        + RMSE등의 평가지표가 정답이 아니다.\n",
    "        + 결국, 사람에 의해 평가 되는 것\n",
    "<br><br>\n",
    "    - **2.** **아무거나 막 추천하는 것이 아니라, 어느정도 보장이 된 데이터(Wide)와 우리가 고려하지 못하는 부분(Deep)을 고려하는 것이 아닐까?**\n",
    "        + Wide : 과거의 history 데이터\n",
    "        + Deep : history정보에서 추출하지 못하는 내용으로 학습 후 추천하는 내용"
   ]
  },
  {
   "cell_type": "markdown",
   "metadata": {},
   "source": [
    "## Recommender System Overview\n",
    "\n",
    "![deep37](./image/deep37.PNG)\n",
    "\n",
    "* 일반적인 추천 시스템의 flow : 모두가 그런 것은 아니다.\n",
    "    - **Query** : 고객의 요청, 접속, 아이탬 검색\n",
    "    - **Recommendation Sysytem(Retrieval + Ranking)** : 기존에 학습된 모델으로 아이탬을 추천해준다.\n",
    "    - **User Actions** : 아이탬이 추천된 상황에서 User Action을 Log정보로 기록한다.\n",
    "    - **Learner, Model** : Log정보를 새로 입력해서 학습 및 모델을 업데이트 한다."
   ]
  },
  {
   "cell_type": "markdown",
   "metadata": {},
   "source": [
    "## The Wide Component(Memorization)\n",
    "\n",
    "![deep38](./image/deep38.PNG)\n",
    "\n",
    "* Generalized Linear model\n",
    "\n",
    "* 여기서 y는 model이 예측한 유저 행동여부(앱을 구매했는지 안했는지)\n",
    "    - 평점으로 할 수 있을까? \n",
    "    - FM방식으로 x를 만들고, w를 학습시키면 어떨까?\n",
    "    \n",
    "* Raw input features & Cross-product features : raw한 feature뿐만 아니라, cross-product feature도 feature로 넣어준다.\n",
    "    - 즉, Linear한 부분 뿐만 아니라, feature들 간의 상관성을 고려하여, Non-Linear한 부분까지도 고려해준다."
   ]
  },
  {
   "cell_type": "markdown",
   "metadata": {},
   "source": [
    "## The Deep Component  \n",
    "\n",
    "![deep39](./image/deep39.PNG)\n",
    "\n",
    "* 기본적인 neural network 학습"
   ]
  },
  {
   "cell_type": "markdown",
   "metadata": {},
   "source": [
    "## Joint Training of Wide & Deep Model (1)\n",
    "\n",
    "![deep40](./image/deep40.PNG)\n",
    "\n"
   ]
  },
  {
   "cell_type": "markdown",
   "metadata": {},
   "source": [
    "## Joint Training of Wide & Deep Model (2)\n",
    "\n",
    "![deep41](./image/deep41.PNG)\n",
    "\n",
    "* 앱 추천 내용!\n",
    "\n",
    "* **Backpropagation**\n",
    "    - Wide, Deep을 Simultaneously하게 진행한다.\n",
    "\n",
    "* **Optimizer(최적화)**\n",
    "    - **Wide** 부분은 **L1 Regularization을 사용한 FTRL(Follow-the-regularization-leader)를 사용**함.\n",
    "    - **Deep** 부분은 **AdaGrad**를 사용함."
   ]
  },
  {
   "cell_type": "markdown",
   "metadata": {},
   "source": [
    "## Joint Training of Wide & Deep Model (3)\n",
    "\n",
    "![deep42](./image/deep42.PNG)\n",
    "\n",
    "* 결과는 확률 값으로 나오고, app을 다운 받을지 안받을지로 구성\n",
    "    - Sigmoid"
   ]
  },
  {
   "cell_type": "markdown",
   "metadata": {},
   "source": [
    "## System Implementation\n",
    "\n",
    "![deep43](./image/deep43.PNG)\n",
    "\n",
    "* 추천 시스템은 상용화 되는 것이 목적이다.\n",
    "* 실제 서비스에 적용하는 것이 목표\n",
    "* 추천 시스템 서비스 제공 Pipeline"
   ]
  },
  {
   "cell_type": "markdown",
   "metadata": {},
   "source": [
    "## Experiments (1)\n",
    "\n",
    "![deep44](./image/deep44.PNG)\n",
    "\n",
    "* 실제 서비스에서도 잘 작동함\n"
   ]
  },
  {
   "cell_type": "markdown",
   "metadata": {},
   "source": [
    "## Experiments (2) \n",
    "\n",
    "![deep45](./image/deep45.PNG)\n",
    "\n",
    "* 성능도 좋은데 시간도 신경씀!"
   ]
  },
  {
   "cell_type": "markdown",
   "metadata": {},
   "source": [
    "## Conclusions \n",
    "\n",
    "![deep46](./image/deep46.PNG)"
   ]
  },
  {
   "cell_type": "markdown",
   "metadata": {
    "id": "OKoehLiBvxu1"
   },
   "source": [
    "# [구현] Wide & Deep Learning for Recommender System\n",
    "\n",
    "- Google에서 App Store를 활용해서 발표한 논문([링크](https://arxiv.org/pdf/1606.07792.pdf))\n",
    "\n",
    "## (Project) 이거로 보자"
   ]
  },
  {
   "cell_type": "markdown",
   "metadata": {
    "id": "gWT-_N6MwcMK"
   },
   "source": [
    "## Google 공식 문서\n",
    "- Google의 AI Blog([링크](https://ai.googleblog.com/2016/06/wide-deep-learning-better-together-with.html))\n",
    "- Google의 Tensorflow github([링크](https://github.com/tensorflow/tensorflow/blob/v2.4.0/tensorflow/python/keras/premade/wide_deep.py#L34-L219))\n",
    "- TensorFlow v2.4 API\n",
    "  - [tf.keras.experimental.WideDeepModel](https://www.tensorflow.org/api_docs/python/tf/keras/experimental/WideDeepModel?hl=en#methods_2)\n",
    "  - [tf.estimator.DNNLinearCombinedClassifier](https://www.tensorflow.org/api_docs/python/tf/estimator/DNNLinearCombinedClassifier)"
   ]
  },
  {
   "cell_type": "markdown",
   "metadata": {
    "id": "21eFL-QIw82G"
   },
   "source": [
    "## (Not Project) 함께볼만한 PyTorch Library 이건 못쓰겠다.\n",
    "- [pytorch-widedeep](https://github.com/jrzaurin/pytorch-widedeep)\n",
    "\n",
    "- text, image 정보도 같이 고려할 수 있게 만들어 놓음"
   ]
  },
  {
   "cell_type": "code",
   "execution_count": null,
   "metadata": {
    "id": "iQfI1H8CviWd"
   },
   "outputs": [],
   "source": [
    "!pip install pytorch-widedeep"
   ]
  },
  {
   "cell_type": "code",
   "execution_count": 2,
   "metadata": {
    "executionInfo": {
     "elapsed": 2208,
     "status": "ok",
     "timestamp": 1610010445765,
     "user": {
      "displayName": "Jaewon Fastcampus",
      "photoUrl": "",
      "userId": "05122666633107220130"
     },
     "user_tz": -540
    },
    "id": "R0qUOpjtxQUI"
   },
   "outputs": [
    {
     "name": "stderr",
     "output_type": "stream",
     "text": [
      "C:\\Anaconda3\\lib\\site-packages\\numpy\\_distributor_init.py:30: UserWarning: loaded more than 1 DLL from .libs:\n",
      "C:\\Anaconda3\\lib\\site-packages\\numpy\\.libs\\libopenblas.PYQHXLVVQ7VESDPUVUADXEVJOBGHJPAY.gfortran-win_amd64.dll\n",
      "C:\\Anaconda3\\lib\\site-packages\\numpy\\.libs\\libopenblas.WCDJNK7YVMPZQ2ME2ZZHJJRJ3JIKNDB7.gfortran-win_amd64.dll\n",
      "  warnings.warn(\"loaded more than 1 DLL from .libs:\"\n"
     ]
    }
   ],
   "source": [
    "import os\n",
    "import pandas as pd\n",
    "import numpy as np\n",
    "from sklearn.model_selection import train_test_split"
   ]
  },
  {
   "cell_type": "markdown",
   "metadata": {
    "id": "0znUsCEMySHc"
   },
   "source": [
    "## DataLoader"
   ]
  },
  {
   "cell_type": "markdown",
   "metadata": {
    "colab": {
     "base_uri": "https://localhost:8080/"
    },
    "executionInfo": {
     "elapsed": 23656,
     "status": "ok",
     "timestamp": 1610010473342,
     "user": {
      "displayName": "Jaewon Fastcampus",
      "photoUrl": "",
      "userId": "05122666633107220130"
     },
     "user_tz": -540
    },
    "id": "2w2TnTpCyHT2",
    "outputId": "15f97b9a-8bd9-4d58-b895-c9f96729612d"
   },
   "source": [
    "from google.colab import drive\n",
    "drive.mount('/content/drive')"
   ]
  },
  {
   "cell_type": "markdown",
   "metadata": {
    "colab": {
     "base_uri": "https://localhost:8080/"
    },
    "executionInfo": {
     "elapsed": 1317,
     "status": "ok",
     "timestamp": 1610010481836,
     "user": {
      "displayName": "Jaewon Fastcampus",
      "photoUrl": "",
      "userId": "05122666633107220130"
     },
     "user_tz": -540
    },
    "id": "ODZm84AUyUyX",
    "outputId": "30192eea-0de9-4f2f-ae73-0be7201341a6"
   },
   "source": [
    "data_path = \"/content/drive/My Drive/data/kmrd\"\n",
    "%cd $data_path\n",
    "\n",
    "if not os.path.exists(data_path):\n",
    "  !git clone https://github.com/lovit/kmrd\n",
    "  !python setup.py install\n",
    "else:\n",
    "  print(\"data and path already exists!\")\n",
    "\n",
    "path = data_path + '/kmr_dataset/datafile/kmrd-small'"
   ]
  },
  {
   "cell_type": "code",
   "execution_count": 5,
   "metadata": {},
   "outputs": [],
   "source": [
    "data_path = \"../data/kmrd\"\n",
    "path = data_path + '/kmr_dataset/datafile/kmrd-small'"
   ]
  },
  {
   "cell_type": "code",
   "execution_count": 6,
   "metadata": {
    "executionInfo": {
     "elapsed": 4183,
     "status": "ok",
     "timestamp": 1610010517470,
     "user": {
      "displayName": "Jaewon Fastcampus",
      "photoUrl": "",
      "userId": "05122666633107220130"
     },
     "user_tz": -540
    },
    "id": "YtES3SqQyctX"
   },
   "outputs": [],
   "source": [
    "df = pd.read_csv(os.path.join(path,'rates.csv'))\n",
    "train_df, val_df = train_test_split(df, test_size=0.2, random_state=1234, shuffle=True)"
   ]
  },
  {
   "cell_type": "code",
   "execution_count": 7,
   "metadata": {
    "colab": {
     "base_uri": "https://localhost:8080/"
    },
    "executionInfo": {
     "elapsed": 1436,
     "status": "ok",
     "timestamp": 1610010526588,
     "user": {
      "displayName": "Jaewon Fastcampus",
      "photoUrl": "",
      "userId": "05122666633107220130"
     },
     "user_tz": -540
    },
    "id": "toxmUyn-GuoA",
    "outputId": "472cf9f1-93da-4940-8875-f57c335ceba9"
   },
   "outputs": [
    {
     "data": {
      "text/plain": [
       "(112568, 4)"
      ]
     },
     "execution_count": 7,
     "metadata": {},
     "output_type": "execute_result"
    }
   ],
   "source": [
    "train_df.shape"
   ]
  },
  {
   "cell_type": "code",
   "execution_count": 8,
   "metadata": {
    "executionInfo": {
     "elapsed": 1561,
     "status": "ok",
     "timestamp": 1610010534612,
     "user": {
      "displayName": "Jaewon Fastcampus",
      "photoUrl": "",
      "userId": "05122666633107220130"
     },
     "user_tz": -540
    },
    "id": "6AicokteGxOm"
   },
   "outputs": [],
   "source": [
    "train_df = train_df[:1000]"
   ]
  },
  {
   "cell_type": "code",
   "execution_count": 9,
   "metadata": {
    "colab": {
     "base_uri": "https://localhost:8080/"
    },
    "executionInfo": {
     "elapsed": 4305,
     "status": "ok",
     "timestamp": 1610010544918,
     "user": {
      "displayName": "Jaewon Fastcampus",
      "photoUrl": "",
      "userId": "05122666633107220130"
     },
     "user_tz": -540
    },
    "id": "TULw8V7vyrvF",
    "outputId": "f69d0d08-b6fb-4a11-e16b-2f117a16f4fe"
   },
   "outputs": [
    {
     "name": "stdout",
     "output_type": "stream",
     "text": [
      "(999, 7)\n"
     ]
    },
    {
     "data": {
      "text/html": [
       "<div>\n",
       "<style scoped>\n",
       "    .dataframe tbody tr th:only-of-type {\n",
       "        vertical-align: middle;\n",
       "    }\n",
       "\n",
       "    .dataframe tbody tr th {\n",
       "        vertical-align: top;\n",
       "    }\n",
       "\n",
       "    .dataframe thead th {\n",
       "        text-align: right;\n",
       "    }\n",
       "</style>\n",
       "<table border=\"1\" class=\"dataframe\">\n",
       "  <thead>\n",
       "    <tr style=\"text-align: right;\">\n",
       "      <th></th>\n",
       "      <th>title</th>\n",
       "      <th>title_eng</th>\n",
       "      <th>year</th>\n",
       "      <th>grade</th>\n",
       "      <th>genres</th>\n",
       "      <th>people</th>\n",
       "      <th>country</th>\n",
       "    </tr>\n",
       "    <tr>\n",
       "      <th>movie</th>\n",
       "      <th></th>\n",
       "      <th></th>\n",
       "      <th></th>\n",
       "      <th></th>\n",
       "      <th></th>\n",
       "      <th></th>\n",
       "      <th></th>\n",
       "    </tr>\n",
       "  </thead>\n",
       "  <tbody>\n",
       "    <tr>\n",
       "      <th>10001</th>\n",
       "      <td>시네마 천국</td>\n",
       "      <td>Cinema Paradiso , 1988</td>\n",
       "      <td>2013.0</td>\n",
       "      <td>전체 관람가</td>\n",
       "      <td>드라마/멜로/로맨스</td>\n",
       "      <td>[4374, 178, 3241, 47952, 47953, 19538, 18991, ...</td>\n",
       "      <td>이탈리아,프랑스</td>\n",
       "    </tr>\n",
       "    <tr>\n",
       "      <th>10002</th>\n",
       "      <td>빽 투 더 퓨쳐</td>\n",
       "      <td>Back To The Future , 1985</td>\n",
       "      <td>2015.0</td>\n",
       "      <td>12세 관람가</td>\n",
       "      <td>SF/코미디</td>\n",
       "      <td>[1076, 4603, 917, 8637, 5104, 9986, 7470, 9987]</td>\n",
       "      <td>미국</td>\n",
       "    </tr>\n",
       "    <tr>\n",
       "      <th>10003</th>\n",
       "      <td>빽 투 더 퓨쳐 2</td>\n",
       "      <td>Back To The Future Part 2 , 1989</td>\n",
       "      <td>2015.0</td>\n",
       "      <td>12세 관람가</td>\n",
       "      <td>SF/코미디</td>\n",
       "      <td>[1076, 4603, 917, 5104, 391, 5106, 5105, 5107,...</td>\n",
       "      <td>미국</td>\n",
       "    </tr>\n",
       "    <tr>\n",
       "      <th>10004</th>\n",
       "      <td>빽 투 더 퓨쳐 3</td>\n",
       "      <td>Back To The Future Part III , 1990</td>\n",
       "      <td>1990.0</td>\n",
       "      <td>전체 관람가</td>\n",
       "      <td>서부/SF/판타지/코미디</td>\n",
       "      <td>[1076, 4603, 1031, 5104, 10001, 5984, 10002, 1...</td>\n",
       "      <td>미국</td>\n",
       "    </tr>\n",
       "    <tr>\n",
       "      <th>10005</th>\n",
       "      <td>스타워즈 에피소드 4 - 새로운 희망</td>\n",
       "      <td>Star Wars , 1977</td>\n",
       "      <td>1997.0</td>\n",
       "      <td>PG</td>\n",
       "      <td>판타지/모험/SF/액션</td>\n",
       "      <td>[1007, 535, 215, 1236, 35]</td>\n",
       "      <td>미국</td>\n",
       "    </tr>\n",
       "  </tbody>\n",
       "</table>\n",
       "</div>"
      ],
      "text/plain": [
       "                      title                           title_eng    year  \\\n",
       "movie                                                                     \n",
       "10001                시네마 천국              Cinema Paradiso , 1988  2013.0   \n",
       "10002              빽 투 더 퓨쳐           Back To The Future , 1985  2015.0   \n",
       "10003            빽 투 더 퓨쳐 2    Back To The Future Part 2 , 1989  2015.0   \n",
       "10004            빽 투 더 퓨쳐 3  Back To The Future Part III , 1990  1990.0   \n",
       "10005  스타워즈 에피소드 4 - 새로운 희망                    Star Wars , 1977  1997.0   \n",
       "\n",
       "         grade         genres  \\\n",
       "movie                           \n",
       "10001   전체 관람가     드라마/멜로/로맨스   \n",
       "10002  12세 관람가         SF/코미디   \n",
       "10003  12세 관람가         SF/코미디   \n",
       "10004   전체 관람가  서부/SF/판타지/코미디   \n",
       "10005       PG   판타지/모험/SF/액션   \n",
       "\n",
       "                                                  people   country  \n",
       "movie                                                               \n",
       "10001  [4374, 178, 3241, 47952, 47953, 19538, 18991, ...  이탈리아,프랑스  \n",
       "10002    [1076, 4603, 917, 8637, 5104, 9986, 7470, 9987]        미국  \n",
       "10003  [1076, 4603, 917, 5104, 391, 5106, 5105, 5107,...        미국  \n",
       "10004  [1076, 4603, 1031, 5104, 10001, 5984, 10002, 1...        미국  \n",
       "10005                         [1007, 535, 215, 1236, 35]        미국  "
      ]
     },
     "metadata": {},
     "output_type": "display_data"
    }
   ],
   "source": [
    "# Load all related dataframe\n",
    "movies_df = pd.read_csv(os.path.join(path, 'movies.txt'), sep='\\t', encoding='utf-8')\n",
    "movies_df = movies_df.set_index('movie')\n",
    "\n",
    "castings_df = pd.read_csv(os.path.join(path, 'castings.csv'), encoding='utf-8')\n",
    "countries_df = pd.read_csv(os.path.join(path, 'countries.csv'), encoding='utf-8')\n",
    "genres_df = pd.read_csv(os.path.join(path, 'genres.csv'), encoding='utf-8')\n",
    "\n",
    "# Get genre information\n",
    "genres = [(list(set(x['movie'].values))[0], '/'.join(x['genre'].values)) for index, x in genres_df.groupby('movie')]\n",
    "combined_genres_df = pd.DataFrame(data=genres, columns=['movie', 'genres'])\n",
    "combined_genres_df = combined_genres_df.set_index('movie')\n",
    "\n",
    "# Get castings information\n",
    "castings = [(list(set(x['movie'].values))[0], x['people'].values) for index, x in castings_df.groupby('movie')]\n",
    "combined_castings_df = pd.DataFrame(data=castings, columns=['movie','people'])\n",
    "combined_castings_df = combined_castings_df.set_index('movie')\n",
    "\n",
    "# Get countries for movie information\n",
    "countries = [(list(set(x['movie'].values))[0], ','.join(x['country'].values)) for index, x in countries_df.groupby('movie')]\n",
    "combined_countries_df = pd.DataFrame(data=countries, columns=['movie', 'country'])\n",
    "combined_countries_df = combined_countries_df.set_index('movie')\n",
    "\n",
    "movies_df = pd.concat([movies_df, combined_genres_df, combined_castings_df, combined_countries_df], axis=1)\n",
    "\n",
    "print(movies_df.shape)\n",
    "display(movies_df.head())"
   ]
  },
  {
   "cell_type": "markdown",
   "metadata": {},
   "source": [
    "### Wide 부분에서 cross product feature를 구할때 movie 정보를 사용한다.(project)\n",
    "\n",
    "+ 어떤 feature를 사용할지는 내가 정하기"
   ]
  },
  {
   "cell_type": "code",
   "execution_count": 11,
   "metadata": {
    "colab": {
     "base_uri": "https://localhost:8080/"
    },
    "executionInfo": {
     "elapsed": 1422,
     "status": "ok",
     "timestamp": 1610010576563,
     "user": {
      "displayName": "Jaewon Fastcampus",
      "photoUrl": "",
      "userId": "05122666633107220130"
     },
     "user_tz": -540
    },
    "id": "D2ikFFTGzGIZ",
    "outputId": "5a2790c4-7fdd-4f87-d257-49ad842dc97e"
   },
   "outputs": [
    {
     "data": {
      "text/plain": [
       "Index(['title', 'title_eng', 'year', 'grade', 'genres', 'people', 'country'], dtype='object')"
      ]
     },
     "execution_count": 11,
     "metadata": {},
     "output_type": "execute_result"
    }
   ],
   "source": [
    "movies_df.columns"
   ]
  },
  {
   "cell_type": "code",
   "execution_count": 12,
   "metadata": {
    "colab": {
     "base_uri": "https://localhost:8080/",
     "height": 195
    },
    "executionInfo": {
     "elapsed": 1525,
     "status": "ok",
     "timestamp": 1610010595206,
     "user": {
      "displayName": "Jaewon Fastcampus",
      "photoUrl": "",
      "userId": "05122666633107220130"
     },
     "user_tz": -540
    },
    "id": "ZZ-qmGxO23lY",
    "outputId": "1b652268-f3e9-4572-cd61-586f394deaa5"
   },
   "outputs": [
    {
     "data": {
      "text/html": [
       "<div>\n",
       "<style scoped>\n",
       "    .dataframe tbody tr th:only-of-type {\n",
       "        vertical-align: middle;\n",
       "    }\n",
       "\n",
       "    .dataframe tbody tr th {\n",
       "        vertical-align: top;\n",
       "    }\n",
       "\n",
       "    .dataframe thead th {\n",
       "        text-align: right;\n",
       "    }\n",
       "</style>\n",
       "<table border=\"1\" class=\"dataframe\">\n",
       "  <thead>\n",
       "    <tr style=\"text-align: right;\">\n",
       "      <th></th>\n",
       "      <th>SF</th>\n",
       "      <th>가족</th>\n",
       "      <th>공포</th>\n",
       "      <th>느와르</th>\n",
       "      <th>다큐멘터리</th>\n",
       "      <th>드라마</th>\n",
       "      <th>로맨스</th>\n",
       "      <th>멜로</th>\n",
       "      <th>모험</th>\n",
       "      <th>뮤지컬</th>\n",
       "      <th>...</th>\n",
       "      <th>범죄</th>\n",
       "      <th>서부</th>\n",
       "      <th>서사</th>\n",
       "      <th>스릴러</th>\n",
       "      <th>애니메이션</th>\n",
       "      <th>액션</th>\n",
       "      <th>에로</th>\n",
       "      <th>전쟁</th>\n",
       "      <th>코미디</th>\n",
       "      <th>판타지</th>\n",
       "    </tr>\n",
       "  </thead>\n",
       "  <tbody>\n",
       "    <tr>\n",
       "      <th>137023</th>\n",
       "      <td>0</td>\n",
       "      <td>0</td>\n",
       "      <td>0</td>\n",
       "      <td>0</td>\n",
       "      <td>0</td>\n",
       "      <td>1</td>\n",
       "      <td>1</td>\n",
       "      <td>1</td>\n",
       "      <td>0</td>\n",
       "      <td>0</td>\n",
       "      <td>...</td>\n",
       "      <td>0</td>\n",
       "      <td>0</td>\n",
       "      <td>0</td>\n",
       "      <td>0</td>\n",
       "      <td>0</td>\n",
       "      <td>0</td>\n",
       "      <td>0</td>\n",
       "      <td>0</td>\n",
       "      <td>0</td>\n",
       "      <td>0</td>\n",
       "    </tr>\n",
       "    <tr>\n",
       "      <th>92868</th>\n",
       "      <td>0</td>\n",
       "      <td>0</td>\n",
       "      <td>0</td>\n",
       "      <td>0</td>\n",
       "      <td>0</td>\n",
       "      <td>0</td>\n",
       "      <td>0</td>\n",
       "      <td>0</td>\n",
       "      <td>0</td>\n",
       "      <td>0</td>\n",
       "      <td>...</td>\n",
       "      <td>0</td>\n",
       "      <td>0</td>\n",
       "      <td>0</td>\n",
       "      <td>0</td>\n",
       "      <td>0</td>\n",
       "      <td>1</td>\n",
       "      <td>0</td>\n",
       "      <td>0</td>\n",
       "      <td>0</td>\n",
       "      <td>0</td>\n",
       "    </tr>\n",
       "    <tr>\n",
       "      <th>94390</th>\n",
       "      <td>0</td>\n",
       "      <td>0</td>\n",
       "      <td>0</td>\n",
       "      <td>0</td>\n",
       "      <td>0</td>\n",
       "      <td>1</td>\n",
       "      <td>0</td>\n",
       "      <td>0</td>\n",
       "      <td>0</td>\n",
       "      <td>0</td>\n",
       "      <td>...</td>\n",
       "      <td>0</td>\n",
       "      <td>0</td>\n",
       "      <td>0</td>\n",
       "      <td>0</td>\n",
       "      <td>0</td>\n",
       "      <td>0</td>\n",
       "      <td>0</td>\n",
       "      <td>0</td>\n",
       "      <td>0</td>\n",
       "      <td>0</td>\n",
       "    </tr>\n",
       "    <tr>\n",
       "      <th>22289</th>\n",
       "      <td>0</td>\n",
       "      <td>0</td>\n",
       "      <td>0</td>\n",
       "      <td>0</td>\n",
       "      <td>0</td>\n",
       "      <td>1</td>\n",
       "      <td>1</td>\n",
       "      <td>1</td>\n",
       "      <td>0</td>\n",
       "      <td>0</td>\n",
       "      <td>...</td>\n",
       "      <td>0</td>\n",
       "      <td>0</td>\n",
       "      <td>0</td>\n",
       "      <td>0</td>\n",
       "      <td>0</td>\n",
       "      <td>0</td>\n",
       "      <td>0</td>\n",
       "      <td>0</td>\n",
       "      <td>0</td>\n",
       "      <td>0</td>\n",
       "    </tr>\n",
       "    <tr>\n",
       "      <th>80155</th>\n",
       "      <td>0</td>\n",
       "      <td>0</td>\n",
       "      <td>0</td>\n",
       "      <td>0</td>\n",
       "      <td>0</td>\n",
       "      <td>1</td>\n",
       "      <td>0</td>\n",
       "      <td>0</td>\n",
       "      <td>0</td>\n",
       "      <td>0</td>\n",
       "      <td>...</td>\n",
       "      <td>0</td>\n",
       "      <td>0</td>\n",
       "      <td>0</td>\n",
       "      <td>0</td>\n",
       "      <td>0</td>\n",
       "      <td>1</td>\n",
       "      <td>0</td>\n",
       "      <td>0</td>\n",
       "      <td>0</td>\n",
       "      <td>0</td>\n",
       "    </tr>\n",
       "  </tbody>\n",
       "</table>\n",
       "<p>5 rows × 21 columns</p>\n",
       "</div>"
      ],
      "text/plain": [
       "        SF  가족  공포  느와르  다큐멘터리  드라마  로맨스  멜로  모험  뮤지컬  ...  범죄  서부  서사  스릴러  \\\n",
       "137023   0   0   0    0      0    1    1   1   0    0  ...   0   0   0    0   \n",
       "92868    0   0   0    0      0    0    0   0   0    0  ...   0   0   0    0   \n",
       "94390    0   0   0    0      0    1    0   0   0    0  ...   0   0   0    0   \n",
       "22289    0   0   0    0      0    1    1   1   0    0  ...   0   0   0    0   \n",
       "80155    0   0   0    0      0    1    0   0   0    0  ...   0   0   0    0   \n",
       "\n",
       "        애니메이션  액션  에로  전쟁  코미디  판타지  \n",
       "137023      0   0   0   0    0    0  \n",
       "92868       0   1   0   0    0    0  \n",
       "94390       0   0   0   0    0    0  \n",
       "22289       0   0   0   0    0    0  \n",
       "80155       0   1   0   0    0    0  \n",
       "\n",
       "[5 rows x 21 columns]"
      ]
     },
     "execution_count": 12,
     "metadata": {},
     "output_type": "execute_result"
    }
   ],
   "source": [
    "dummy_genres_df = movies_df['genres'].str.get_dummies(sep='/')\n",
    "train_genres_df = train_df['movie'].apply(lambda x: dummy_genres_df.loc[x])\n",
    "train_genres_df.head()"
   ]
  },
  {
   "cell_type": "code",
   "execution_count": 13,
   "metadata": {
    "colab": {
     "base_uri": "https://localhost:8080/",
     "height": 195
    },
    "executionInfo": {
     "elapsed": 1194,
     "status": "ok",
     "timestamp": 1610010613801,
     "user": {
      "displayName": "Jaewon Fastcampus",
      "photoUrl": "",
      "userId": "05122666633107220130"
     },
     "user_tz": -540
    },
    "id": "HsU17KLB3Q3q",
    "outputId": "21408f0d-43a0-464c-b62d-2f9bc0097c4a"
   },
   "outputs": [
    {
     "data": {
      "text/html": [
       "<div>\n",
       "<style scoped>\n",
       "    .dataframe tbody tr th:only-of-type {\n",
       "        vertical-align: middle;\n",
       "    }\n",
       "\n",
       "    .dataframe tbody tr th {\n",
       "        vertical-align: top;\n",
       "    }\n",
       "\n",
       "    .dataframe thead th {\n",
       "        text-align: right;\n",
       "    }\n",
       "</style>\n",
       "<table border=\"1\" class=\"dataframe\">\n",
       "  <thead>\n",
       "    <tr style=\"text-align: right;\">\n",
       "      <th></th>\n",
       "      <th>grade_12세 관람가</th>\n",
       "      <th>grade_15세 관람가</th>\n",
       "      <th>grade_G</th>\n",
       "      <th>grade_NR</th>\n",
       "      <th>grade_PG</th>\n",
       "      <th>grade_PG-13</th>\n",
       "      <th>grade_R</th>\n",
       "      <th>grade_전체 관람가</th>\n",
       "      <th>grade_청소년 관람불가</th>\n",
       "    </tr>\n",
       "  </thead>\n",
       "  <tbody>\n",
       "    <tr>\n",
       "      <th>137023</th>\n",
       "      <td>1</td>\n",
       "      <td>0</td>\n",
       "      <td>0</td>\n",
       "      <td>0</td>\n",
       "      <td>0</td>\n",
       "      <td>0</td>\n",
       "      <td>0</td>\n",
       "      <td>0</td>\n",
       "      <td>0</td>\n",
       "    </tr>\n",
       "    <tr>\n",
       "      <th>92868</th>\n",
       "      <td>0</td>\n",
       "      <td>0</td>\n",
       "      <td>0</td>\n",
       "      <td>0</td>\n",
       "      <td>1</td>\n",
       "      <td>0</td>\n",
       "      <td>0</td>\n",
       "      <td>0</td>\n",
       "      <td>0</td>\n",
       "    </tr>\n",
       "    <tr>\n",
       "      <th>94390</th>\n",
       "      <td>1</td>\n",
       "      <td>0</td>\n",
       "      <td>0</td>\n",
       "      <td>0</td>\n",
       "      <td>0</td>\n",
       "      <td>0</td>\n",
       "      <td>0</td>\n",
       "      <td>0</td>\n",
       "      <td>0</td>\n",
       "    </tr>\n",
       "    <tr>\n",
       "      <th>22289</th>\n",
       "      <td>0</td>\n",
       "      <td>0</td>\n",
       "      <td>0</td>\n",
       "      <td>0</td>\n",
       "      <td>0</td>\n",
       "      <td>0</td>\n",
       "      <td>0</td>\n",
       "      <td>1</td>\n",
       "      <td>0</td>\n",
       "    </tr>\n",
       "    <tr>\n",
       "      <th>80155</th>\n",
       "      <td>1</td>\n",
       "      <td>0</td>\n",
       "      <td>0</td>\n",
       "      <td>0</td>\n",
       "      <td>0</td>\n",
       "      <td>0</td>\n",
       "      <td>0</td>\n",
       "      <td>0</td>\n",
       "      <td>0</td>\n",
       "    </tr>\n",
       "  </tbody>\n",
       "</table>\n",
       "</div>"
      ],
      "text/plain": [
       "        grade_12세 관람가  grade_15세 관람가  grade_G  grade_NR  grade_PG  \\\n",
       "137023              1              0        0         0         0   \n",
       "92868               0              0        0         0         1   \n",
       "94390               1              0        0         0         0   \n",
       "22289               0              0        0         0         0   \n",
       "80155               1              0        0         0         0   \n",
       "\n",
       "        grade_PG-13  grade_R  grade_전체 관람가  grade_청소년 관람불가  \n",
       "137023            0        0             0               0  \n",
       "92868             0        0             0               0  \n",
       "94390             0        0             0               0  \n",
       "22289             0        0             1               0  \n",
       "80155             0        0             0               0  "
      ]
     },
     "execution_count": 13,
     "metadata": {},
     "output_type": "execute_result"
    }
   ],
   "source": [
    "dummy_grade_df = pd.get_dummies(movies_df['grade'], prefix='grade')\n",
    "train_grade_df = train_df['movie'].apply(lambda x: dummy_grade_df.loc[x])\n",
    "train_grade_df.head()"
   ]
  },
  {
   "cell_type": "code",
   "execution_count": 14,
   "metadata": {
    "executionInfo": {
     "elapsed": 950,
     "status": "ok",
     "timestamp": 1610010623773,
     "user": {
      "displayName": "Jaewon Fastcampus",
      "photoUrl": "",
      "userId": "05122666633107220130"
     },
     "user_tz": -540
    },
    "id": "r0qngT_Nz-j9"
   },
   "outputs": [],
   "source": [
    "train_df['year'] = train_df.apply(lambda x: movies_df.loc[x['movie']]['year'], axis=1)"
   ]
  },
  {
   "cell_type": "markdown",
   "metadata": {},
   "source": [
    "#### movie정보를 concat(project)"
   ]
  },
  {
   "cell_type": "code",
   "execution_count": 15,
   "metadata": {
    "colab": {
     "base_uri": "https://localhost:8080/",
     "height": 282
    },
    "executionInfo": {
     "elapsed": 1272,
     "status": "ok",
     "timestamp": 1610010651820,
     "user": {
      "displayName": "Jaewon Fastcampus",
      "photoUrl": "",
      "userId": "05122666633107220130"
     },
     "user_tz": -540
    },
    "id": "aDxgu9Ij4EKL",
    "outputId": "1c938fb1-8005-41c0-9cd8-6e153f47924d"
   },
   "outputs": [
    {
     "data": {
      "text/html": [
       "<div>\n",
       "<style scoped>\n",
       "    .dataframe tbody tr th:only-of-type {\n",
       "        vertical-align: middle;\n",
       "    }\n",
       "\n",
       "    .dataframe tbody tr th {\n",
       "        vertical-align: top;\n",
       "    }\n",
       "\n",
       "    .dataframe thead th {\n",
       "        text-align: right;\n",
       "    }\n",
       "</style>\n",
       "<table border=\"1\" class=\"dataframe\">\n",
       "  <thead>\n",
       "    <tr style=\"text-align: right;\">\n",
       "      <th></th>\n",
       "      <th>user</th>\n",
       "      <th>movie</th>\n",
       "      <th>rate</th>\n",
       "      <th>time</th>\n",
       "      <th>year</th>\n",
       "      <th>grade_12세 관람가</th>\n",
       "      <th>grade_15세 관람가</th>\n",
       "      <th>grade_G</th>\n",
       "      <th>grade_NR</th>\n",
       "      <th>grade_PG</th>\n",
       "      <th>...</th>\n",
       "      <th>범죄</th>\n",
       "      <th>서부</th>\n",
       "      <th>서사</th>\n",
       "      <th>스릴러</th>\n",
       "      <th>애니메이션</th>\n",
       "      <th>액션</th>\n",
       "      <th>에로</th>\n",
       "      <th>전쟁</th>\n",
       "      <th>코미디</th>\n",
       "      <th>판타지</th>\n",
       "    </tr>\n",
       "  </thead>\n",
       "  <tbody>\n",
       "    <tr>\n",
       "      <th>137023</th>\n",
       "      <td>48423</td>\n",
       "      <td>10764</td>\n",
       "      <td>10</td>\n",
       "      <td>1212241560</td>\n",
       "      <td>1987.0</td>\n",
       "      <td>1</td>\n",
       "      <td>0</td>\n",
       "      <td>0</td>\n",
       "      <td>0</td>\n",
       "      <td>0</td>\n",
       "      <td>...</td>\n",
       "      <td>0</td>\n",
       "      <td>0</td>\n",
       "      <td>0</td>\n",
       "      <td>0</td>\n",
       "      <td>0</td>\n",
       "      <td>0</td>\n",
       "      <td>0</td>\n",
       "      <td>0</td>\n",
       "      <td>0</td>\n",
       "      <td>0</td>\n",
       "    </tr>\n",
       "    <tr>\n",
       "      <th>92868</th>\n",
       "      <td>17307</td>\n",
       "      <td>10170</td>\n",
       "      <td>10</td>\n",
       "      <td>1122185220</td>\n",
       "      <td>1985.0</td>\n",
       "      <td>0</td>\n",
       "      <td>0</td>\n",
       "      <td>0</td>\n",
       "      <td>0</td>\n",
       "      <td>1</td>\n",
       "      <td>...</td>\n",
       "      <td>0</td>\n",
       "      <td>0</td>\n",
       "      <td>0</td>\n",
       "      <td>0</td>\n",
       "      <td>0</td>\n",
       "      <td>1</td>\n",
       "      <td>0</td>\n",
       "      <td>0</td>\n",
       "      <td>0</td>\n",
       "      <td>0</td>\n",
       "    </tr>\n",
       "    <tr>\n",
       "      <th>94390</th>\n",
       "      <td>18180</td>\n",
       "      <td>10048</td>\n",
       "      <td>10</td>\n",
       "      <td>1573403460</td>\n",
       "      <td>2016.0</td>\n",
       "      <td>1</td>\n",
       "      <td>0</td>\n",
       "      <td>0</td>\n",
       "      <td>0</td>\n",
       "      <td>0</td>\n",
       "      <td>...</td>\n",
       "      <td>0</td>\n",
       "      <td>0</td>\n",
       "      <td>0</td>\n",
       "      <td>0</td>\n",
       "      <td>0</td>\n",
       "      <td>0</td>\n",
       "      <td>0</td>\n",
       "      <td>0</td>\n",
       "      <td>0</td>\n",
       "      <td>0</td>\n",
       "    </tr>\n",
       "    <tr>\n",
       "      <th>22289</th>\n",
       "      <td>1498</td>\n",
       "      <td>10001</td>\n",
       "      <td>9</td>\n",
       "      <td>1432684500</td>\n",
       "      <td>2013.0</td>\n",
       "      <td>0</td>\n",
       "      <td>0</td>\n",
       "      <td>0</td>\n",
       "      <td>0</td>\n",
       "      <td>0</td>\n",
       "      <td>...</td>\n",
       "      <td>0</td>\n",
       "      <td>0</td>\n",
       "      <td>0</td>\n",
       "      <td>0</td>\n",
       "      <td>0</td>\n",
       "      <td>0</td>\n",
       "      <td>0</td>\n",
       "      <td>0</td>\n",
       "      <td>0</td>\n",
       "      <td>0</td>\n",
       "    </tr>\n",
       "    <tr>\n",
       "      <th>80155</th>\n",
       "      <td>12541</td>\n",
       "      <td>10022</td>\n",
       "      <td>10</td>\n",
       "      <td>1370458140</td>\n",
       "      <td>1980.0</td>\n",
       "      <td>1</td>\n",
       "      <td>0</td>\n",
       "      <td>0</td>\n",
       "      <td>0</td>\n",
       "      <td>0</td>\n",
       "      <td>...</td>\n",
       "      <td>0</td>\n",
       "      <td>0</td>\n",
       "      <td>0</td>\n",
       "      <td>0</td>\n",
       "      <td>0</td>\n",
       "      <td>1</td>\n",
       "      <td>0</td>\n",
       "      <td>0</td>\n",
       "      <td>0</td>\n",
       "      <td>0</td>\n",
       "    </tr>\n",
       "  </tbody>\n",
       "</table>\n",
       "<p>5 rows × 35 columns</p>\n",
       "</div>"
      ],
      "text/plain": [
       "         user  movie  rate        time    year  grade_12세 관람가  grade_15세 관람가  \\\n",
       "137023  48423  10764    10  1212241560  1987.0              1              0   \n",
       "92868   17307  10170    10  1122185220  1985.0              0              0   \n",
       "94390   18180  10048    10  1573403460  2016.0              1              0   \n",
       "22289    1498  10001     9  1432684500  2013.0              0              0   \n",
       "80155   12541  10022    10  1370458140  1980.0              1              0   \n",
       "\n",
       "        grade_G  grade_NR  grade_PG  ...  범죄  서부  서사  스릴러  애니메이션  액션  에로  전쟁  \\\n",
       "137023        0         0         0  ...   0   0   0    0      0   0   0   0   \n",
       "92868         0         0         1  ...   0   0   0    0      0   1   0   0   \n",
       "94390         0         0         0  ...   0   0   0    0      0   0   0   0   \n",
       "22289         0         0         0  ...   0   0   0    0      0   0   0   0   \n",
       "80155         0         0         0  ...   0   0   0    0      0   1   0   0   \n",
       "\n",
       "        코미디  판타지  \n",
       "137023    0    0  \n",
       "92868     0    0  \n",
       "94390     0    0  \n",
       "22289     0    0  \n",
       "80155     0    0  \n",
       "\n",
       "[5 rows x 35 columns]"
      ]
     },
     "execution_count": 15,
     "metadata": {},
     "output_type": "execute_result"
    }
   ],
   "source": [
    "train_df = pd.concat([train_df, train_grade_df, train_genres_df], axis=1)\n",
    "train_df.head()"
   ]
  },
  {
   "cell_type": "markdown",
   "metadata": {},
   "source": [
    "### (project) wide column을 뭘 쓸거냐 장르와 grade를 사용한다. -> wide와 interaction을 보고 싶다.\n",
    "### (project) 이런 feature들의 cross column을 만든다.!! 조합을 만드는 것!!\n",
    "### (project) 여러개는 못 넣나? And니까 넣을 수 있지 않을까? --> 그럼 dimension이 3차원이 되는데... 생각해보자!!\n",
    "\n",
    "![k](./image/k.PNG)\n",
    "\n",
    "* 아래 과정은 Wide한 부분 하는 중!"
   ]
  },
  {
   "cell_type": "code",
   "execution_count": 16,
   "metadata": {
    "colab": {
     "base_uri": "https://localhost:8080/"
    },
    "executionInfo": {
     "elapsed": 1368,
     "status": "ok",
     "timestamp": 1610010700891,
     "user": {
      "displayName": "Jaewon Fastcampus",
      "photoUrl": "",
      "userId": "05122666633107220130"
     },
     "user_tz": -540
    },
    "id": "LVhr1q-t4dT3",
    "outputId": "34e40e6b-80ac-4b29-d1e2-4ae2673d292d"
   },
   "outputs": [
    {
     "data": {
      "text/plain": [
       "['SF',\n",
       " '가족',\n",
       " '공포',\n",
       " '느와르',\n",
       " '다큐멘터리',\n",
       " '드라마',\n",
       " '로맨스',\n",
       " '멜로',\n",
       " '모험',\n",
       " '뮤지컬',\n",
       " '미스터리',\n",
       " '범죄',\n",
       " '서부',\n",
       " '서사',\n",
       " '스릴러',\n",
       " '애니메이션',\n",
       " '액션',\n",
       " '에로',\n",
       " '전쟁',\n",
       " '코미디',\n",
       " '판타지',\n",
       " 'grade_12세 관람가',\n",
       " 'grade_15세 관람가',\n",
       " 'grade_G',\n",
       " 'grade_NR',\n",
       " 'grade_PG',\n",
       " 'grade_PG-13',\n",
       " 'grade_R',\n",
       " 'grade_전체 관람가',\n",
       " 'grade_청소년 관람불가']"
      ]
     },
     "execution_count": 16,
     "metadata": {},
     "output_type": "execute_result"
    }
   ],
   "source": [
    "wide_cols = list(dummy_genres_df.columns) + list(dummy_grade_df.columns)\n",
    "wide_cols"
   ]
  },
  {
   "cell_type": "markdown",
   "metadata": {},
   "source": [
    "#### (check) 여기서 feature를 모두 사용해서 combination을 만들면 너무 커지므로 3개만 사용"
   ]
  },
  {
   "cell_type": "code",
   "execution_count": 17,
   "metadata": {
    "colab": {
     "base_uri": "https://localhost:8080/"
    },
    "executionInfo": {
     "elapsed": 1156,
     "status": "ok",
     "timestamp": 1610010734169,
     "user": {
      "displayName": "Jaewon Fastcampus",
      "photoUrl": "",
      "userId": "05122666633107220130"
     },
     "user_tz": -540
    },
    "id": "Q7RbNVlz6JI7",
    "outputId": "25af8166-fab5-45d1-eca7-bd517cd9fd68"
   },
   "outputs": [
    {
     "name": "stdout",
     "output_type": "stream",
     "text": [
      "30\n",
      "['SF', '가족', '공포', '느와르', '다큐멘터리', '드라마', '로맨스', '멜로', '모험', '뮤지컬', '미스터리', '범죄', '서부', '서사', '스릴러', '애니메이션', '액션', '에로', '전쟁', '코미디', '판타지', 'grade_12세 관람가', 'grade_15세 관람가', 'grade_G', 'grade_NR', 'grade_PG', 'grade_PG-13', 'grade_R', 'grade_전체 관람가', 'grade_청소년 관람불가']\n"
     ]
    }
   ],
   "source": [
    "print(len(wide_cols))\n",
    "print(wide_cols)\n",
    "\n",
    "wide_cols = wide_cols[:3]"
   ]
  },
  {
   "cell_type": "code",
   "execution_count": 18,
   "metadata": {
    "colab": {
     "base_uri": "https://localhost:8080/"
    },
    "executionInfo": {
     "elapsed": 2048,
     "status": "ok",
     "timestamp": 1610010751156,
     "user": {
      "displayName": "Jaewon Fastcampus",
      "photoUrl": "",
      "userId": "05122666633107220130"
     },
     "user_tz": -540
    },
    "id": "3w5_Lt8p72vS",
    "outputId": "896e60aa-6854-4783-a88c-73b0ea0c033e"
   },
   "outputs": [
    {
     "data": {
      "text/plain": [
       "['SF', '가족', '공포']"
      ]
     },
     "execution_count": 18,
     "metadata": {},
     "output_type": "execute_result"
    }
   ],
   "source": [
    "# wide_cols = ['genre', 'grade']\n",
    "# cross_cols = [('genre', 'grade')]\n",
    "wide_cols"
   ]
  },
  {
   "cell_type": "markdown",
   "metadata": {},
   "source": [
    "### (Project) itertool을 사용해서 wide 부분의 cross column을 만들어줌"
   ]
  },
  {
   "cell_type": "code",
   "execution_count": 21,
   "metadata": {
    "colab": {
     "base_uri": "https://localhost:8080/"
    },
    "executionInfo": {
     "elapsed": 1312,
     "status": "ok",
     "timestamp": 1610010760277,
     "user": {
      "displayName": "Jaewon Fastcampus",
      "photoUrl": "",
      "userId": "05122666633107220130"
     },
     "user_tz": -540
    },
    "id": "z-HbaKgU6fJu",
    "outputId": "6aef1608-5acb-4f4e-e31c-82667fc36760"
   },
   "outputs": [
    {
     "name": "stdout",
     "output_type": "stream",
     "text": [
      "[[('SF', 'SF'), ('가족', 'SF'), ('공포', 'SF')], [('SF', 'SF'), ('가족', 'SF'), ('공포', '가족')], [('SF', 'SF'), ('가족', 'SF'), ('공포', '공포')], [('SF', 'SF'), ('가족', '가족'), ('공포', 'SF')], [('SF', 'SF'), ('가족', '가족'), ('공포', '가족')], [('SF', 'SF'), ('가족', '가족'), ('공포', '공포')], [('SF', 'SF'), ('가족', '공포'), ('공포', 'SF')], [('SF', 'SF'), ('가족', '공포'), ('공포', '가족')], [('SF', 'SF'), ('가족', '공포'), ('공포', '공포')], [('SF', '가족'), ('가족', 'SF'), ('공포', 'SF')], [('SF', '가족'), ('가족', 'SF'), ('공포', '가족')], [('SF', '가족'), ('가족', 'SF'), ('공포', '공포')], [('SF', '가족'), ('가족', '가족'), ('공포', 'SF')], [('SF', '가족'), ('가족', '가족'), ('공포', '가족')], [('SF', '가족'), ('가족', '가족'), ('공포', '공포')], [('SF', '가족'), ('가족', '공포'), ('공포', 'SF')], [('SF', '가족'), ('가족', '공포'), ('공포', '가족')], [('SF', '가족'), ('가족', '공포'), ('공포', '공포')], [('SF', '공포'), ('가족', 'SF'), ('공포', 'SF')], [('SF', '공포'), ('가족', 'SF'), ('공포', '가족')], [('SF', '공포'), ('가족', 'SF'), ('공포', '공포')], [('SF', '공포'), ('가족', '가족'), ('공포', 'SF')], [('SF', '공포'), ('가족', '가족'), ('공포', '가족')], [('SF', '공포'), ('가족', '가족'), ('공포', '공포')], [('SF', '공포'), ('가족', '공포'), ('공포', 'SF')], [('SF', '공포'), ('가족', '공포'), ('공포', '가족')], [('SF', '공포'), ('가족', '공포'), ('공포', '공포')]]\n"
     ]
    },
    {
     "data": {
      "text/plain": [
       "[('SF', '가족'),\n",
       " ('공포', '가족'),\n",
       " ('공포', 'SF'),\n",
       " ('SF', '공포'),\n",
       " ('가족', 'SF'),\n",
       " ('가족', '공포')]"
      ]
     },
     "execution_count": 21,
     "metadata": {},
     "output_type": "execute_result"
    }
   ],
   "source": [
    "import itertools\n",
    "from itertools import product  \n",
    "unique_combinations = list(list(zip(wide_cols, element)) \n",
    "                           for element in product(wide_cols, repeat = len(wide_cols))) \n",
    "\n",
    "print(unique_combinations)\n",
    "cross_cols = [item for sublist in unique_combinations for item in sublist]\n",
    "cross_cols = [x for x in cross_cols if x[0] != x[1]]\n",
    "cross_cols = list(set(cross_cols))\n",
    "cross_cols"
   ]
  },
  {
   "cell_type": "markdown",
   "metadata": {},
   "source": [
    "### (project) Categorical data인 genre는 embeding size가 16인 공간으로 사상하겠다.\n",
    "   - (내생각) 16차원으로 사상하겠다?? 이렇게 해석하면 될까?\n",
    "   - continuous하지 않은 데이터는 embedding을 "
   ]
  },
  {
   "cell_type": "code",
   "execution_count": 23,
   "metadata": {
    "colab": {
     "base_uri": "https://localhost:8080/"
    },
    "executionInfo": {
     "elapsed": 1370,
     "status": "ok",
     "timestamp": 1610010841480,
     "user": {
      "displayName": "Jaewon Fastcampus",
      "photoUrl": "",
      "userId": "05122666633107220130"
     },
     "user_tz": -540
    },
    "id": "os2XPky1zyrG",
    "outputId": "c4961a14-2a80-41ca-d75b-8e72d6958095"
   },
   "outputs": [
    {
     "name": "stdout",
     "output_type": "stream",
     "text": [
      "[('SF', 16), ('공포', 16), ('가족', 16)]\n"
     ]
    }
   ],
   "source": [
    "# embed_cols = [('genre', 16),('grade', 16)]\n",
    "embed_cols = list(set([(x[0], 16) for x in cross_cols]))\n",
    "print(embed_cols)"
   ]
  },
  {
   "cell_type": "markdown",
   "metadata": {},
   "source": [
    "### (project) Continuous data인 year는 그대로 사용한다."
   ]
  },
  {
   "cell_type": "code",
   "execution_count": 24,
   "metadata": {},
   "outputs": [
    {
     "name": "stdout",
     "output_type": "stream",
     "text": [
      "['year']\n"
     ]
    }
   ],
   "source": [
    "continuous_cols = ['year']\n",
    "print(continuous_cols)"
   ]
  },
  {
   "cell_type": "markdown",
   "metadata": {},
   "source": [
    "### (Project) 여기서 핵심은! 위 과정은 이진 분류 과정 \n",
    "### (target) ----> 평점 9점 이상을 1로, 아니면 0으로!!!"
   ]
  },
  {
   "cell_type": "code",
   "execution_count": 25,
   "metadata": {
    "executionInfo": {
     "elapsed": 1498,
     "status": "ok",
     "timestamp": 1610010871697,
     "user": {
      "displayName": "Jaewon Fastcampus",
      "photoUrl": "",
      "userId": "05122666633107220130"
     },
     "user_tz": -540
    },
    "id": "T7uvvmjS0Fv-"
   },
   "outputs": [],
   "source": [
    "target = train_df['rate'].apply(lambda x: 1 if x > 9 else 0).values"
   ]
  },
  {
   "cell_type": "markdown",
   "metadata": {
    "id": "C9yiNgiN0oUy"
   },
   "source": [
    "## Wide & Deep"
   ]
  },
  {
   "cell_type": "code",
   "execution_count": 26,
   "metadata": {
    "executionInfo": {
     "elapsed": 8650,
     "status": "ok",
     "timestamp": 1610010920649,
     "user": {
      "displayName": "Jaewon Fastcampus",
      "photoUrl": "",
      "userId": "05122666633107220130"
     },
     "user_tz": -540
    },
    "id": "tGogfgZ40Uq4"
   },
   "outputs": [
    {
     "ename": "ModuleNotFoundError",
     "evalue": "No module named 'pytorch_widedeep'",
     "output_type": "error",
     "traceback": [
      "\u001b[1;31m---------------------------------------------------------------------------\u001b[0m",
      "\u001b[1;31mModuleNotFoundError\u001b[0m                       Traceback (most recent call last)",
      "\u001b[1;32m<ipython-input-26-37df6d61e941>\u001b[0m in \u001b[0;36m<module>\u001b[1;34m\u001b[0m\n\u001b[1;32m----> 1\u001b[1;33m \u001b[1;32mfrom\u001b[0m \u001b[0mpytorch_widedeep\u001b[0m\u001b[1;33m.\u001b[0m\u001b[0mpreprocessing\u001b[0m \u001b[1;32mimport\u001b[0m \u001b[0mWidePreprocessor\u001b[0m\u001b[1;33m,\u001b[0m \u001b[0mDensePreprocessor\u001b[0m\u001b[1;33m\u001b[0m\u001b[1;33m\u001b[0m\u001b[0m\n\u001b[0m\u001b[0;32m      2\u001b[0m \u001b[1;32mfrom\u001b[0m \u001b[0mpytorch_widedeep\u001b[0m\u001b[1;33m.\u001b[0m\u001b[0mmodels\u001b[0m \u001b[1;32mimport\u001b[0m \u001b[0mWide\u001b[0m\u001b[1;33m,\u001b[0m \u001b[0mDeepDense\u001b[0m\u001b[1;33m,\u001b[0m \u001b[0mWideDeep\u001b[0m\u001b[1;33m\u001b[0m\u001b[1;33m\u001b[0m\u001b[0m\n\u001b[0;32m      3\u001b[0m \u001b[1;32mfrom\u001b[0m \u001b[0mpytorch_widedeep\u001b[0m\u001b[1;33m.\u001b[0m\u001b[0mmetrics\u001b[0m \u001b[1;32mimport\u001b[0m \u001b[0mAccuracy\u001b[0m\u001b[1;33m\u001b[0m\u001b[1;33m\u001b[0m\u001b[0m\n",
      "\u001b[1;31mModuleNotFoundError\u001b[0m: No module named 'pytorch_widedeep'"
     ]
    }
   ],
   "source": [
    "from pytorch_widedeep.preprocessing import WidePreprocessor, DensePreprocessor\n",
    "from pytorch_widedeep.models import Wide, DeepDense, WideDeep\n",
    "from pytorch_widedeep.metrics import Accuracy"
   ]
  },
  {
   "cell_type": "markdown",
   "metadata": {
    "id": "MpKbAf0n0nIZ"
   },
   "source": [
    "### Wide Component"
   ]
  },
  {
   "cell_type": "code",
   "execution_count": 21,
   "metadata": {
    "executionInfo": {
     "elapsed": 1292,
     "status": "ok",
     "timestamp": 1610010954652,
     "user": {
      "displayName": "Jaewon Fastcampus",
      "photoUrl": "",
      "userId": "05122666633107220130"
     },
     "user_tz": -540
    },
    "id": "8rkppnwh0Xwl"
   },
   "outputs": [],
   "source": [
    "preprocess_wide = WidePreprocessor(wide_cols=wide_cols, crossed_cols=cross_cols)\n",
    "X_wide = preprocess_wide.fit_transform(train_df)\n",
    "wide = Wide(wide_dim=np.unique(X_wide).shape[0], pred_dim=1)"
   ]
  },
  {
   "cell_type": "code",
   "execution_count": 24,
   "metadata": {
    "colab": {
     "base_uri": "https://localhost:8080/"
    },
    "executionInfo": {
     "elapsed": 1322,
     "status": "ok",
     "timestamp": 1610010998151,
     "user": {
      "displayName": "Jaewon Fastcampus",
      "photoUrl": "",
      "userId": "05122666633107220130"
     },
     "user_tz": -540
    },
    "id": "GSVqZrynIf2K",
    "outputId": "5f72a776-550d-4b54-d865-9ecf6a3c44da"
   },
   "outputs": [
    {
     "data": {
      "text/plain": [
       "9000"
      ]
     },
     "execution_count": 24,
     "metadata": {
      "tags": []
     },
     "output_type": "execute_result"
    }
   ],
   "source": [
    "X_wide.size"
   ]
  },
  {
   "cell_type": "code",
   "execution_count": 22,
   "metadata": {
    "colab": {
     "base_uri": "https://localhost:8080/"
    },
    "executionInfo": {
     "elapsed": 1575,
     "status": "ok",
     "timestamp": 1610010962693,
     "user": {
      "displayName": "Jaewon Fastcampus",
      "photoUrl": "",
      "userId": "05122666633107220130"
     },
     "user_tz": -540
    },
    "id": "UVb_ktAIIZOg",
    "outputId": "6a4d1bcf-0dc3-42b2-ac78-7db47cf610e7"
   },
   "outputs": [
    {
     "data": {
      "text/plain": [
       "Wide(\n",
       "  (wide_linear): Embedding(29, 1, padding_idx=0)\n",
       ")"
      ]
     },
     "execution_count": 22,
     "metadata": {
      "tags": []
     },
     "output_type": "execute_result"
    }
   ],
   "source": [
    "wide"
   ]
  },
  {
   "cell_type": "markdown",
   "metadata": {
    "id": "C1bSy6Op0tqM"
   },
   "source": [
    "### Deep Component"
   ]
  },
  {
   "cell_type": "code",
   "execution_count": 25,
   "metadata": {
    "executionInfo": {
     "elapsed": 1127,
     "status": "ok",
     "timestamp": 1610011022702,
     "user": {
      "displayName": "Jaewon Fastcampus",
      "photoUrl": "",
      "userId": "05122666633107220130"
     },
     "user_tz": -540
    },
    "id": "c6cZZdeY0brd"
   },
   "outputs": [],
   "source": [
    "preprocess_deep = DensePreprocessor(embed_cols=embed_cols, continuous_cols=continuous_cols)\n",
    "X_deep = preprocess_deep.fit_transform(train_df)\n",
    "deepdense = DeepDense(\n",
    "    hidden_layers=[64, 32],\n",
    "    deep_column_idx=preprocess_deep.deep_column_idx,\n",
    "    embed_input=preprocess_deep.embeddings_input,\n",
    "    continuous_cols=continuous_cols,\n",
    ")"
   ]
  },
  {
   "cell_type": "code",
   "execution_count": 26,
   "metadata": {
    "colab": {
     "base_uri": "https://localhost:8080/"
    },
    "executionInfo": {
     "elapsed": 1339,
     "status": "ok",
     "timestamp": 1610011030110,
     "user": {
      "displayName": "Jaewon Fastcampus",
      "photoUrl": "",
      "userId": "05122666633107220130"
     },
     "user_tz": -540
    },
    "id": "E3Z--ZjTIp8e",
    "outputId": "a53154b2-cf8e-405b-b6f1-690da8f0dc8a"
   },
   "outputs": [
    {
     "data": {
      "text/plain": [
       "DeepDense(\n",
       "  (embed_layers): ModuleDict(\n",
       "    (emb_layer_가족): Embedding(3, 16)\n",
       "    (emb_layer_공포): Embedding(3, 16)\n",
       "    (emb_layer_SF): Embedding(3, 16)\n",
       "  )\n",
       "  (embed_dropout): Dropout(p=0.0, inplace=False)\n",
       "  (dense): Sequential(\n",
       "    (dense_layer_0): Sequential(\n",
       "      (0): Linear(in_features=49, out_features=64, bias=True)\n",
       "      (1): LeakyReLU(negative_slope=0.01, inplace=True)\n",
       "      (2): Dropout(p=0.0, inplace=False)\n",
       "    )\n",
       "    (dense_layer_1): Sequential(\n",
       "      (0): Linear(in_features=64, out_features=32, bias=True)\n",
       "      (1): LeakyReLU(negative_slope=0.01, inplace=True)\n",
       "      (2): Dropout(p=0.0, inplace=False)\n",
       "    )\n",
       "  )\n",
       ")"
      ]
     },
     "execution_count": 26,
     "metadata": {
      "tags": []
     },
     "output_type": "execute_result"
    }
   ],
   "source": [
    "deepdense"
   ]
  },
  {
   "cell_type": "markdown",
   "metadata": {
    "id": "du3Qr-Sj03B8"
   },
   "source": [
    "### Build and Train"
   ]
  },
  {
   "cell_type": "code",
   "execution_count": 27,
   "metadata": {
    "colab": {
     "base_uri": "https://localhost:8080/"
    },
    "executionInfo": {
     "elapsed": 19812,
     "status": "ok",
     "timestamp": 1610011097062,
     "user": {
      "displayName": "Jaewon Fastcampus",
      "photoUrl": "",
      "userId": "05122666633107220130"
     },
     "user_tz": -540
    },
    "id": "kJi2Zv1u02WA",
    "outputId": "952edb79-cee9-4ed0-be53-2e1fec68c53f"
   },
   "outputs": [
    {
     "name": "stderr",
     "output_type": "stream",
     "text": [
      "\r",
      "  0%|          | 0/4 [00:00<?, ?it/s]"
     ]
    },
    {
     "name": "stdout",
     "output_type": "stream",
     "text": [
      "Training\n"
     ]
    },
    {
     "name": "stderr",
     "output_type": "stream",
     "text": [
      "epoch 1: 100%|██████████| 4/4 [00:00<00:00, 10.65it/s, loss=nan, metrics={'acc': 0.1556}]\n",
      "valid: 100%|██████████| 1/1 [00:00<00:00, 15.18it/s, loss=nan, metrics={'acc': 0.14}]\n",
      "epoch 2: 100%|██████████| 4/4 [00:00<00:00, 29.81it/s, loss=nan, metrics={'acc': 0.0}]\n",
      "valid: 100%|██████████| 1/1 [00:00<00:00, 15.34it/s, loss=nan, metrics={'acc': 0.0}]\n",
      "epoch 3: 100%|██████████| 4/4 [00:00<00:00, 30.95it/s, loss=nan, metrics={'acc': 0.0}]\n",
      "valid: 100%|██████████| 1/1 [00:00<00:00, 14.27it/s, loss=nan, metrics={'acc': 0.0}]\n",
      "epoch 4: 100%|██████████| 4/4 [00:00<00:00, 30.49it/s, loss=nan, metrics={'acc': 0.0}]\n",
      "valid: 100%|██████████| 1/1 [00:00<00:00, 14.39it/s, loss=nan, metrics={'acc': 0.0}]\n",
      "epoch 5: 100%|██████████| 4/4 [00:00<00:00, 27.75it/s, loss=nan, metrics={'acc': 0.0}]\n",
      "valid: 100%|██████████| 1/1 [00:00<00:00, 14.39it/s, loss=nan, metrics={'acc': 0.0}]\n"
     ]
    }
   ],
   "source": [
    "# build, compile and fit\n",
    "model = WideDeep(wide=wide, deepdense=deepdense)\n",
    "model.compile(method=\"binary\", metrics=[Accuracy])\n",
    "model.fit(\n",
    "    X_wide=X_wide,\n",
    "    X_deep=X_deep,\n",
    "    target=target,\n",
    "    n_epochs=5,\n",
    "    batch_size=256,\n",
    "    val_split=0.1,\n",
    ")"
   ]
  },
  {
   "cell_type": "code",
   "execution_count": null,
   "metadata": {
    "id": "4ayjDHyR1qou"
   },
   "outputs": [],
   "source": [
    "X_deep.shape"
   ]
  },
  {
   "cell_type": "code",
   "execution_count": null,
   "metadata": {
    "id": "W8AZZQnv8eIt"
   },
   "outputs": [],
   "source": [
    "X_wide.shape"
   ]
  },
  {
   "cell_type": "code",
   "execution_count": null,
   "metadata": {
    "id": "3kTM03Er8fYK"
   },
   "outputs": [],
   "source": []
  }
 ],
 "metadata": {
  "accelerator": "GPU",
  "colab": {
   "authorship_tag": "ABX9TyOKtyV22+n4D1sDXv4B/eje",
   "collapsed_sections": [],
   "name": "01-딥러닝과 추천알고리즘-07-Wide&Deep Learning for Recommender System 실습.ipynb",
   "provenance": [],
   "toc_visible": true
  },
  "kernelspec": {
   "display_name": "Python 3",
   "language": "python",
   "name": "python3"
  },
  "language_info": {
   "codemirror_mode": {
    "name": "ipython",
    "version": 3
   },
   "file_extension": ".py",
   "mimetype": "text/x-python",
   "name": "python",
   "nbconvert_exporter": "python",
   "pygments_lexer": "ipython3",
   "version": "3.8.5"
  },
  "toc": {
   "base_numbering": 1,
   "nav_menu": {},
   "number_sections": true,
   "sideBar": true,
   "skip_h1_title": false,
   "title_cell": "Table of Contents",
   "title_sidebar": "Contents",
   "toc_cell": false,
   "toc_position": {},
   "toc_section_display": true,
   "toc_window_display": false
  }
 },
 "nbformat": 4,
 "nbformat_minor": 1
}
