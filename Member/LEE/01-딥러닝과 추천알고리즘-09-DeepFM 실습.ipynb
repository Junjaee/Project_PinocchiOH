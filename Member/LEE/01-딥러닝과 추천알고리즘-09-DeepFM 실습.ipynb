{
 "cells": [
  {
   "cell_type": "markdown",
   "metadata": {},
   "source": [
    "# DeepFM\n",
    "\n",
    "- 논문\n",
    "  - DeepFM: A Factorization-Machine based Neural Network for CTR Prediction\n",
    "- Tensorflow 구현 버전([링크](https://github.com/shenweichen/DeepCTR))\n",
    "- PyTorch 버전([링크](https://github.com/shenweichen/DeepCTR-Torch))\n",
    "- Factorization Machine 등 다양한 모델을 사용해 볼 수 있는 [torchfm 링크](https://pypi.org/project/torchfm/)"
   ]
  },
  {
   "cell_type": "markdown",
   "metadata": {},
   "source": [
    "## DeepFM : A Factorization-Machine based Neural Network Network for CTR Prediction\n",
    "\n",
    "![deep47](./image/deep47.PNG)\n",
    "\n",
    "* **DeepLearning과 Factorization을 합쳐 놓았다.**\n",
    "    - **Matrix Factorization**과 어떤 차이가 있는가?"
   ]
  },
  {
   "cell_type": "markdown",
   "metadata": {},
   "source": [
    "## Abstract\n",
    "\n",
    "![deep48](./image/deep48.PNG)\n",
    "\n",
    "* **CTR이 높을 수록 고객이 관심이 많다는 것이고, 따라서 CTR이 높은 아이탬을 추천하자!**\n",
    "    - 조금 구체적으로 말하자면, 논문에서는 CTR을 클릭 횟수, **즉, 클릭이 무조건 좋아서 클릭한 것은 아니다!** \n",
    "\n",
    "* Low와 High-order interactions 모두 학슬할 수 있다.\n",
    "    - Deep And Wide 알고리즘도, Wide 부분에서 low interaction을, Deep부분에서 higher interaction을 예측할 수 있는데.\n",
    "    <br><br>\n",
    "    - 그렇다면, **Deep and Wide와 DeepFM은 무슨 차이**가 있을까?\n",
    "        + 추가 feature engineering 없이 raw feature를 그대로 쓸 수 있다.\n",
    "            - **Wide and Deep** : cross feature를 만들어야 함 --> 사람의 도메인지식이 필요하다.\n",
    "                + Wide(low interaction)부분에서 feature engineering이 필요하다.\n",
    "            - **DeepFM**\n",
    "                + FM(low interaction) 부분에서 feature engineering이 필요없다.\n",
    "    "
   ]
  },
  {
   "cell_type": "markdown",
   "metadata": {},
   "source": [
    "## Introduction (1)\n",
    "\n",
    "![deep49](./image/deep49.PNG)"
   ]
  },
  {
   "cell_type": "markdown",
   "metadata": {},
   "source": [
    "## Introduction (2) : 현재까지 추천알고리즘 연구 정리\n",
    "\n",
    "![deep50](./image/deep50.PNG)\n",
    "\n",
    "* **Generalized Linear Model**\n",
    "    - ex) **Matrix Factorization** : **High order feature interaction을 반영하기 어렵다.**\n",
    "  \n",
    "\n",
    "* **feature engineering이 필요 없고, Low와 high-order 모두 가능한 모델을 만들고 싶어서 제작!!**"
   ]
  },
  {
   "cell_type": "markdown",
   "metadata": {},
   "source": [
    "## Contributions\n",
    "\n",
    "![deep51](./image/deep51.PNG)\n",
    "\n",
    "* Low-order, High-order 학습 가능\n",
    "* 효율적인 학습!"
   ]
  },
  {
   "cell_type": "markdown",
   "metadata": {},
   "source": [
    "## Our Approach\n",
    "\n",
    "![deep52](./image/deep52.PNG)\n",
    "\n",
    "* Input data(Sparse Feature)와 Dense Embedding을 공유한다.\n",
    "* FM Layer과 Hidden Layer를 동시에 학습하고 Output을 출력한다."
   ]
  },
  {
   "cell_type": "markdown",
   "metadata": {},
   "source": [
    "## DeepFM\n",
    "\n",
    "![deep53](./image/deep53.PNG)"
   ]
  },
  {
   "cell_type": "markdown",
   "metadata": {},
   "source": [
    "## FM Component의 핵심\n",
    "\n",
    "![deep54](./image/deep54.PNG)"
   ]
  },
  {
   "cell_type": "markdown",
   "metadata": {},
   "source": [
    "## Deep Component\n",
    "\n",
    "![deep55](./image/deep55.PNG)"
   ]
  },
  {
   "cell_type": "markdown",
   "metadata": {},
   "source": [
    "## Relationship with the other Neural Networks\n",
    "\n",
    "![deep56](./image/deep56.PNG)"
   ]
  },
  {
   "cell_type": "markdown",
   "metadata": {},
   "source": [
    "## Experiments\n",
    "\n",
    "![deep57](./image/deep57.PNG)"
   ]
  },
  {
   "cell_type": "markdown",
   "metadata": {},
   "source": [
    "## Efficiency Comparison\n",
    "\n",
    "![deep58](./image/deep58.PNG)"
   ]
  },
  {
   "cell_type": "markdown",
   "metadata": {},
   "source": [
    "## Effictiveness Comparison\n",
    "\n",
    "![deep59](./image/deep59.PNG)"
   ]
  },
  {
   "cell_type": "markdown",
   "metadata": {},
   "source": [
    "## Hyper-Parameter Study - (1) (Project)할때 생각해보자\n",
    "\n",
    "![deep60](./image/deep60.PNG)"
   ]
  },
  {
   "cell_type": "markdown",
   "metadata": {},
   "source": [
    "## Hyper-Parameter Study - (2)  \n",
    "\n",
    "![deep61](./image/deep61.PNG)"
   ]
  },
  {
   "cell_type": "markdown",
   "metadata": {},
   "source": [
    "## Conclusions\n",
    "\n",
    "![deep62](./image/deep62.PNG)"
   ]
  },
  {
   "cell_type": "markdown",
   "metadata": {
    "id": "dAvS-wEB2fOl"
   },
   "source": [
    "# [실습] DeepFM\n",
    "\n",
    "- 논문\n",
    "  - DeepFM: A Factorization-Machine based Neural Network for CTR Prediction\n",
    "- Tensorflow 구현 버전([링크](https://github.com/shenweichen/DeepCTR))\n",
    "- PyTorch 버전([링크](https://github.com/shenweichen/DeepCTR-Torch))\n",
    "- Factorization Machine 등 다양한 모델을 사용해 볼 수 있는 [torchfm 링크](https://pypi.org/project/torchfm/)"
   ]
  },
  {
   "cell_type": "markdown",
   "metadata": {
    "id": "Kd30RLIrERU3"
   },
   "source": [
    "## torchfm\n",
    "\n",
    "- `pip install torchfm`으로 바로 설치할 수 있다\n",
    "- DeepFM 구현을 위한 모듈은 아래와 같이 정리할 수 있다"
   ]
  },
  {
   "cell_type": "code",
   "execution_count": null,
   "metadata": {
    "id": "y9E9e07zztNA"
   },
   "outputs": [],
   "source": [
    "# !pip install torchfm"
   ]
  },
  {
   "cell_type": "code",
   "execution_count": 1,
   "metadata": {
    "executionInfo": {
     "elapsed": 5706,
     "status": "ok",
     "timestamp": 1610357911438,
     "user": {
      "displayName": "Jaewon Fastcampus",
      "photoUrl": "",
      "userId": "05122666633107220130"
     },
     "user_tz": -540
    },
    "id": "xbQ4DPF7E02D"
   },
   "outputs": [
    {
     "name": "stderr",
     "output_type": "stream",
     "text": [
      "C:\\Anaconda3\\lib\\site-packages\\numpy\\_distributor_init.py:30: UserWarning: loaded more than 1 DLL from .libs:\n",
      "C:\\Anaconda3\\lib\\site-packages\\numpy\\.libs\\libopenblas.PYQHXLVVQ7VESDPUVUADXEVJOBGHJPAY.gfortran-win_amd64.dll\n",
      "C:\\Anaconda3\\lib\\site-packages\\numpy\\.libs\\libopenblas.WCDJNK7YVMPZQ2ME2ZZHJJRJ3JIKNDB7.gfortran-win_amd64.dll\n",
      "  warnings.warn(\"loaded more than 1 DLL from .libs:\"\n"
     ]
    }
   ],
   "source": [
    "import numpy as np\n",
    "import torch\n",
    "import torch.nn.functional as F"
   ]
  },
  {
   "cell_type": "code",
   "execution_count": 2,
   "metadata": {
    "executionInfo": {
     "elapsed": 963,
     "status": "ok",
     "timestamp": 1610358471179,
     "user": {
      "displayName": "Jaewon Fastcampus",
      "photoUrl": "",
      "userId": "05122666633107220130"
     },
     "user_tz": -540
    },
    "id": "OM_EmXQuEndB"
   },
   "outputs": [],
   "source": [
    "class FeaturesLinear(torch.nn.Module):\n",
    "\n",
    "    def __init__(self, field_dims, output_dim=1):\n",
    "        super().__init__()\n",
    "        self.fc = torch.nn.Embedding(sum(field_dims), output_dim)\n",
    "        self.bias = torch.nn.Parameter(torch.zeros((output_dim,)))\n",
    "        self.offsets = np.array((0, *np.cumsum(field_dims)[:-1]), dtype=np.long)\n",
    "\n",
    "    def forward(self, x):\n",
    "        \"\"\"\n",
    "        :param x: Long tensor of size ``(batch_size, num_fields)``\n",
    "        \"\"\"\n",
    "        x = x + x.new_tensor(self.offsets).unsqueeze(0)\n",
    "        return torch.sum(self.fc(x), dim=1) + self.bias\n",
    "\n",
    "\n",
    "class FeaturesEmbedding(torch.nn.Module):\n",
    "\n",
    "    def __init__(self, field_dims, embed_dim):\n",
    "        super().__init__()\n",
    "        self.embedding = torch.nn.Embedding(sum(field_dims), embed_dim)\n",
    "        self.offsets = np.array((0, *np.cumsum(field_dims)[:-1]), dtype=np.long)\n",
    "        torch.nn.init.xavier_uniform_(self.embedding.weight.data)\n",
    "\n",
    "    def forward(self, x):\n",
    "        \"\"\"\n",
    "        :param x: Long tensor of size ``(batch_size, num_fields)``\n",
    "        \"\"\"\n",
    "        x = x + x.new_tensor(self.offsets).unsqueeze(0)\n",
    "        return self.embedding(x)\n",
    "\n",
    "\n",
    "class FactorizationMachine(torch.nn.Module):\n",
    "\n",
    "    def __init__(self, reduce_sum=True):\n",
    "        super().__init__()\n",
    "        self.reduce_sum = reduce_sum\n",
    "\n",
    "    def forward(self, x):\n",
    "        \"\"\"\n",
    "        :param x: Float tensor of size ``(batch_size, num_fields, embed_dim)``\n",
    "        \"\"\"\n",
    "        square_of_sum = torch.sum(x, dim=1) ** 2\n",
    "        sum_of_square = torch.sum(x ** 2, dim=1)\n",
    "        ix = square_of_sum - sum_of_square\n",
    "        if self.reduce_sum:\n",
    "            ix = torch.sum(ix, dim=1, keepdim=True)\n",
    "        return 0.5 * ix\n",
    "\n",
    "\n",
    "class MultiLayerPerceptron(torch.nn.Module):\n",
    "\n",
    "    def __init__(self, input_dim, embed_dims, dropout, output_layer=True):\n",
    "        super().__init__()\n",
    "        layers = list()\n",
    "        for embed_dim in embed_dims:\n",
    "            layers.append(torch.nn.Linear(input_dim, embed_dim))\n",
    "            layers.append(torch.nn.BatchNorm1d(embed_dim))\n",
    "            layers.append(torch.nn.ReLU())\n",
    "            layers.append(torch.nn.Dropout(p=dropout))\n",
    "            input_dim = embed_dim\n",
    "        if output_layer:\n",
    "            layers.append(torch.nn.Linear(input_dim, 1))\n",
    "        self.mlp = torch.nn.Sequential(*layers)\n",
    "\n",
    "    def forward(self, x):\n",
    "        \"\"\"\n",
    "        :param x: Float tensor of size ``(batch_size, embed_dim)``\n",
    "        \"\"\"\n",
    "        return self.mlp(x)\n"
   ]
  },
  {
   "cell_type": "code",
   "execution_count": 3,
   "metadata": {
    "executionInfo": {
     "elapsed": 1019,
     "status": "ok",
     "timestamp": 1610358474568,
     "user": {
      "displayName": "Jaewon Fastcampus",
      "photoUrl": "",
      "userId": "05122666633107220130"
     },
     "user_tz": -540
    },
    "id": "V3NzqC7p2sj_"
   },
   "outputs": [],
   "source": [
    "class DeepFactorizationMachineModel(torch.nn.Module):\n",
    "    \"\"\"\n",
    "    A pytorch implementation of DeepFM.\n",
    "\n",
    "    Reference:\n",
    "        H Guo, et al. DeepFM: A Factorization-Machine based Neural Network for CTR Prediction, 2017.\n",
    "    \"\"\"\n",
    "\n",
    "    def __init__(self, field_dims, embed_dim, mlp_dims, dropout):\n",
    "        super().__init__()\n",
    "        self.linear = FeaturesLinear(field_dims)\n",
    "        self.fm = FactorizationMachine(reduce_sum=True)\n",
    "        self.embedding = FeaturesEmbedding(field_dims, embed_dim)\n",
    "        self.embed_output_dim = len(field_dims) * embed_dim\n",
    "        self.mlp = MultiLayerPerceptron(self.embed_output_dim, mlp_dims, dropout)\n",
    "\n",
    "    def forward(self, x):\n",
    "        \"\"\"\n",
    "        :param x: Long tensor of size ``(batch_size, num_fields)``\n",
    "        \"\"\"\n",
    "        embed_x = self.embedding(x)\n",
    "        x = self.linear(x) + self.fm(embed_x) + self.mlp(embed_x.view(-1, self.embed_output_dim))\n",
    "        return torch.sigmoid(x.squeeze(1))"
   ]
  },
  {
   "cell_type": "markdown",
   "metadata": {
    "id": "_2sagG2EQOk6"
   },
   "source": [
    "## Load dataset and Train model"
   ]
  },
  {
   "cell_type": "code",
   "execution_count": 4,
   "metadata": {
    "colab": {
     "base_uri": "https://localhost:8080/"
    },
    "executionInfo": {
     "elapsed": 21672,
     "status": "ok",
     "timestamp": 1610358536008,
     "user": {
      "displayName": "Jaewon Fastcampus",
      "photoUrl": "",
      "userId": "05122666633107220130"
     },
     "user_tz": -540
    },
    "id": "IQakrwjdGUwW",
    "outputId": "7a654215-84f8-40c2-dd97-0f05c8525480"
   },
   "outputs": [
    {
     "name": "stdout",
     "output_type": "stream",
     "text": [
      "Mounted at /content/drive\n"
     ]
    }
   ],
   "source": [
    "from google.colab import drive\n",
    "drive.mount('/content/drive')\n",
    "data_path = '/content/drive/MyDrive/data/kmrd/kmr_dataset/datafile/kmrd-small'"
   ]
  },
  {
   "cell_type": "code",
   "execution_count": 5,
   "metadata": {
    "executionInfo": {
     "elapsed": 967,
     "status": "ok",
     "timestamp": 1610358678203,
     "user": {
      "displayName": "Jaewon Fastcampus",
      "photoUrl": "",
      "userId": "05122666633107220130"
     },
     "user_tz": -540
    },
    "id": "CYKa_udzHZVp"
   },
   "outputs": [],
   "source": [
    "import torch.utils.data\n",
    "\n",
    "class KMRDDataset(torch.utils.data.Dataset):\n",
    "    def __init__(self, data_path):\n",
    "        data = pd.read_csv(os.path.join(data_path,'rates.csv'))[:10000]\n",
    "        \n",
    "        user_to_index = {original: idx for idx, original in enumerate(data.user.unique())}\n",
    "        movie_to_index = {original: idx for idx, original in enumerate(data.movie.unique())}\n",
    "        data['user'] = data['user'].apply(lambda x: user_to_index[x])\n",
    "        data['movie'] = data['movie'].apply(lambda x: movie_to_index[x])\n",
    "        # [user, movie, rate] -> (user, movie, rate)\n",
    "        data = data.to_numpy()[:, :3]\n",
    "\n",
    "        self.items = data[:, :2].astype(np.int)  # -1 because ID begins from 1\n",
    "        self.targets = self.__preprocess_target(data[:, 2]).astype(np.float32)\n",
    "        self.field_dims = np.max(self.items, axis=0) + 1\n",
    "        self.user_field_idx = np.array((0, ), dtype=np.long)\n",
    "        self.item_field_idx = np.array((1,), dtype=np.long)\n",
    "\n",
    "    def __len__(self):\n",
    "        return self.targets.shape[0]\n",
    "\n",
    "    def __getitem__(self, index):\n",
    "        return self.items[index], self.targets[index]\n",
    "\n",
    "    def __preprocess_target(self, target):\n",
    "        target[target <= 9] = 0\n",
    "        target[target > 9] = 1\n",
    "        return target"
   ]
  },
  {
   "cell_type": "code",
   "execution_count": 13,
   "metadata": {
    "executionInfo": {
     "elapsed": 976,
     "status": "ok",
     "timestamp": 1610358818940,
     "user": {
      "displayName": "Jaewon Fastcampus",
      "photoUrl": "",
      "userId": "05122666633107220130"
     },
     "user_tz": -540
    },
    "id": "Bc7BPdWLMX1W"
   },
   "outputs": [],
   "source": [
    "import pandas as pd\n",
    "import os\n",
    "dataset = KMRDDataset(data_path=data_path)"
   ]
  },
  {
   "cell_type": "code",
   "execution_count": 14,
   "metadata": {
    "colab": {
     "base_uri": "https://localhost:8080/"
    },
    "executionInfo": {
     "elapsed": 1029,
     "status": "ok",
     "timestamp": 1610358840476,
     "user": {
      "displayName": "Jaewon Fastcampus",
      "photoUrl": "",
      "userId": "05122666633107220130"
     },
     "user_tz": -540
    },
    "id": "asYnq1yrS7u9",
    "outputId": "dc714482-7ca8-4944-b994-b30c2bdd9766",
    "scrolled": true
   },
   "outputs": [
    {
     "name": "stdout",
     "output_type": "stream",
     "text": [
      "[1]\n",
      "[466 532]\n",
      "998\n",
      "Embedding(998, 16)\n",
      "Parameter containing:\n",
      "tensor([0.], requires_grad=True)\n",
      "[  0 466]\n"
     ]
    }
   ],
   "source": [
    "print(dataset.item_field_idx)\n",
    "print(dataset.field_dims)\n",
    "print(sum(dataset.field_dims))\n",
    "print(torch.nn.Embedding(sum(dataset.field_dims), 16))\n",
    "print(torch.nn.Parameter(torch.zeros((1,))))\n",
    "print(np.array((0, *np.cumsum(dataset.field_dims)[:-1]), dtype=np.long))"
   ]
  },
  {
   "cell_type": "code",
   "execution_count": 15,
   "metadata": {
    "executionInfo": {
     "elapsed": 1215,
     "status": "ok",
     "timestamp": 1610358921545,
     "user": {
      "displayName": "Jaewon Fastcampus",
      "photoUrl": "",
      "userId": "05122666633107220130"
     },
     "user_tz": -540
    },
    "id": "AQ4C58vWMii8"
   },
   "outputs": [],
   "source": [
    "train_length = int(len(dataset) * 0.8)\n",
    "valid_length = int(len(dataset) * 0.1)\n",
    "test_length = len(dataset) - train_length - valid_length\n",
    "train_dataset, valid_dataset, test_dataset = torch.utils.data.random_split(\n",
    "    dataset, (train_length, valid_length, test_length))"
   ]
  },
  {
   "cell_type": "code",
   "execution_count": 16,
   "metadata": {
    "executionInfo": {
     "elapsed": 1083,
     "status": "ok",
     "timestamp": 1610359010329,
     "user": {
      "displayName": "Jaewon Fastcampus",
      "photoUrl": "",
      "userId": "05122666633107220130"
     },
     "user_tz": -540
    },
    "id": "we2zGR11MkPK"
   },
   "outputs": [],
   "source": [
    "from torch.utils.data import DataLoader\n",
    "\n",
    "train_data_loader = DataLoader(train_dataset, batch_size=16)\n",
    "valid_data_loader = DataLoader(valid_dataset, batch_size=16)\n",
    "test_data_loader = DataLoader(test_dataset, batch_size=1)"
   ]
  },
  {
   "cell_type": "code",
   "execution_count": 17,
   "metadata": {
    "colab": {
     "base_uri": "https://localhost:8080/"
    },
    "executionInfo": {
     "elapsed": 827,
     "status": "ok",
     "timestamp": 1610359017701,
     "user": {
      "displayName": "Jaewon Fastcampus",
      "photoUrl": "",
      "userId": "05122666633107220130"
     },
     "user_tz": -540
    },
    "id": "_XXc6KdzPycr",
    "outputId": "08e974fa-9a56-4193-8fb4-bc9846d32ad1"
   },
   "outputs": [
    {
     "name": "stdout",
     "output_type": "stream",
     "text": [
      "[[  0   0]\n",
      " [  0   1]\n",
      " [  0   2]\n",
      " ...\n",
      " [465  15]\n",
      " [465  15]\n",
      " [465 338]]\n",
      "[0. 0. 0. ... 0. 0. 0.]\n"
     ]
    }
   ],
   "source": [
    "print(dataset.items)\n",
    "print(dataset.targets)"
   ]
  },
  {
   "cell_type": "code",
   "execution_count": 18,
   "metadata": {
    "colab": {
     "base_uri": "https://localhost:8080/"
    },
    "executionInfo": {
     "elapsed": 1071,
     "status": "ok",
     "timestamp": 1610359075972,
     "user": {
      "displayName": "Jaewon Fastcampus",
      "photoUrl": "",
      "userId": "05122666633107220130"
     },
     "user_tz": -540
    },
    "id": "uiODQsxfIUwM",
    "outputId": "1c2696e7-dc74-46a0-bdc7-dff4207a631e"
   },
   "outputs": [
    {
     "data": {
      "text/plain": [
       "DeepFactorizationMachineModel(\n",
       "  (linear): FeaturesLinear(\n",
       "    (fc): Embedding(998, 1)\n",
       "  )\n",
       "  (fm): FactorizationMachine()\n",
       "  (embedding): FeaturesEmbedding(\n",
       "    (embedding): Embedding(998, 16)\n",
       "  )\n",
       "  (mlp): MultiLayerPerceptron(\n",
       "    (mlp): Sequential(\n",
       "      (0): Linear(in_features=32, out_features=16, bias=True)\n",
       "      (1): BatchNorm1d(16, eps=1e-05, momentum=0.1, affine=True, track_running_stats=True)\n",
       "      (2): ReLU()\n",
       "      (3): Dropout(p=0.2, inplace=False)\n",
       "      (4): Linear(in_features=16, out_features=16, bias=True)\n",
       "      (5): BatchNorm1d(16, eps=1e-05, momentum=0.1, affine=True, track_running_stats=True)\n",
       "      (6): ReLU()\n",
       "      (7): Dropout(p=0.2, inplace=False)\n",
       "      (8): Linear(in_features=16, out_features=1, bias=True)\n",
       "    )\n",
       "  )\n",
       ")"
      ]
     },
     "execution_count": 18,
     "metadata": {
      "tags": []
     },
     "output_type": "execute_result"
    }
   ],
   "source": [
    "model = DeepFactorizationMachineModel(dataset.field_dims, embed_dim=16, mlp_dims=(16, 16), dropout=0.2)\n",
    "model"
   ]
  },
  {
   "cell_type": "code",
   "execution_count": 19,
   "metadata": {
    "executionInfo": {
     "elapsed": 976,
     "status": "ok",
     "timestamp": 1610359125731,
     "user": {
      "displayName": "Jaewon Fastcampus",
      "photoUrl": "",
      "userId": "05122666633107220130"
     },
     "user_tz": -540
    },
    "id": "ScU73hwYLtww"
   },
   "outputs": [],
   "source": [
    "criterion = torch.nn.BCELoss()\n",
    "optimizer = torch.optim.Adam(params=model.parameters(), lr=0.001, weight_decay=1e-6)"
   ]
  },
  {
   "cell_type": "code",
   "execution_count": 20,
   "metadata": {
    "colab": {
     "base_uri": "https://localhost:8080/"
    },
    "executionInfo": {
     "elapsed": 3168,
     "status": "ok",
     "timestamp": 1610359206945,
     "user": {
      "displayName": "Jaewon Fastcampus",
      "photoUrl": "",
      "userId": "05122666633107220130"
     },
     "user_tz": -540
    },
    "id": "MeIvkWAeMywi",
    "outputId": "607f1f54-a39f-42f7-ab86-fdad4cfd9b57"
   },
   "outputs": [
    {
     "name": "stderr",
     "output_type": "stream",
     "text": [
      "100%|██████████| 500/500 [00:01<00:00, 314.28it/s, loss=0.601]\n"
     ]
    }
   ],
   "source": [
    "import tqdm\n",
    "log_interval = 100\n",
    "\n",
    "model.train()\n",
    "total_loss = 0\n",
    "tk0 = tqdm.tqdm(train_data_loader, smoothing=0, mininterval=1.0)\n",
    "for i, (fields, target) in enumerate(tk0):\n",
    "    # fields, target = fields.to(device), target.to(device)\n",
    "    y = model(fields)\n",
    "    loss = criterion(y, target.float())\n",
    "    model.zero_grad()\n",
    "    loss.backward()\n",
    "    optimizer.step()\n",
    "    total_loss += loss.item()\n",
    "    if (i + 1) % log_interval == 0:\n",
    "        tk0.set_postfix(loss=total_loss / log_interval)\n",
    "        total_loss = 0"
   ]
  },
  {
   "cell_type": "code",
   "execution_count": null,
   "metadata": {
    "id": "niSkSJcH42dr"
   },
   "outputs": [],
   "source": []
  }
 ],
 "metadata": {
  "accelerator": "GPU",
  "colab": {
   "authorship_tag": "ABX9TyOnO6UzlaxOMZLr+ntQArcs",
   "collapsed_sections": [],
   "name": "01-딥러닝과 추천알고리즘-09-DeepFM 실습.ipynb",
   "provenance": [],
   "toc_visible": true
  },
  "kernelspec": {
   "display_name": "Python 3",
   "language": "python",
   "name": "python3"
  },
  "language_info": {
   "codemirror_mode": {
    "name": "ipython",
    "version": 3
   },
   "file_extension": ".py",
   "mimetype": "text/x-python",
   "name": "python",
   "nbconvert_exporter": "python",
   "pygments_lexer": "ipython3",
   "version": "3.8.5"
  },
  "toc": {
   "base_numbering": 1,
   "nav_menu": {},
   "number_sections": true,
   "sideBar": true,
   "skip_h1_title": false,
   "title_cell": "Table of Contents",
   "title_sidebar": "Contents",
   "toc_cell": false,
   "toc_position": {},
   "toc_section_display": true,
   "toc_window_display": false
  }
 },
 "nbformat": 4,
 "nbformat_minor": 1
}
