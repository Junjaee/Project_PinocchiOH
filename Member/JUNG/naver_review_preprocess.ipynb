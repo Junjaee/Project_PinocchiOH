{
 "cells": [
  {
   "cell_type": "code",
   "execution_count": 19,
   "metadata": {},
   "outputs": [],
   "source": [
    "from wordcloud import WordCloud \n",
    "import matplotlib.pyplot as plt \n",
    "import nltk \n",
    "from nltk.corpus import stopwords\n",
    "import numpy as np\n",
    "import pandas as pd\n",
    "import matplotlib.pyplot as plt\n",
    "\n",
    "import matplotlib as mpl #->한글 깨지는 거때매 추가하는거\n",
    "import matplotlib.font_manager as fm  #-> 폰트 지정가능\n",
    "\n",
    "import seaborn as sns\n",
    "\n",
    "\n",
    "# 한글 설정\n",
    "import matplotlib as mpl\n",
    "mpl.rc('font', family='AppleGothic')\n",
    "plt.rcParams['axes.unicode_minus'] = False \n",
    "\n",
    "import time\n",
    "from tqdm import tqdm_notebook"
   ]
  },
  {
   "cell_type": "code",
   "execution_count": 22,
   "metadata": {},
   "outputs": [],
   "source": [
    "data_1 = pd.read_csv('naver_movie_review_data_part_1.csv')"
   ]
  },
  {
   "cell_type": "code",
   "execution_count": 21,
   "metadata": {
    "scrolled": true
   },
   "outputs": [],
   "source": [
    "data_2 = pd.read_csv('naver_movie_review_data_part_2.csv')"
   ]
  },
  {
   "cell_type": "code",
   "execution_count": 23,
   "metadata": {},
   "outputs": [
    {
     "name": "stdout",
     "output_type": "stream",
     "text": [
      "                 영화제목       아이디  평점  \\\n",
      "0                모가디슈  g515****  10   \n",
      "1                새콤달콤  qzpl****   8   \n",
      "2                 차인표  arch****  10   \n",
      "3     분노의 질주: 더 얼티메이트  ehuh****   2   \n",
      "4            나의 붉은 고래  dxko****   4   \n",
      "...               ...       ...  ..   \n",
      "5005           블랙 위도우  star****  10   \n",
      "5006               황해  qkqh****  10   \n",
      "5007          나이브스 아웃  whdd****   8   \n",
      "5008        레디 플레이어 원  dong****  10   \n",
      "5009             문라이트  airk****   8   \n",
      "\n",
      "                                                     댓글  \n",
      "0                 진짜  재밌게봤어요 오랜만에  영화다운 영화본기분이였어요 최고입니다  \n",
      "1         이 영화는 반전이 했다 ㅋㅋㅋ 소소하게 보기 좋네요 장기용 얼굴이 제일 재밋긴해요  \n",
      "2                        차인표씨를 다시 보게하는 영화..간만에 많이 웃었네요.  \n",
      "3     정말 진짜 안드로메다로 가는구나점점 개연성도 없고갑자기 남동생은 왜 나와 이야기 이...  \n",
      "4                               지가 원하면 해야하네 , 게 민폐 소녀 네  \n",
      "...                                                 ...  \n",
      "5005                      돌아와요 블랙위도우 코로나때문에 관객수 안타깝....  \n",
      "5006                                      굿 평점이 너무 낮네요ㄴ  \n",
      "5007                        추리소설 읽은 느낌의 영화. 깔끔한 결말이 좋았음  \n",
      "5008       저런 세상이 올려면 인간이 뇌를 컨트롤 할 수 있어야 하겠지? 이번생에는 글렀군  \n",
      "5009                              어두운곳에서 아주 작은 빛은 아름답다.  \n",
      "\n",
      "[10010 rows x 4 columns]\n"
     ]
    }
   ],
   "source": [
    "result = pd.concat([data_1,data_2])\n",
    "print(result)"
   ]
  },
  {
   "cell_type": "code",
   "execution_count": 26,
   "metadata": {},
   "outputs": [
    {
     "data": {
      "text/html": [
       "<div>\n",
       "<style scoped>\n",
       "    .dataframe tbody tr th:only-of-type {\n",
       "        vertical-align: middle;\n",
       "    }\n",
       "\n",
       "    .dataframe tbody tr th {\n",
       "        vertical-align: top;\n",
       "    }\n",
       "\n",
       "    .dataframe thead th {\n",
       "        text-align: right;\n",
       "    }\n",
       "</style>\n",
       "<table border=\"1\" class=\"dataframe\">\n",
       "  <thead>\n",
       "    <tr style=\"text-align: right;\">\n",
       "      <th></th>\n",
       "      <th>영화제목</th>\n",
       "      <th>아이디</th>\n",
       "      <th>평점</th>\n",
       "      <th>댓글</th>\n",
       "    </tr>\n",
       "  </thead>\n",
       "  <tbody>\n",
       "    <tr>\n",
       "      <th>0</th>\n",
       "      <td>모가디슈</td>\n",
       "      <td>g515****</td>\n",
       "      <td>10</td>\n",
       "      <td>진짜  재밌게봤어요 오랜만에  영화다운 영화본기분이였어요 최고입니다</td>\n",
       "    </tr>\n",
       "    <tr>\n",
       "      <th>1</th>\n",
       "      <td>새콤달콤</td>\n",
       "      <td>qzpl****</td>\n",
       "      <td>8</td>\n",
       "      <td>이 영화는 반전이 했다 ㅋㅋㅋ 소소하게 보기 좋네요 장기용 얼굴이 제일 재밋긴해요</td>\n",
       "    </tr>\n",
       "    <tr>\n",
       "      <th>2</th>\n",
       "      <td>차인표</td>\n",
       "      <td>arch****</td>\n",
       "      <td>10</td>\n",
       "      <td>차인표씨를 다시 보게하는 영화..간만에 많이 웃었네요.</td>\n",
       "    </tr>\n",
       "    <tr>\n",
       "      <th>3</th>\n",
       "      <td>분노의 질주: 더 얼티메이트</td>\n",
       "      <td>ehuh****</td>\n",
       "      <td>2</td>\n",
       "      <td>정말 진짜 안드로메다로 가는구나점점 개연성도 없고갑자기 남동생은 왜 나와 이야기 이...</td>\n",
       "    </tr>\n",
       "    <tr>\n",
       "      <th>4</th>\n",
       "      <td>나의 붉은 고래</td>\n",
       "      <td>dxko****</td>\n",
       "      <td>4</td>\n",
       "      <td>지가 원하면 해야하네 , 게 민폐 소녀 네</td>\n",
       "    </tr>\n",
       "    <tr>\n",
       "      <th>...</th>\n",
       "      <td>...</td>\n",
       "      <td>...</td>\n",
       "      <td>...</td>\n",
       "      <td>...</td>\n",
       "    </tr>\n",
       "    <tr>\n",
       "      <th>5005</th>\n",
       "      <td>블랙 위도우</td>\n",
       "      <td>star****</td>\n",
       "      <td>10</td>\n",
       "      <td>돌아와요 블랙위도우 코로나때문에 관객수 안타깝....</td>\n",
       "    </tr>\n",
       "    <tr>\n",
       "      <th>5006</th>\n",
       "      <td>황해</td>\n",
       "      <td>qkqh****</td>\n",
       "      <td>10</td>\n",
       "      <td>굿 평점이 너무 낮네요ㄴ</td>\n",
       "    </tr>\n",
       "    <tr>\n",
       "      <th>5007</th>\n",
       "      <td>나이브스 아웃</td>\n",
       "      <td>whdd****</td>\n",
       "      <td>8</td>\n",
       "      <td>추리소설 읽은 느낌의 영화. 깔끔한 결말이 좋았음</td>\n",
       "    </tr>\n",
       "    <tr>\n",
       "      <th>5008</th>\n",
       "      <td>레디 플레이어 원</td>\n",
       "      <td>dong****</td>\n",
       "      <td>10</td>\n",
       "      <td>저런 세상이 올려면 인간이 뇌를 컨트롤 할 수 있어야 하겠지? 이번생에는 글렀군</td>\n",
       "    </tr>\n",
       "    <tr>\n",
       "      <th>5009</th>\n",
       "      <td>문라이트</td>\n",
       "      <td>airk****</td>\n",
       "      <td>8</td>\n",
       "      <td>어두운곳에서 아주 작은 빛은 아름답다.</td>\n",
       "    </tr>\n",
       "  </tbody>\n",
       "</table>\n",
       "<p>10010 rows × 4 columns</p>\n",
       "</div>"
      ],
      "text/plain": [
       "                 영화제목       아이디  평점  \\\n",
       "0                모가디슈  g515****  10   \n",
       "1                새콤달콤  qzpl****   8   \n",
       "2                 차인표  arch****  10   \n",
       "3     분노의 질주: 더 얼티메이트  ehuh****   2   \n",
       "4            나의 붉은 고래  dxko****   4   \n",
       "...               ...       ...  ..   \n",
       "5005           블랙 위도우  star****  10   \n",
       "5006               황해  qkqh****  10   \n",
       "5007          나이브스 아웃  whdd****   8   \n",
       "5008        레디 플레이어 원  dong****  10   \n",
       "5009             문라이트  airk****   8   \n",
       "\n",
       "                                                     댓글  \n",
       "0                 진짜  재밌게봤어요 오랜만에  영화다운 영화본기분이였어요 최고입니다  \n",
       "1         이 영화는 반전이 했다 ㅋㅋㅋ 소소하게 보기 좋네요 장기용 얼굴이 제일 재밋긴해요  \n",
       "2                        차인표씨를 다시 보게하는 영화..간만에 많이 웃었네요.  \n",
       "3     정말 진짜 안드로메다로 가는구나점점 개연성도 없고갑자기 남동생은 왜 나와 이야기 이...  \n",
       "4                               지가 원하면 해야하네 , 게 민폐 소녀 네  \n",
       "...                                                 ...  \n",
       "5005                      돌아와요 블랙위도우 코로나때문에 관객수 안타깝....  \n",
       "5006                                      굿 평점이 너무 낮네요ㄴ  \n",
       "5007                        추리소설 읽은 느낌의 영화. 깔끔한 결말이 좋았음  \n",
       "5008       저런 세상이 올려면 인간이 뇌를 컨트롤 할 수 있어야 하겠지? 이번생에는 글렀군  \n",
       "5009                              어두운곳에서 아주 작은 빛은 아름답다.  \n",
       "\n",
       "[10010 rows x 4 columns]"
      ]
     },
     "execution_count": 26,
     "metadata": {},
     "output_type": "execute_result"
    }
   ],
   "source": [
    "result=pd.DataFrame(result)\n",
    "result"
   ]
  },
  {
   "cell_type": "code",
   "execution_count": 35,
   "metadata": {},
   "outputs": [
    {
     "data": {
      "text/plain": [
       "<bound method Series.unique of 0       g515****\n",
       "1       qzpl****\n",
       "2       arch****\n",
       "3       ehuh****\n",
       "4       dxko****\n",
       "          ...   \n",
       "5005    star****\n",
       "5006    qkqh****\n",
       "5007    whdd****\n",
       "5008    dong****\n",
       "5009    airk****\n",
       "Name: 아이디, Length: 10010, dtype: object>"
      ]
     },
     "execution_count": 35,
     "metadata": {},
     "output_type": "execute_result"
    }
   ],
   "source": [
    "result[\"아이디\"].unique"
   ]
  },
  {
   "cell_type": "code",
   "execution_count": 30,
   "metadata": {},
   "outputs": [
    {
     "ename": "AttributeError",
     "evalue": "'numpy.ndarray' object has no attribute 'head'",
     "output_type": "error",
     "traceback": [
      "\u001b[0;31m---------------------------------------------------------------------------\u001b[0m",
      "\u001b[0;31mAttributeError\u001b[0m                            Traceback (most recent call last)",
      "\u001b[0;32m<ipython-input-30-ae8b592ab450>\u001b[0m in \u001b[0;36m<module>\u001b[0;34m\u001b[0m\n\u001b[0;32m----> 1\u001b[0;31m \u001b[0ma\u001b[0m\u001b[0;34m.\u001b[0m\u001b[0mhead\u001b[0m\u001b[0;34m(\u001b[0m\u001b[0;36m100\u001b[0m\u001b[0;34m)\u001b[0m\u001b[0;34m\u001b[0m\u001b[0;34m\u001b[0m\u001b[0m\n\u001b[0m",
      "\u001b[0;31mAttributeError\u001b[0m: 'numpy.ndarray' object has no attribute 'head'"
     ]
    }
   ],
   "source": []
  },
  {
   "cell_type": "code",
   "execution_count": null,
   "metadata": {},
   "outputs": [],
   "source": []
  }
 ],
 "metadata": {
  "kernelspec": {
   "display_name": "Python 3",
   "language": "python",
   "name": "python3"
  },
  "language_info": {
   "codemirror_mode": {
    "name": "ipython",
    "version": 3
   },
   "file_extension": ".py",
   "mimetype": "text/x-python",
   "name": "python",
   "nbconvert_exporter": "python",
   "pygments_lexer": "ipython3",
   "version": "3.8.5"
  }
 },
 "nbformat": 4,
 "nbformat_minor": 4
}
