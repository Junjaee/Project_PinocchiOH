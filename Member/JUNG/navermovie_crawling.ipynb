{
 "cells": [
  {
   "cell_type": "code",
   "execution_count": 1,
   "metadata": {},
   "outputs": [],
   "source": [
    "from wordcloud import WordCloud \n",
    "import matplotlib.pyplot as plt \n",
    "import nltk \n",
    "from nltk.corpus import stopwords\n",
    "import numpy as np\n",
    "import pandas as pd\n",
    "import matplotlib.pyplot as plt\n",
    "\n",
    "import matplotlib as mpl #->한글 깨지는 거때매 추가하는거\n",
    "import matplotlib.font_manager as fm  #-> 폰트 지정가능\n",
    "\n",
    "import seaborn as sns\n",
    "\n",
    "\n",
    "# 한글 설정\n",
    "import matplotlib as mpl\n",
    "mpl.rc('font', family='AppleGothic')\n",
    "plt.rcParams['axes.unicode_minus'] = False \n",
    "\n",
    "import time\n",
    "from tqdm import tqdm_notebook\n"
   ]
  },
  {
   "cell_type": "code",
   "execution_count": 109,
   "metadata": {
    "scrolled": true
   },
   "outputs": [
    {
     "name": "stdout",
     "output_type": "stream",
     "text": [
      "10\n",
      "방법: 재차의 :: 10 :: 내용이 풍부하고 추리하는게 재밋어요 :: anny****\n",
      "-------------------------------------------------\n"
     ]
    },
    {
     "name": "stderr",
     "output_type": "stream",
     "text": [
      "/opt/anaconda3/lib/python3.8/site-packages/bs4/__init__.py:177: UserWarning: No parser was explicitly specified, so I'm using the best available HTML parser for this system (\"lxml\"). This usually isn't a problem, but if you run this code on another system, or in a different virtual environment, it may use a different parser and behave differently.\n",
      "\n",
      "The code that caused this warning is on line 194 of the file /opt/anaconda3/lib/python3.8/runpy.py. To get rid of this warning, change code that looks like this:\n",
      "\n",
      " BeautifulSoup(YOUR_MARKUP})\n",
      "\n",
      "to this:\n",
      "\n",
      " BeautifulSoup(YOUR_MARKUP, \"lxml\")\n",
      "\n",
      "  warnings.warn(self.NO_PARSER_SPECIFIED_WARNING % dict(\n"
     ]
    }
   ],
   "source": [
    "import requests\n",
    "from urllib import parse\n",
    "from bs4 import BeautifulSoup\n",
    "base_url = 'https://movie.naver.com/movie/point/af/list.nhn?&page={}'\n",
    "url = base_url.format(1)\n",
    "res=requests.get(url)\n",
    "\n",
    "if res.status_code == 200:\n",
    "    soup = BeautifulSoup(res.text)\n",
    "    \n",
    "    tds = soup.select('table.list_netizen > tbody > tr')\n",
    "    print(len(tds))\n",
    "    for td in tds:\n",
    "        movie_title = td.select_one('td.title > a.movie').text.strip()\n",
    "        score = td.select_one('td.title > div.list_netizen_score > em').text.strip()\n",
    "        comment = td.select_one('td.title > br').next_sibling.strip() #textnode 인 경우 text 로 조회할 필요 없다\n",
    "        user_id = td.select_one('td.num > a.author').text.strip()\n",
    "        \n",
    "        \n",
    "    print(movie_title, score, comment, user_id, sep=' :: ')\n",
    "        \n",
    "    print('-------------------------------------------------')"
   ]
  },
  {
   "cell_type": "code",
   "execution_count": 110,
   "metadata": {},
   "outputs": [
    {
     "data": {
      "text/plain": [
       "0.5781692827648626"
      ]
     },
     "execution_count": 110,
     "metadata": {},
     "output_type": "execute_result"
    }
   ],
   "source": [
    "import random\n",
    "random.uniform(0.2, 1.2) #이 사이의 실수를 동일한 확률로 나오게 한다."
   ]
  },
  {
   "cell_type": "code",
   "execution_count": 118,
   "metadata": {},
   "outputs": [
    {
     "name": "stdout",
     "output_type": "stream",
     "text": [
      "종료\n"
     ]
    }
   ],
   "source": [
    "import requests\n",
    "import time\n",
    "import random\n",
    "from bs4 import BeautifulSoup\n",
    "\n",
    "\n",
    "base_url = 'https://movie.naver.com/movie/point/af/list.nhn?&page={}'\n",
    "#결과 저장할 리스트\n",
    "comment_list = []\n",
    "#총 1~1000page 까지 있으니, (1,1001)로 range 잡고 하면됨\n",
    "for page in range(500, 1001):\n",
    "    url = base_url.format(page)\n",
    "    res=requests.get(url)\n",
    "    if res.status_code == 200:\n",
    "        soup = BeautifulSoup(res.text, 'lxml')\n",
    "        tds = soup.select('table.list_netizen > tbody > tr')\n",
    "        for td in tds:\n",
    "            movie_title = td.select_one('td.title > a.movie').text.strip()\n",
    "            score = td.select_one('td.title > div.list_netizen_score > em').text.strip()\n",
    "            comment = td.select_one('td.title > br').next_sibling.strip() #textnode 인 경우 text 로 조회할 필요 없다\n",
    "            user_id = td.select_one('td.num > a.author').text.strip()\n",
    "            # 리스트에 저장\n",
    "            comment_list.append((movie_title, user_id, score, comment))\n",
    "        interval = round(random.uniform(0.2, 1.2), 2)\n",
    "        time.sleep(interval)\n",
    "print('종료') \n"
   ]
  },
  {
   "cell_type": "code",
   "execution_count": 119,
   "metadata": {},
   "outputs": [],
   "source": [
    "import pandas as pd\n",
    "df = pd.DataFrame(comment_list, \n",
    "                  columns=['영화제목','아이디', '평점','댓글'])\n",
    "df.to_csv('naver_movie_review_data_part_2.csv', encoding='utf-8', index=False)"
   ]
  },
  {
   "cell_type": "code",
   "execution_count": 120,
   "metadata": {},
   "outputs": [
    {
     "data": {
      "text/html": [
       "<div>\n",
       "<style scoped>\n",
       "    .dataframe tbody tr th:only-of-type {\n",
       "        vertical-align: middle;\n",
       "    }\n",
       "\n",
       "    .dataframe tbody tr th {\n",
       "        vertical-align: top;\n",
       "    }\n",
       "\n",
       "    .dataframe thead th {\n",
       "        text-align: right;\n",
       "    }\n",
       "</style>\n",
       "<table border=\"1\" class=\"dataframe\">\n",
       "  <thead>\n",
       "    <tr style=\"text-align: right;\">\n",
       "      <th></th>\n",
       "      <th>영화제목</th>\n",
       "      <th>아이디</th>\n",
       "      <th>평점</th>\n",
       "      <th>댓글</th>\n",
       "    </tr>\n",
       "  </thead>\n",
       "  <tbody>\n",
       "    <tr>\n",
       "      <th>0</th>\n",
       "      <td>히트맨</td>\n",
       "      <td>kimy****</td>\n",
       "      <td>10</td>\n",
       "      <td>새벽에 보면서 개처웃음 배우들 연기가 진짜 웃김 영화관에서 봤으면 의자에서 떨어질 ...</td>\n",
       "    </tr>\n",
       "    <tr>\n",
       "      <th>1</th>\n",
       "      <td>바르게 살자</td>\n",
       "      <td>soos****</td>\n",
       "      <td>10</td>\n",
       "      <td>뜬금영상미까지완벽해당황스러운영화</td>\n",
       "    </tr>\n",
       "    <tr>\n",
       "      <th>2</th>\n",
       "      <td>블랙 위도우</td>\n",
       "      <td>holy****</td>\n",
       "      <td>9</td>\n",
       "      <td>나타샤의 마지막, 함께해서 그동안 행복했습니다.</td>\n",
       "    </tr>\n",
       "    <tr>\n",
       "      <th>3</th>\n",
       "      <td>아저씨</td>\n",
       "      <td>jack****</td>\n",
       "      <td>10</td>\n",
       "      <td>보고싶다보고싶네또보고싶네 ㅋㅋ</td>\n",
       "    </tr>\n",
       "    <tr>\n",
       "      <th>4</th>\n",
       "      <td>먼 훗날 우리</td>\n",
       "      <td>othe****</td>\n",
       "      <td>10</td>\n",
       "      <td>인생, 누구에게나 돌이킬 수 없는 시간의 배열. 지나간 것들에 대한 아쉬움. 돌이킬...</td>\n",
       "    </tr>\n",
       "    <tr>\n",
       "      <th>...</th>\n",
       "      <td>...</td>\n",
       "      <td>...</td>\n",
       "      <td>...</td>\n",
       "      <td>...</td>\n",
       "    </tr>\n",
       "    <tr>\n",
       "      <th>5005</th>\n",
       "      <td>블랙 위도우</td>\n",
       "      <td>star****</td>\n",
       "      <td>10</td>\n",
       "      <td>돌아와요 블랙위도우 코로나때문에 관객수 안타깝....</td>\n",
       "    </tr>\n",
       "    <tr>\n",
       "      <th>5006</th>\n",
       "      <td>황해</td>\n",
       "      <td>qkqh****</td>\n",
       "      <td>10</td>\n",
       "      <td>굿 평점이 너무 낮네요ㄴ</td>\n",
       "    </tr>\n",
       "    <tr>\n",
       "      <th>5007</th>\n",
       "      <td>나이브스 아웃</td>\n",
       "      <td>whdd****</td>\n",
       "      <td>8</td>\n",
       "      <td>추리소설 읽은 느낌의 영화. 깔끔한 결말이 좋았음</td>\n",
       "    </tr>\n",
       "    <tr>\n",
       "      <th>5008</th>\n",
       "      <td>레디 플레이어 원</td>\n",
       "      <td>dong****</td>\n",
       "      <td>10</td>\n",
       "      <td>저런 세상이 올려면 인간이 뇌를 컨트롤 할 수 있어야 하겠지? 이번생에는 글렀군</td>\n",
       "    </tr>\n",
       "    <tr>\n",
       "      <th>5009</th>\n",
       "      <td>문라이트</td>\n",
       "      <td>airk****</td>\n",
       "      <td>8</td>\n",
       "      <td>어두운곳에서 아주 작은 빛은 아름답다.</td>\n",
       "    </tr>\n",
       "  </tbody>\n",
       "</table>\n",
       "<p>5010 rows × 4 columns</p>\n",
       "</div>"
      ],
      "text/plain": [
       "           영화제목       아이디  평점  \\\n",
       "0           히트맨  kimy****  10   \n",
       "1        바르게 살자  soos****  10   \n",
       "2        블랙 위도우  holy****   9   \n",
       "3           아저씨  jack****  10   \n",
       "4       먼 훗날 우리  othe****  10   \n",
       "...         ...       ...  ..   \n",
       "5005     블랙 위도우  star****  10   \n",
       "5006         황해  qkqh****  10   \n",
       "5007    나이브스 아웃  whdd****   8   \n",
       "5008  레디 플레이어 원  dong****  10   \n",
       "5009       문라이트  airk****   8   \n",
       "\n",
       "                                                     댓글  \n",
       "0     새벽에 보면서 개처웃음 배우들 연기가 진짜 웃김 영화관에서 봤으면 의자에서 떨어질 ...  \n",
       "1                                     뜬금영상미까지완벽해당황스러운영화  \n",
       "2                            나타샤의 마지막, 함께해서 그동안 행복했습니다.  \n",
       "3                                      보고싶다보고싶네또보고싶네 ㅋㅋ  \n",
       "4     인생, 누구에게나 돌이킬 수 없는 시간의 배열. 지나간 것들에 대한 아쉬움. 돌이킬...  \n",
       "...                                                 ...  \n",
       "5005                      돌아와요 블랙위도우 코로나때문에 관객수 안타깝....  \n",
       "5006                                      굿 평점이 너무 낮네요ㄴ  \n",
       "5007                        추리소설 읽은 느낌의 영화. 깔끔한 결말이 좋았음  \n",
       "5008       저런 세상이 올려면 인간이 뇌를 컨트롤 할 수 있어야 하겠지? 이번생에는 글렀군  \n",
       "5009                              어두운곳에서 아주 작은 빛은 아름답다.  \n",
       "\n",
       "[5010 rows x 4 columns]"
      ]
     },
     "execution_count": 120,
     "metadata": {},
     "output_type": "execute_result"
    }
   ],
   "source": [
    "pd.read_csv('naver_movie_review_data_part_2.csv')"
   ]
  },
  {
   "cell_type": "code",
   "execution_count": null,
   "metadata": {},
   "outputs": [],
   "source": []
  },
  {
   "cell_type": "code",
   "execution_count": null,
   "metadata": {},
   "outputs": [],
   "source": []
  }
 ],
 "metadata": {
  "kernelspec": {
   "display_name": "Python 3",
   "language": "python",
   "name": "python3"
  },
  "language_info": {
   "codemirror_mode": {
    "name": "ipython",
    "version": 3
   },
   "file_extension": ".py",
   "mimetype": "text/x-python",
   "name": "python",
   "nbconvert_exporter": "python",
   "pygments_lexer": "ipython3",
   "version": "3.8.5"
  }
 },
 "nbformat": 4,
 "nbformat_minor": 4
}
